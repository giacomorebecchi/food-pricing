{
 "cells": [
  {
   "cell_type": "code",
   "execution_count": 1,
   "metadata": {},
   "outputs": [],
   "source": [
    "from src.models.clip import FPCLIPWeightedConcatModel"
   ]
  },
  {
   "cell_type": "code",
   "execution_count": 2,
   "metadata": {},
   "outputs": [
    {
     "name": "stdout",
     "output_type": "stream",
     "text": [
      "Path /home/ubuntu/Documents/thesis/food-pricing/models/FPCLIPWeightedConcatModel did not exist. Created it.\n"
     ]
    }
   ],
   "source": [
    "model = FPCLIPWeightedConcatModel()"
   ]
  },
  {
   "cell_type": "code",
   "execution_count": 3,
   "metadata": {},
   "outputs": [
    {
     "name": "stderr",
     "output_type": "stream",
     "text": [
      "GPU available: False, used: False\n",
      "TPU available: False, using: 0 TPU cores\n",
      "IPU available: False, using: 0 IPUs\n",
      "HPU available: False, using: 0 HPUs\n",
      "Missing logger folder: /home/ubuntu/Documents/thesis/food-pricing/models/FPCLIPWeightedConcatModel/lightning_logs\n",
      "\n",
      "  | Name             | Type                                | Params\n",
      "-------------------------------------------------------------------------\n",
      "0 | clip             | PreTrainedCLIP                      | 199 M \n",
      "1 | weighting_module | LanguageAndVisionWeightedImportance | 199 M \n",
      "2 | model            | LanguageAndVisionConcat             | 199 M \n",
      "-------------------------------------------------------------------------\n",
      "617 K     Trainable params\n",
      "198 M     Non-trainable params\n",
      "199 M     Total params\n",
      "798.221   Total estimated model params size (MB)\n"
     ]
    },
    {
     "data": {
      "application/vnd.jupyter.widget-view+json": {
       "model_id": "ef523cf157104e8283a155c9b33076d8",
       "version_major": 2,
       "version_minor": 0
      },
      "text/plain": [
       "Sanity Checking: 0it [00:00, ?it/s]"
      ]
     },
     "metadata": {},
     "output_type": "display_data"
    },
    {
     "data": {
      "application/vnd.jupyter.widget-view+json": {
       "model_id": "0ec7a2fba5b746899b1a0f7b6c8a8b25",
       "version_major": 2,
       "version_minor": 0
      },
      "text/plain": [
       "Training: 0it [00:00, ?it/s]"
      ]
     },
     "metadata": {},
     "output_type": "display_data"
    },
    {
     "data": {
      "application/vnd.jupyter.widget-view+json": {
       "model_id": "a7894331bded43069e99b7f403ba1476",
       "version_major": 2,
       "version_minor": 0
      },
      "text/plain": [
       "Validation: 0it [00:00, ?it/s]"
      ]
     },
     "metadata": {},
     "output_type": "display_data"
    },
    {
     "name": "stderr",
     "output_type": "stream",
     "text": [
      "Metric avg_val_loss improved. New best score: 216504.234\n",
      "Epoch 0, global step 155: 'avg_val_loss' reached 216504.23438 (best 216504.23438), saving model to '/home/ubuntu/Documents/thesis/food-pricing/models/FPCLIPWeightedConcatModel/epoch=0-avg_val_loss=216504.23.ckpt' as top 1\n"
     ]
    },
    {
     "data": {
      "application/vnd.jupyter.widget-view+json": {
       "model_id": "4d4082c2810e408485295dd63f0b7509",
       "version_major": 2,
       "version_minor": 0
      },
      "text/plain": [
       "Validation: 0it [00:00, ?it/s]"
      ]
     },
     "metadata": {},
     "output_type": "display_data"
    },
    {
     "name": "stderr",
     "output_type": "stream",
     "text": [
      "Metric avg_val_loss improved by 26464.391 >= min_delta = 0.001. New best score: 190039.844\n",
      "Epoch 1, global step 310: 'avg_val_loss' reached 190039.84375 (best 190039.84375), saving model to '/home/ubuntu/Documents/thesis/food-pricing/models/FPCLIPWeightedConcatModel/epoch=1-avg_val_loss=190039.84.ckpt' as top 1\n"
     ]
    },
    {
     "data": {
      "application/vnd.jupyter.widget-view+json": {
       "model_id": "27699917bf094e6ea505defdcccf8c8d",
       "version_major": 2,
       "version_minor": 0
      },
      "text/plain": [
       "Validation: 0it [00:00, ?it/s]"
      ]
     },
     "metadata": {},
     "output_type": "display_data"
    },
    {
     "name": "stderr",
     "output_type": "stream",
     "text": [
      "Metric avg_val_loss improved by 9597.953 >= min_delta = 0.001. New best score: 180441.891\n",
      "Epoch 2, global step 465: 'avg_val_loss' reached 180441.89062 (best 180441.89062), saving model to '/home/ubuntu/Documents/thesis/food-pricing/models/FPCLIPWeightedConcatModel/epoch=2-avg_val_loss=180441.89.ckpt' as top 1\n"
     ]
    },
    {
     "data": {
      "application/vnd.jupyter.widget-view+json": {
       "model_id": "02ea978bfa914ea7a2c3e075db0c720e",
       "version_major": 2,
       "version_minor": 0
      },
      "text/plain": [
       "Validation: 0it [00:00, ?it/s]"
      ]
     },
     "metadata": {},
     "output_type": "display_data"
    },
    {
     "name": "stderr",
     "output_type": "stream",
     "text": [
      "Metric avg_val_loss improved by 7655.297 >= min_delta = 0.001. New best score: 172786.594\n",
      "Epoch 3, global step 620: 'avg_val_loss' reached 172786.59375 (best 172786.59375), saving model to '/home/ubuntu/Documents/thesis/food-pricing/models/FPCLIPWeightedConcatModel/epoch=3-avg_val_loss=172786.59.ckpt' as top 1\n"
     ]
    },
    {
     "data": {
      "application/vnd.jupyter.widget-view+json": {
       "model_id": "299b99a022b045fbbde4b9fc9b7433e1",
       "version_major": 2,
       "version_minor": 0
      },
      "text/plain": [
       "Validation: 0it [00:00, ?it/s]"
      ]
     },
     "metadata": {},
     "output_type": "display_data"
    },
    {
     "name": "stderr",
     "output_type": "stream",
     "text": [
      "Metric avg_val_loss improved by 5682.359 >= min_delta = 0.001. New best score: 167104.234\n",
      "Epoch 4, global step 775: 'avg_val_loss' reached 167104.23438 (best 167104.23438), saving model to '/home/ubuntu/Documents/thesis/food-pricing/models/FPCLIPWeightedConcatModel/epoch=4-avg_val_loss=167104.23.ckpt' as top 1\n"
     ]
    },
    {
     "data": {
      "application/vnd.jupyter.widget-view+json": {
       "model_id": "4e97e7267f8049b590e010034533f414",
       "version_major": 2,
       "version_minor": 0
      },
      "text/plain": [
       "Validation: 0it [00:00, ?it/s]"
      ]
     },
     "metadata": {},
     "output_type": "display_data"
    },
    {
     "name": "stderr",
     "output_type": "stream",
     "text": [
      "Metric avg_val_loss improved by 5096.609 >= min_delta = 0.001. New best score: 162007.625\n",
      "Epoch 5, global step 930: 'avg_val_loss' reached 162007.62500 (best 162007.62500), saving model to '/home/ubuntu/Documents/thesis/food-pricing/models/FPCLIPWeightedConcatModel/epoch=5-avg_val_loss=162007.62.ckpt' as top 1\n"
     ]
    },
    {
     "data": {
      "application/vnd.jupyter.widget-view+json": {
       "model_id": "81f4c603c8da4302bd6894e5d30e3698",
       "version_major": 2,
       "version_minor": 0
      },
      "text/plain": [
       "Validation: 0it [00:00, ?it/s]"
      ]
     },
     "metadata": {},
     "output_type": "display_data"
    },
    {
     "name": "stderr",
     "output_type": "stream",
     "text": [
      "Metric avg_val_loss improved by 3285.641 >= min_delta = 0.001. New best score: 158721.984\n",
      "Epoch 6, global step 1085: 'avg_val_loss' reached 158721.98438 (best 158721.98438), saving model to '/home/ubuntu/Documents/thesis/food-pricing/models/FPCLIPWeightedConcatModel/epoch=6-avg_val_loss=158721.98.ckpt' as top 1\n"
     ]
    },
    {
     "data": {
      "application/vnd.jupyter.widget-view+json": {
       "model_id": "fc17c26cca8444978c4e8799bf84c714",
       "version_major": 2,
       "version_minor": 0
      },
      "text/plain": [
       "Validation: 0it [00:00, ?it/s]"
      ]
     },
     "metadata": {},
     "output_type": "display_data"
    },
    {
     "name": "stderr",
     "output_type": "stream",
     "text": [
      "Epoch 7, global step 1240: 'avg_val_loss' was not in top 1\n"
     ]
    },
    {
     "data": {
      "application/vnd.jupyter.widget-view+json": {
       "model_id": "4c013656001c4a278b16469a8139eb18",
       "version_major": 2,
       "version_minor": 0
      },
      "text/plain": [
       "Validation: 0it [00:00, ?it/s]"
      ]
     },
     "metadata": {},
     "output_type": "display_data"
    },
    {
     "name": "stderr",
     "output_type": "stream",
     "text": [
      "Epoch 8, global step 1395: 'avg_val_loss' was not in top 1\n"
     ]
    },
    {
     "data": {
      "application/vnd.jupyter.widget-view+json": {
       "model_id": "79cde2bbf9334e88a9ffd9fe874d0ddb",
       "version_major": 2,
       "version_minor": 0
      },
      "text/plain": [
       "Validation: 0it [00:00, ?it/s]"
      ]
     },
     "metadata": {},
     "output_type": "display_data"
    },
    {
     "name": "stderr",
     "output_type": "stream",
     "text": [
      "Metric avg_val_loss improved by 15627.734 >= min_delta = 0.001. New best score: 143094.250\n",
      "Epoch 9, global step 1550: 'avg_val_loss' reached 143094.25000 (best 143094.25000), saving model to '/home/ubuntu/Documents/thesis/food-pricing/models/FPCLIPWeightedConcatModel/epoch=9-avg_val_loss=143094.25.ckpt' as top 1\n"
     ]
    },
    {
     "data": {
      "application/vnd.jupyter.widget-view+json": {
       "model_id": "c583a878dbd841baacb432bf3e5b5204",
       "version_major": 2,
       "version_minor": 0
      },
      "text/plain": [
       "Validation: 0it [00:00, ?it/s]"
      ]
     },
     "metadata": {},
     "output_type": "display_data"
    },
    {
     "name": "stderr",
     "output_type": "stream",
     "text": [
      "Metric avg_val_loss improved by 14137.570 >= min_delta = 0.001. New best score: 128956.680\n",
      "Epoch 10, global step 1705: 'avg_val_loss' reached 128956.67969 (best 128956.67969), saving model to '/home/ubuntu/Documents/thesis/food-pricing/models/FPCLIPWeightedConcatModel/epoch=10-avg_val_loss=128956.68.ckpt' as top 1\n"
     ]
    },
    {
     "data": {
      "application/vnd.jupyter.widget-view+json": {
       "model_id": "218889f4bfa848d4ba30c432cea52b39",
       "version_major": 2,
       "version_minor": 0
      },
      "text/plain": [
       "Validation: 0it [00:00, ?it/s]"
      ]
     },
     "metadata": {},
     "output_type": "display_data"
    },
    {
     "name": "stderr",
     "output_type": "stream",
     "text": [
      "Metric avg_val_loss improved by 2207.414 >= min_delta = 0.001. New best score: 126749.266\n",
      "Epoch 11, global step 1860: 'avg_val_loss' reached 126749.26562 (best 126749.26562), saving model to '/home/ubuntu/Documents/thesis/food-pricing/models/FPCLIPWeightedConcatModel/epoch=11-avg_val_loss=126749.27.ckpt' as top 1\n"
     ]
    },
    {
     "data": {
      "application/vnd.jupyter.widget-view+json": {
       "model_id": "d83a4c3e46e64857aeb798c5c2308c84",
       "version_major": 2,
       "version_minor": 0
      },
      "text/plain": [
       "Validation: 0it [00:00, ?it/s]"
      ]
     },
     "metadata": {},
     "output_type": "display_data"
    },
    {
     "name": "stderr",
     "output_type": "stream",
     "text": [
      "Metric avg_val_loss improved by 3829.430 >= min_delta = 0.001. New best score: 122919.836\n",
      "Epoch 12, global step 2015: 'avg_val_loss' reached 122919.83594 (best 122919.83594), saving model to '/home/ubuntu/Documents/thesis/food-pricing/models/FPCLIPWeightedConcatModel/epoch=12-avg_val_loss=122919.84.ckpt' as top 1\n",
      "/home/ubuntu/mambaforge/envs/food-pricing/lib/python3.9/site-packages/pytorch_lightning/trainer/trainer.py:726: UserWarning: Detected KeyboardInterrupt, attempting graceful shutdown...\n",
      "  rank_zero_warn(\"Detected KeyboardInterrupt, attempting graceful shutdown...\")\n"
     ]
    }
   ],
   "source": [
    "model.fit()"
   ]
  },
  {
   "cell_type": "code",
   "execution_count": null,
   "metadata": {},
   "outputs": [],
   "source": []
  }
 ],
 "metadata": {
  "kernelspec": {
   "display_name": "Python 3.9.13 ('food-pricing')",
   "language": "python",
   "name": "python3"
  },
  "language_info": {
   "codemirror_mode": {
    "name": "ipython",
    "version": 3
   },
   "file_extension": ".py",
   "mimetype": "text/x-python",
   "name": "python",
   "nbconvert_exporter": "python",
   "pygments_lexer": "ipython3",
   "version": "3.9.13"
  },
  "orig_nbformat": 4,
  "vscode": {
   "interpreter": {
    "hash": "7baf0a9355b2187f13b56e3fae033a6ce164fc9add6d7138e9a4da0d4f49a6ad"
   }
  }
 },
 "nbformat": 4,
 "nbformat_minor": 2
}
