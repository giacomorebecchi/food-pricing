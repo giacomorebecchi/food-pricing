{
 "cells": [
  {
   "cell_type": "code",
   "execution_count": 1,
   "id": "8df59ac6",
   "metadata": {},
   "outputs": [],
   "source": [
    "from src.models.xgb import XGBCLIP"
   ]
  },
  {
   "cell_type": "code",
   "execution_count": 2,
   "id": "c876f8e7",
   "metadata": {},
   "outputs": [
    {
     "name": "stderr",
     "output_type": "stream",
     "text": [
      "Creating train dataset: 100%|██████████| 155/155 [03:09<00:00,  1.22s/it]\n",
      "Creating dev dataset: 100%|██████████| 34/34 [00:49<00:00,  1.45s/it]\n",
      "Creating test dataset: 100%|██████████| 34/34 [00:44<00:00,  1.30s/it]\n"
     ]
    }
   ],
   "source": [
    "xgb = XGBCLIP()"
   ]
  },
  {
   "cell_type": "code",
   "execution_count": 3,
   "id": "be3b7943",
   "metadata": {},
   "outputs": [
    {
     "name": "stdout",
     "output_type": "stream",
     "text": [
      "Found 36 different params combinations\n",
      "Found a new optimal parametrization with score: 345.7011380366614\n",
      "Found a new optimal parametrization with score: 333.4872013840879\n",
      "Found a new optimal parametrization with score: 333.41645971629106\n",
      "Found a new optimal parametrization with score: 332.61443685130575\n",
      "Found a new optimal parametrization with score: 325.96708056539194\n",
      "Found a new optimal parametrization with score: 323.2433662483349\n",
      "The optimal model has the following parameters:  {'booster': 'gbtree', 'tree_method': 'hist', 'colsample_bytree': 1, 'objective': 'reg:squarederror', 'eta': 0.3, 'max_depth': 6, 'subsample': 0.8}\n"
     ]
    }
   ],
   "source": [
    "xgb.fit()"
   ]
  },
  {
   "cell_type": "code",
   "execution_count": null,
   "id": "ceea8232",
   "metadata": {},
   "outputs": [],
   "source": []
  }
 ],
 "metadata": {
  "kernelspec": {
   "display_name": "Python 3 (ipykernel)",
   "language": "python",
   "name": "python3"
  },
  "language_info": {
   "codemirror_mode": {
    "name": "ipython",
    "version": 3
   },
   "file_extension": ".py",
   "mimetype": "text/x-python",
   "name": "python",
   "nbconvert_exporter": "python",
   "pygments_lexer": "ipython3",
   "version": "3.9.13"
  },
  "vscode": {
   "interpreter": {
    "hash": "7baf0a9355b2187f13b56e3fae033a6ce164fc9add6d7138e9a4da0d4f49a6ad"
   }
  }
 },
 "nbformat": 4,
 "nbformat_minor": 5
}
