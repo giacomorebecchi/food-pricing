{
 "cells": [
  {
   "cell_type": "code",
   "execution_count": 1,
   "id": "cbfb8a5d-b410-44b9-8d49-2b6bda8204f9",
   "metadata": {},
   "outputs": [],
   "source": [
    "from src.models.baseline import FPBaselineConcatModel\n",
    "from src.models.utils.storage import get_best_checkpoint_path"
   ]
  },
  {
   "cell_type": "code",
   "execution_count": 2,
   "id": "09511c63",
   "metadata": {},
   "outputs": [
    {
     "name": "stderr",
     "output_type": "stream",
     "text": [
      "Read 0M words\n",
      "Number of words:  1724\n",
      "Number of labels: 0\n",
      "Progress: 100.0% words/sec/thread:  100125 lr:  0.000000 avg.loss:  3.096141 ETA:   0h 0m 0s\n",
      "/home/giacomorebecchi/mambaforge/envs/food-pricing/lib/python3.9/site-packages/torchvision/models/_utils.py:208: UserWarning: The parameter 'pretrained' is deprecated since 0.13 and will be removed in 0.15, please use 'weights' instead.\n",
      "  warnings.warn(\n",
      "/home/giacomorebecchi/mambaforge/envs/food-pricing/lib/python3.9/site-packages/torchvision/models/_utils.py:223: UserWarning: Arguments other than a weight enum or `None` for 'weights' are deprecated since 0.13 and will be removed in 0.15. The current behavior is equivalent to passing `weights=ResNet152_Weights.IMAGENET1K_V1`. You can also use `weights=ResNet152_Weights.DEFAULT` to get the most up-to-date weights.\n",
      "  warnings.warn(msg)\n"
     ]
    }
   ],
   "source": [
    "best_checkpoint_path = get_best_checkpoint_path(\n",
    "    model_class=FPBaselineConcatModel,\n",
    ")\n",
    "best_model = FPBaselineConcatModel.load_from_checkpoint(\n",
    "    checkpoint_path=best_checkpoint_path\n",
    ")"
   ]
  },
  {
   "cell_type": "code",
   "execution_count": 3,
   "id": "0a2c530c",
   "metadata": {},
   "outputs": [
    {
     "name": "stderr",
     "output_type": "stream",
     "text": [
      "100%|███████████████████████████████████████████████████████████████████████████████████| 34/34 [02:52<00:00,  5.06s/it]\n"
     ]
    }
   ],
   "source": [
    "submission = best_model.make_submission_frame()"
   ]
  },
  {
   "cell_type": "code",
   "execution_count": 4,
   "id": "c77b60dc",
   "metadata": {},
   "outputs": [
    {
     "data": {
      "text/html": [
       "<div>\n",
       "<style scoped>\n",
       "    .dataframe tbody tr th:only-of-type {\n",
       "        vertical-align: middle;\n",
       "    }\n",
       "\n",
       "    .dataframe tbody tr th {\n",
       "        vertical-align: top;\n",
       "    }\n",
       "\n",
       "    .dataframe thead th {\n",
       "        text-align: right;\n",
       "    }\n",
       "</style>\n",
       "<table border=\"1\" class=\"dataframe\">\n",
       "  <thead>\n",
       "    <tr style=\"text-align: right;\">\n",
       "      <th></th>\n",
       "      <th>true</th>\n",
       "      <th>pred</th>\n",
       "    </tr>\n",
       "    <tr>\n",
       "      <th>item_id</th>\n",
       "      <th></th>\n",
       "      <th></th>\n",
       "    </tr>\n",
       "  </thead>\n",
       "  <tbody>\n",
       "    <tr>\n",
       "      <th>bergamo_alzano-lombardo_pony-burger_5</th>\n",
       "      <td>850.0</td>\n",
       "      <td>721.585144</td>\n",
       "    </tr>\n",
       "    <tr>\n",
       "      <th>bergamo_centro-storico_bar-mada_1</th>\n",
       "      <td>1490.0</td>\n",
       "      <td>850.015503</td>\n",
       "    </tr>\n",
       "    <tr>\n",
       "      <th>bergamo_centro-storico_bar-mada_14</th>\n",
       "      <td>500.0</td>\n",
       "      <td>542.176086</td>\n",
       "    </tr>\n",
       "    <tr>\n",
       "      <th>bergamo_centro-storico_bar-mada_17</th>\n",
       "      <td>1240.0</td>\n",
       "      <td>816.957642</td>\n",
       "    </tr>\n",
       "    <tr>\n",
       "      <th>bergamo_centro-storico_bar-mada_24</th>\n",
       "      <td>490.0</td>\n",
       "      <td>720.135986</td>\n",
       "    </tr>\n",
       "    <tr>\n",
       "      <th>...</th>\n",
       "      <td>...</td>\n",
       "      <td>...</td>\n",
       "    </tr>\n",
       "    <tr>\n",
       "      <th>roma_villaggio-olimpico_enso_7</th>\n",
       "      <td>350.0</td>\n",
       "      <td>520.11438</td>\n",
       "    </tr>\n",
       "    <tr>\n",
       "      <th>roma_villaggio-olimpico_enso_75</th>\n",
       "      <td>2000.0</td>\n",
       "      <td>867.762268</td>\n",
       "    </tr>\n",
       "    <tr>\n",
       "      <th>roma_villaggio-olimpico_enso_78</th>\n",
       "      <td>1000.0</td>\n",
       "      <td>539.628723</td>\n",
       "    </tr>\n",
       "    <tr>\n",
       "      <th>roma_villaggio-olimpico_enso_80</th>\n",
       "      <td>800.0</td>\n",
       "      <td>508.900238</td>\n",
       "    </tr>\n",
       "    <tr>\n",
       "      <th>roma_villaggio-olimpico_enso_82</th>\n",
       "      <td>1000.0</td>\n",
       "      <td>737.932251</td>\n",
       "    </tr>\n",
       "  </tbody>\n",
       "</table>\n",
       "<p>1060 rows × 2 columns</p>\n",
       "</div>"
      ],
      "text/plain": [
       "                                         true        pred\n",
       "item_id                                                  \n",
       "bergamo_alzano-lombardo_pony-burger_5   850.0  721.585144\n",
       "bergamo_centro-storico_bar-mada_1      1490.0  850.015503\n",
       "bergamo_centro-storico_bar-mada_14      500.0  542.176086\n",
       "bergamo_centro-storico_bar-mada_17     1240.0  816.957642\n",
       "bergamo_centro-storico_bar-mada_24      490.0  720.135986\n",
       "...                                       ...         ...\n",
       "roma_villaggio-olimpico_enso_7          350.0   520.11438\n",
       "roma_villaggio-olimpico_enso_75        2000.0  867.762268\n",
       "roma_villaggio-olimpico_enso_78        1000.0  539.628723\n",
       "roma_villaggio-olimpico_enso_80         800.0  508.900238\n",
       "roma_villaggio-olimpico_enso_82        1000.0  737.932251\n",
       "\n",
       "[1060 rows x 2 columns]"
      ]
     },
     "execution_count": 4,
     "metadata": {},
     "output_type": "execute_result"
    }
   ],
   "source": [
    "submission"
   ]
  },
  {
   "cell_type": "code",
   "execution_count": null,
   "id": "ae267d9c-119b-4750-8db1-90cda28c4d38",
   "metadata": {},
   "outputs": [],
   "source": []
  }
 ],
 "metadata": {
  "kernelspec": {
   "display_name": "Python 3 (ipykernel)",
   "language": "python",
   "name": "python3"
  },
  "language_info": {
   "codemirror_mode": {
    "name": "ipython",
    "version": 3
   },
   "file_extension": ".py",
   "mimetype": "text/x-python",
   "name": "python",
   "nbconvert_exporter": "python",
   "pygments_lexer": "ipython3",
   "version": "3.9.13"
  },
  "vscode": {
   "interpreter": {
    "hash": "702601ed8d75b870f5f0c37432decb0d3d137b5d9ae4e71eeeea979cca3696a0"
   }
  }
 },
 "nbformat": 4,
 "nbformat_minor": 5
}
