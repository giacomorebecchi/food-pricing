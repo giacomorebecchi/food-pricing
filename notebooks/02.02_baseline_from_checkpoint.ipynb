{
 "cells": [
  {
   "cell_type": "code",
   "execution_count": 1,
   "id": "cbfb8a5d-b410-44b9-8d49-2b6bda8204f9",
   "metadata": {},
   "outputs": [],
   "source": [
    "from src.models.baseline import FPCBOWResNet152ConcatBaselineModel\n",
    "from src.models.utils.storage import get_best_checkpoint_path"
   ]
  },
  {
   "cell_type": "code",
   "execution_count": 2,
   "id": "09511c63",
   "metadata": {},
   "outputs": [
    {
     "name": "stderr",
     "output_type": "stream",
     "text": [
      "Warning : `load_model` does not return WordVectorModel or SupervisedModel any more, but a `FastText` object which is very similar.\n"
     ]
    }
   ],
   "source": [
    "best_checkpoint_path = get_best_checkpoint_path(\n",
    "    model_class=FPCBOWResNet152ConcatBaselineModel,\n",
    ")\n",
    "best_model = FPCBOWResNet152ConcatBaselineModel.load_from_checkpoint(\n",
    "    checkpoint_path=best_checkpoint_path\n",
    ")"
   ]
  },
  {
   "cell_type": "code",
   "execution_count": 3,
   "id": "0a2c530c",
   "metadata": {},
   "outputs": [
    {
     "name": "stderr",
     "output_type": "stream",
     "text": [
      "100%|██████████| 34/34 [01:54<00:00,  3.36s/it]\n"
     ]
    }
   ],
   "source": [
    "submission = best_model.make_submission_frame()"
   ]
  },
  {
   "cell_type": "code",
   "execution_count": 4,
   "id": "c77b60dc",
   "metadata": {},
   "outputs": [
    {
     "data": {
      "text/html": [
       "<div>\n",
       "<style scoped>\n",
       "    .dataframe tbody tr th:only-of-type {\n",
       "        vertical-align: middle;\n",
       "    }\n",
       "\n",
       "    .dataframe tbody tr th {\n",
       "        vertical-align: top;\n",
       "    }\n",
       "\n",
       "    .dataframe thead th {\n",
       "        text-align: right;\n",
       "    }\n",
       "</style>\n",
       "<table border=\"1\" class=\"dataframe\">\n",
       "  <thead>\n",
       "    <tr style=\"text-align: right;\">\n",
       "      <th></th>\n",
       "      <th>true</th>\n",
       "      <th>pred</th>\n",
       "    </tr>\n",
       "    <tr>\n",
       "      <th>item_id</th>\n",
       "      <th></th>\n",
       "      <th></th>\n",
       "    </tr>\n",
       "  </thead>\n",
       "  <tbody>\n",
       "    <tr>\n",
       "      <th>bergamo_alzano-lombardo_pony-burger_5</th>\n",
       "      <td>850.0</td>\n",
       "      <td>1082.821167</td>\n",
       "    </tr>\n",
       "    <tr>\n",
       "      <th>bergamo_centro-storico_bar-mada_1</th>\n",
       "      <td>1490.0</td>\n",
       "      <td>821.493774</td>\n",
       "    </tr>\n",
       "    <tr>\n",
       "      <th>bergamo_centro-storico_bar-mada_14</th>\n",
       "      <td>500.0</td>\n",
       "      <td>550.887573</td>\n",
       "    </tr>\n",
       "    <tr>\n",
       "      <th>bergamo_centro-storico_bar-mada_17</th>\n",
       "      <td>1240.0</td>\n",
       "      <td>870.694092</td>\n",
       "    </tr>\n",
       "    <tr>\n",
       "      <th>bergamo_centro-storico_bar-mada_24</th>\n",
       "      <td>490.0</td>\n",
       "      <td>404.03299</td>\n",
       "    </tr>\n",
       "    <tr>\n",
       "      <th>...</th>\n",
       "      <td>...</td>\n",
       "      <td>...</td>\n",
       "    </tr>\n",
       "    <tr>\n",
       "      <th>roma_villaggio-olimpico_enso_7</th>\n",
       "      <td>350.0</td>\n",
       "      <td>353.118378</td>\n",
       "    </tr>\n",
       "    <tr>\n",
       "      <th>roma_villaggio-olimpico_enso_75</th>\n",
       "      <td>2000.0</td>\n",
       "      <td>1564.923096</td>\n",
       "    </tr>\n",
       "    <tr>\n",
       "      <th>roma_villaggio-olimpico_enso_78</th>\n",
       "      <td>1000.0</td>\n",
       "      <td>536.189453</td>\n",
       "    </tr>\n",
       "    <tr>\n",
       "      <th>roma_villaggio-olimpico_enso_80</th>\n",
       "      <td>800.0</td>\n",
       "      <td>311.945374</td>\n",
       "    </tr>\n",
       "    <tr>\n",
       "      <th>roma_villaggio-olimpico_enso_82</th>\n",
       "      <td>1000.0</td>\n",
       "      <td>437.4953</td>\n",
       "    </tr>\n",
       "  </tbody>\n",
       "</table>\n",
       "<p>1060 rows × 2 columns</p>\n",
       "</div>"
      ],
      "text/plain": [
       "                                         true         pred\n",
       "item_id                                                   \n",
       "bergamo_alzano-lombardo_pony-burger_5   850.0  1082.821167\n",
       "bergamo_centro-storico_bar-mada_1      1490.0   821.493774\n",
       "bergamo_centro-storico_bar-mada_14      500.0   550.887573\n",
       "bergamo_centro-storico_bar-mada_17     1240.0   870.694092\n",
       "bergamo_centro-storico_bar-mada_24      490.0    404.03299\n",
       "...                                       ...          ...\n",
       "roma_villaggio-olimpico_enso_7          350.0   353.118378\n",
       "roma_villaggio-olimpico_enso_75        2000.0  1564.923096\n",
       "roma_villaggio-olimpico_enso_78        1000.0   536.189453\n",
       "roma_villaggio-olimpico_enso_80         800.0   311.945374\n",
       "roma_villaggio-olimpico_enso_82        1000.0     437.4953\n",
       "\n",
       "[1060 rows x 2 columns]"
      ]
     },
     "execution_count": 4,
     "metadata": {},
     "output_type": "execute_result"
    }
   ],
   "source": [
    "submission"
   ]
  },
  {
   "cell_type": "code",
   "execution_count": null,
   "id": "ae267d9c-119b-4750-8db1-90cda28c4d38",
   "metadata": {},
   "outputs": [],
   "source": []
  }
 ],
 "metadata": {
  "kernelspec": {
   "display_name": "Python 3.9.13 ('food-pricing')",
   "language": "python",
   "name": "python3"
  },
  "language_info": {
   "codemirror_mode": {
    "name": "ipython",
    "version": 3
   },
   "file_extension": ".py",
   "mimetype": "text/x-python",
   "name": "python",
   "nbconvert_exporter": "python",
   "pygments_lexer": "ipython3",
   "version": "3.9.13"
  },
  "vscode": {
   "interpreter": {
    "hash": "7baf0a9355b2187f13b56e3fae033a6ce164fc9add6d7138e9a4da0d4f49a6ad"
   }
  }
 },
 "nbformat": 4,
 "nbformat_minor": 5
}
