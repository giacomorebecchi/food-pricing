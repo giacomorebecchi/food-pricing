{
 "cells": [
  {
   "cell_type": "code",
   "execution_count": 1,
   "metadata": {},
   "outputs": [
    {
     "data": {
      "text/plain": [
       "True"
      ]
     },
     "execution_count": 1,
     "metadata": {},
     "output_type": "execute_result"
    }
   ],
   "source": [
    "import dask.bag as db\n",
    "from dotenv import load_dotenv\n",
    "from src.data.storage import get_S3_fs\n",
    "from src.features.image_paths import (\n",
    "    get_children,\n",
    "    compute_img,\n",
    "    CITIES_PATH,\n",
    "    ZONES_SUBPATH,\n",
    "    IMGS_SUBPATH,\n",
    "    IMG_PATH_PATTERN,\n",
    ")\n",
    "from dask import delayed\n",
    "\n",
    "load_dotenv()\n"
   ]
  },
  {
   "cell_type": "code",
   "execution_count": 2,
   "metadata": {},
   "outputs": [],
   "source": [
    "S3 = get_S3_fs()\n",
    "zone_paths = [\n",
    "    zone\n",
    "    for city in get_children(S3, \"\", CITIES_PATH)\n",
    "    for zone in get_children(S3, city, ZONES_SUBPATH)\n",
    "]\n",
    "img_paths = [\n",
    "    delayed(get_children)(S3, zone_path, IMGS_SUBPATH) for zone_path in zone_paths\n",
    "]\n",
    "img_data = [\n",
    "    compute_img(img_paths_zone, IMG_PATH_PATTERN) for img_paths_zone in img_paths\n",
    "]\n",
    "ddf = db.from_delayed(img_data).to_dataframe()"
   ]
  },
  {
   "cell_type": "code",
   "execution_count": 3,
   "metadata": {},
   "outputs": [
    {
     "data": {
      "text/html": [
       "<div>\n",
       "<style scoped>\n",
       "    .dataframe tbody tr th:only-of-type {\n",
       "        vertical-align: middle;\n",
       "    }\n",
       "\n",
       "    .dataframe tbody tr th {\n",
       "        vertical-align: top;\n",
       "    }\n",
       "\n",
       "    .dataframe thead th {\n",
       "        text-align: right;\n",
       "    }\n",
       "</style>\n",
       "<table border=\"1\" class=\"dataframe\">\n",
       "  <thead>\n",
       "    <tr style=\"text-align: right;\">\n",
       "      <th></th>\n",
       "      <th>imgPath</th>\n",
       "      <th>city</th>\n",
       "      <th>zone</th>\n",
       "      <th>store</th>\n",
       "      <th>menuRow</th>\n",
       "      <th>format</th>\n",
       "    </tr>\n",
       "  </thead>\n",
       "  <tbody>\n",
       "    <tr>\n",
       "      <th>0</th>\n",
       "      <td>food-delivery-crawler/data/images/deliveroo.it...</td>\n",
       "      <td>bergamo</td>\n",
       "      <td>alzano-lombardo</td>\n",
       "      <td>pony-burger</td>\n",
       "      <td>0</td>\n",
       "      <td>jpeg</td>\n",
       "    </tr>\n",
       "    <tr>\n",
       "      <th>1</th>\n",
       "      <td>food-delivery-crawler/data/images/deliveroo.it...</td>\n",
       "      <td>bergamo</td>\n",
       "      <td>alzano-lombardo</td>\n",
       "      <td>pony-burger</td>\n",
       "      <td>1</td>\n",
       "      <td>jpeg</td>\n",
       "    </tr>\n",
       "    <tr>\n",
       "      <th>2</th>\n",
       "      <td>food-delivery-crawler/data/images/deliveroo.it...</td>\n",
       "      <td>bergamo</td>\n",
       "      <td>alzano-lombardo</td>\n",
       "      <td>pony-burger</td>\n",
       "      <td>10</td>\n",
       "      <td>jpeg</td>\n",
       "    </tr>\n",
       "    <tr>\n",
       "      <th>3</th>\n",
       "      <td>food-delivery-crawler/data/images/deliveroo.it...</td>\n",
       "      <td>bergamo</td>\n",
       "      <td>alzano-lombardo</td>\n",
       "      <td>pony-burger</td>\n",
       "      <td>11</td>\n",
       "      <td>jpeg</td>\n",
       "    </tr>\n",
       "    <tr>\n",
       "      <th>4</th>\n",
       "      <td>food-delivery-crawler/data/images/deliveroo.it...</td>\n",
       "      <td>bergamo</td>\n",
       "      <td>alzano-lombardo</td>\n",
       "      <td>pony-burger</td>\n",
       "      <td>12</td>\n",
       "      <td>jpeg</td>\n",
       "    </tr>\n",
       "  </tbody>\n",
       "</table>\n",
       "</div>"
      ],
      "text/plain": [
       "                                             imgPath     city  \\\n",
       "0  food-delivery-crawler/data/images/deliveroo.it...  bergamo   \n",
       "1  food-delivery-crawler/data/images/deliveroo.it...  bergamo   \n",
       "2  food-delivery-crawler/data/images/deliveroo.it...  bergamo   \n",
       "3  food-delivery-crawler/data/images/deliveroo.it...  bergamo   \n",
       "4  food-delivery-crawler/data/images/deliveroo.it...  bergamo   \n",
       "\n",
       "              zone        store menuRow format  \n",
       "0  alzano-lombardo  pony-burger       0   jpeg  \n",
       "1  alzano-lombardo  pony-burger       1   jpeg  \n",
       "2  alzano-lombardo  pony-burger      10   jpeg  \n",
       "3  alzano-lombardo  pony-burger      11   jpeg  \n",
       "4  alzano-lombardo  pony-burger      12   jpeg  "
      ]
     },
     "execution_count": 3,
     "metadata": {},
     "output_type": "execute_result"
    }
   ],
   "source": [
    "ddf.head()\n"
   ]
  },
  {
   "cell_type": "code",
   "execution_count": null,
   "metadata": {},
   "outputs": [],
   "source": []
  }
 ],
 "metadata": {
  "interpreter": {
   "hash": "8fd784648cd26aebfe6bc597f619efe2dd7e24caa407c9e35963aa4d98b66e06"
  },
  "kernelspec": {
   "display_name": "Python 3.9.12 ('food-pricing')",
   "language": "python",
   "name": "python3"
  },
  "language_info": {
   "codemirror_mode": {
    "name": "ipython",
    "version": 3
   },
   "file_extension": ".py",
   "mimetype": "text/x-python",
   "name": "python",
   "nbconvert_exporter": "python",
   "pygments_lexer": "ipython3",
   "version": "3.9.12"
  },
  "orig_nbformat": 4
 },
 "nbformat": 4,
 "nbformat_minor": 2
}
