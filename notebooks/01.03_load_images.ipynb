{
 "cells": [
  {
   "cell_type": "code",
   "execution_count": 1,
   "metadata": {},
   "outputs": [
    {
     "name": "stdout",
     "output_type": "stream",
     "text": [
      "Device: cuda\n"
     ]
    },
    {
     "data": {
      "text/plain": [
       "True"
      ]
     },
     "execution_count": 1,
     "metadata": {},
     "output_type": "execute_result"
    }
   ],
   "source": [
    "import dask.bag as db\n",
    "import dask.dataframe as dd\n",
    "from dotenv import load_dotenv\n",
    "from src.data.storage import get_S3_fs\n",
    "from src.features.image_paths import (\n",
    "    get_children,\n",
    "    compute_img,\n",
    "    CITIES_PATH,\n",
    "    ZONES_SUBPATH,\n",
    "    IMGS_SUBPATH,\n",
    "    IMG_PATH_PATTERN,\n",
    ")\n",
    "from dask import delayed\n",
    "import numpy as np\n",
    "import pandas as pd\n",
    "from torchvision.io import decode_jpeg\n",
    "import torch\n",
    "from PIL import Image\n",
    "\n",
    "if torch.cuda.is_available():\n",
    "    my_device = torch.device('cuda')\n",
    "else:\n",
    "    my_device = torch.device('cpu')\n",
    "print('Device: {}'.format(my_device))\n",
    "\n",
    "load_dotenv()"
   ]
  },
  {
   "cell_type": "code",
   "execution_count": 2,
   "metadata": {},
   "outputs": [],
   "source": [
    "S3 = get_S3_fs()\n",
    "zone_paths = [\n",
    "    zone\n",
    "    for city in get_children(S3, \"\", CITIES_PATH)\n",
    "    for zone in get_children(S3, city, ZONES_SUBPATH)\n",
    "]\n",
    "img_paths = [\n",
    "    delayed(get_children)(S3, zone_path, IMGS_SUBPATH) for zone_path in zone_paths\n",
    "]\n",
    "img_data = [\n",
    "    compute_img(img_paths_zone, IMG_PATH_PATTERN) for img_paths_zone in img_paths\n",
    "]\n",
    "ddf = db.from_delayed(img_data).to_dataframe()"
   ]
  },
  {
   "cell_type": "code",
   "execution_count": 3,
   "metadata": {},
   "outputs": [
    {
     "data": {
      "text/html": [
       "<div>\n",
       "<style scoped>\n",
       "    .dataframe tbody tr th:only-of-type {\n",
       "        vertical-align: middle;\n",
       "    }\n",
       "\n",
       "    .dataframe tbody tr th {\n",
       "        vertical-align: top;\n",
       "    }\n",
       "\n",
       "    .dataframe thead th {\n",
       "        text-align: right;\n",
       "    }\n",
       "</style>\n",
       "<table border=\"1\" class=\"dataframe\">\n",
       "  <thead>\n",
       "    <tr style=\"text-align: right;\">\n",
       "      <th></th>\n",
       "      <th>imgPath</th>\n",
       "      <th>city</th>\n",
       "      <th>zone</th>\n",
       "      <th>store</th>\n",
       "      <th>menuRow</th>\n",
       "      <th>format</th>\n",
       "    </tr>\n",
       "  </thead>\n",
       "  <tbody>\n",
       "    <tr>\n",
       "      <th>0</th>\n",
       "      <td>food-delivery-crawler/data/images/deliveroo.it...</td>\n",
       "      <td>bergamo</td>\n",
       "      <td>alzano-lombardo</td>\n",
       "      <td>pony-burger</td>\n",
       "      <td>0</td>\n",
       "      <td>.jpeg</td>\n",
       "    </tr>\n",
       "    <tr>\n",
       "      <th>1</th>\n",
       "      <td>food-delivery-crawler/data/images/deliveroo.it...</td>\n",
       "      <td>bergamo</td>\n",
       "      <td>alzano-lombardo</td>\n",
       "      <td>pony-burger</td>\n",
       "      <td>1</td>\n",
       "      <td>.jpeg</td>\n",
       "    </tr>\n",
       "    <tr>\n",
       "      <th>2</th>\n",
       "      <td>food-delivery-crawler/data/images/deliveroo.it...</td>\n",
       "      <td>bergamo</td>\n",
       "      <td>alzano-lombardo</td>\n",
       "      <td>pony-burger</td>\n",
       "      <td>10</td>\n",
       "      <td>.jpeg</td>\n",
       "    </tr>\n",
       "    <tr>\n",
       "      <th>3</th>\n",
       "      <td>food-delivery-crawler/data/images/deliveroo.it...</td>\n",
       "      <td>bergamo</td>\n",
       "      <td>alzano-lombardo</td>\n",
       "      <td>pony-burger</td>\n",
       "      <td>11</td>\n",
       "      <td>.jpeg</td>\n",
       "    </tr>\n",
       "    <tr>\n",
       "      <th>4</th>\n",
       "      <td>food-delivery-crawler/data/images/deliveroo.it...</td>\n",
       "      <td>bergamo</td>\n",
       "      <td>alzano-lombardo</td>\n",
       "      <td>pony-burger</td>\n",
       "      <td>12</td>\n",
       "      <td>.jpeg</td>\n",
       "    </tr>\n",
       "  </tbody>\n",
       "</table>\n",
       "</div>"
      ],
      "text/plain": [
       "                                             imgPath     city  \\\n",
       "0  food-delivery-crawler/data/images/deliveroo.it...  bergamo   \n",
       "1  food-delivery-crawler/data/images/deliveroo.it...  bergamo   \n",
       "2  food-delivery-crawler/data/images/deliveroo.it...  bergamo   \n",
       "3  food-delivery-crawler/data/images/deliveroo.it...  bergamo   \n",
       "4  food-delivery-crawler/data/images/deliveroo.it...  bergamo   \n",
       "\n",
       "              zone        store menuRow format  \n",
       "0  alzano-lombardo  pony-burger       0  .jpeg  \n",
       "1  alzano-lombardo  pony-burger       1  .jpeg  \n",
       "2  alzano-lombardo  pony-burger      10  .jpeg  \n",
       "3  alzano-lombardo  pony-burger      11  .jpeg  \n",
       "4  alzano-lombardo  pony-burger      12  .jpeg  "
      ]
     },
     "execution_count": 3,
     "metadata": {},
     "output_type": "execute_result"
    }
   ],
   "source": [
    "ddf.head()"
   ]
  },
  {
   "cell_type": "code",
   "execution_count": 4,
   "metadata": {},
   "outputs": [
    {
     "data": {
      "image/png": "[encoded data removed]",
      "text/plain": [
       "<PIL.JpegImagePlugin.JpegImageFile image mode=RGB size=150x100>"
      ]
     },
     "metadata": {},
     "output_type": "display_data"
    }
   ],
   "source": [
    "path = ddf[ddf.format == \".jpg\"].loc[:, \"imgPath\"].compute().values[0]\n",
    "S3 = get_S3_fs()\n",
    "with S3.open(path, mode=\"rb\") as f:\n",
    "    a = Image.open(f)\n",
    "    a.thumbnail(size=(150, 150))\n",
    "    a.show()"
   ]
  },
  {
   "cell_type": "code",
   "execution_count": 5,
   "metadata": {},
   "outputs": [],
   "source": [
    "def compute_shape(path: str) -> pd.Series:\n",
    "    S3 = get_S3_fs()\n",
    "    with S3.open(path, mode=\"rb\") as f:\n",
    "        a = Image.open(f)\n",
    "    return pd.Series({\"height\": a.height, \"width\": a.width})"
   ]
  },
  {
   "cell_type": "code",
   "execution_count": 6,
   "metadata": {},
   "outputs": [],
   "source": [
    "def tensorize(path: str) -> torch.Tensor:\n",
    "    S3 = get_S3_fs()\n",
    "    with S3.open(path, mode=\"rb\") as f:\n",
    "        img_array = np.frombuffer(f.read(), dtype=\"uint8\")\n",
    "    t = torch.from_numpy(img_array.copy())\n",
    "    tensor_image = decode_jpeg(\n",
    "        t,\n",
    "         device=my_device,\n",
    "    )\n",
    "    return tensor_image"
   ]
  },
  {
   "cell_type": "code",
   "execution_count": 7,
   "metadata": {},
   "outputs": [],
   "source": [
    "ddf_size = ddf.imgPath[ddf.format == \".jpeg\"].apply(\n",
    "    compute_shape, meta={\"height\": int, \"width\": int}\n",
    ")\n",
    "output_ddf = ddf.assign(height=ddf_size.height, width=ddf_size.width)"
   ]
  },
  {
   "cell_type": "code",
   "execution_count": 8,
   "metadata": {},
   "outputs": [
    {
     "data": {
      "text/html": [
       "<div>\n",
       "<style scoped>\n",
       "    .dataframe tbody tr th:only-of-type {\n",
       "        vertical-align: middle;\n",
       "    }\n",
       "\n",
       "    .dataframe tbody tr th {\n",
       "        vertical-align: top;\n",
       "    }\n",
       "\n",
       "    .dataframe thead th {\n",
       "        text-align: right;\n",
       "    }\n",
       "</style>\n",
       "<table border=\"1\" class=\"dataframe\">\n",
       "  <thead>\n",
       "    <tr style=\"text-align: right;\">\n",
       "      <th></th>\n",
       "      <th>imgPath</th>\n",
       "      <th>city</th>\n",
       "      <th>zone</th>\n",
       "      <th>store</th>\n",
       "      <th>menuRow</th>\n",
       "      <th>format</th>\n",
       "      <th>height</th>\n",
       "      <th>width</th>\n",
       "    </tr>\n",
       "  </thead>\n",
       "  <tbody>\n",
       "    <tr>\n",
       "      <th>0</th>\n",
       "      <td>food-delivery-crawler/data/images/deliveroo.it...</td>\n",
       "      <td>bergamo</td>\n",
       "      <td>alzano-lombardo</td>\n",
       "      <td>pony-burger</td>\n",
       "      <td>0</td>\n",
       "      <td>.jpeg</td>\n",
       "      <td>2848</td>\n",
       "      <td>4272</td>\n",
       "    </tr>\n",
       "    <tr>\n",
       "      <th>1</th>\n",
       "      <td>food-delivery-crawler/data/images/deliveroo.it...</td>\n",
       "      <td>bergamo</td>\n",
       "      <td>alzano-lombardo</td>\n",
       "      <td>pony-burger</td>\n",
       "      <td>1</td>\n",
       "      <td>.jpeg</td>\n",
       "      <td>2762</td>\n",
       "      <td>4144</td>\n",
       "    </tr>\n",
       "    <tr>\n",
       "      <th>2</th>\n",
       "      <td>food-delivery-crawler/data/images/deliveroo.it...</td>\n",
       "      <td>bergamo</td>\n",
       "      <td>alzano-lombardo</td>\n",
       "      <td>pony-burger</td>\n",
       "      <td>10</td>\n",
       "      <td>.jpeg</td>\n",
       "      <td>800</td>\n",
       "      <td>1200</td>\n",
       "    </tr>\n",
       "    <tr>\n",
       "      <th>3</th>\n",
       "      <td>food-delivery-crawler/data/images/deliveroo.it...</td>\n",
       "      <td>bergamo</td>\n",
       "      <td>alzano-lombardo</td>\n",
       "      <td>pony-burger</td>\n",
       "      <td>11</td>\n",
       "      <td>.jpeg</td>\n",
       "      <td>800</td>\n",
       "      <td>1200</td>\n",
       "    </tr>\n",
       "    <tr>\n",
       "      <th>4</th>\n",
       "      <td>food-delivery-crawler/data/images/deliveroo.it...</td>\n",
       "      <td>bergamo</td>\n",
       "      <td>alzano-lombardo</td>\n",
       "      <td>pony-burger</td>\n",
       "      <td>12</td>\n",
       "      <td>.jpeg</td>\n",
       "      <td>800</td>\n",
       "      <td>1200</td>\n",
       "    </tr>\n",
       "  </tbody>\n",
       "</table>\n",
       "</div>"
      ],
      "text/plain": [
       "                                             imgPath     city  \\\n",
       "0  food-delivery-crawler/data/images/deliveroo.it...  bergamo   \n",
       "1  food-delivery-crawler/data/images/deliveroo.it...  bergamo   \n",
       "2  food-delivery-crawler/data/images/deliveroo.it...  bergamo   \n",
       "3  food-delivery-crawler/data/images/deliveroo.it...  bergamo   \n",
       "4  food-delivery-crawler/data/images/deliveroo.it...  bergamo   \n",
       "\n",
       "              zone        store menuRow format  height  width  \n",
       "0  alzano-lombardo  pony-burger       0  .jpeg    2848   4272  \n",
       "1  alzano-lombardo  pony-burger       1  .jpeg    2762   4144  \n",
       "2  alzano-lombardo  pony-burger      10  .jpeg     800   1200  \n",
       "3  alzano-lombardo  pony-burger      11  .jpeg     800   1200  \n",
       "4  alzano-lombardo  pony-burger      12  .jpeg     800   1200  "
      ]
     },
     "execution_count": 8,
     "metadata": {},
     "output_type": "execute_result"
    }
   ],
   "source": [
    "output_ddf.head()"
   ]
  },
  {
   "cell_type": "code",
   "execution_count": null,
   "metadata": {},
   "outputs": [],
   "source": []
  }
 ],
 "metadata": {
  "interpreter": {
   "hash": "702601ed8d75b870f5f0c37432decb0d3d137b5d9ae4e71eeeea979cca3696a0"
  },
  "kernelspec": {
   "display_name": "Python 3.9.13 ('food-pricing')",
   "language": "python",
   "name": "python3"
  },
  "language_info": {
   "codemirror_mode": {
    "name": "ipython",
    "version": 3
   },
   "file_extension": ".py",
   "mimetype": "text/x-python",
   "name": "python",
   "nbconvert_exporter": "python",
   "pygments_lexer": "ipython3",
   "version": "3.9.13"
  }
 },
 "nbformat": 4,
 "nbformat_minor": 4
}
