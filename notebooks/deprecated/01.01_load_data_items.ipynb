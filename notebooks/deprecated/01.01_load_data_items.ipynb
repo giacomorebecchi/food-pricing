{
 "cells": [
  {
   "cell_type": "code",
   "execution_count": 1,
   "metadata": {},
   "outputs": [
    {
     "data": {
      "text/plain": [
       "True"
      ]
     },
     "execution_count": 1,
     "metadata": {},
     "output_type": "execute_result"
    }
   ],
   "source": [
    "import os\n",
    "from dotenv import load_dotenv\n",
    "import dask.dataframe as dd\n",
    "from src.features.csv_to_parquet import ITEM_DTYPES\n",
    "\n",
    "load_dotenv()\n"
   ]
  },
  {
   "cell_type": "code",
   "execution_count": 2,
   "metadata": {},
   "outputs": [],
   "source": [
    "ddf = dd.read_csv(\n",
    "    \"s3://food-delivery-crawler/data-interim/processed/*/store/**/*-menu.csv\",\n",
    "    storage_options={\"client_kwargs\": {\"endpoint_url\": os.environ[\"S3_ENDPOINT\"]}},\n",
    "    dtype=ITEM_DTYPES,\n",
    "    include_path_column=\"filePath\",\n",
    ")\n"
   ]
  },
  {
   "cell_type": "code",
   "execution_count": 3,
   "metadata": {},
   "outputs": [],
   "source": [
    "relevant_columns = [\n",
    "    \"name\",\n",
    "    \"id\",\n",
    "    \"description\",\n",
    "    \"categoryId\",\n",
    "    \"price_formatted\",\n",
    "    \"filePath\",\n",
    "    \"menuRow\",\n",
    "]\n",
    "ddf = ddf.rename(columns={\"Unnamed: 0\": \"menuRow\"})[relevant_columns]\n",
    "store_ddf = (\n",
    "    ddf.filePath.str.removesuffix(\"-menu.csv\")\n",
    "    .str.split(\"/\", expand=True, n=9)[[5, 6, 9]]\n",
    "    .rename(columns={5: \"city\", 6: \"zone\", 9: \"store\"})\n",
    ")\n",
    "\n",
    "output_ddf = ddf.assign(city=store_ddf.city, zone=store_ddf.zone, store=store_ddf.store)\n",
    "output_ddf = output_ddf.repartition(partition_size=\"1MB\")\n"
   ]
  },
  {
   "cell_type": "code",
   "execution_count": 4,
   "metadata": {},
   "outputs": [
    {
     "data": {
      "text/html": [
       "<div>\n",
       "<style scoped>\n",
       "    .dataframe tbody tr th:only-of-type {\n",
       "        vertical-align: middle;\n",
       "    }\n",
       "\n",
       "    .dataframe tbody tr th {\n",
       "        vertical-align: top;\n",
       "    }\n",
       "\n",
       "    .dataframe thead th {\n",
       "        text-align: right;\n",
       "    }\n",
       "</style>\n",
       "<table border=\"1\" class=\"dataframe\">\n",
       "  <thead>\n",
       "    <tr style=\"text-align: right;\">\n",
       "      <th></th>\n",
       "      <th>name</th>\n",
       "      <th>id</th>\n",
       "      <th>description</th>\n",
       "      <th>categoryId</th>\n",
       "      <th>price_formatted</th>\n",
       "      <th>filePath</th>\n",
       "      <th>menuRow</th>\n",
       "      <th>city</th>\n",
       "      <th>zone</th>\n",
       "      <th>store</th>\n",
       "    </tr>\n",
       "  </thead>\n",
       "  <tbody>\n",
       "    <tr>\n",
       "      <th>0</th>\n",
       "      <td>Panino kebab e bibita</td>\n",
       "      <td>1054925545</td>\n",
       "      <td>NaN</td>\n",
       "      <td>138580330</td>\n",
       "      <td>€7.00</td>\n",
       "      <td>food-delivery-crawler/data-interim/processed/d...</td>\n",
       "      <td>0</td>\n",
       "      <td>bergamo</td>\n",
       "      <td>alzano-lombardo</td>\n",
       "      <td>happy-pizza-bergamo</td>\n",
       "    </tr>\n",
       "    <tr>\n",
       "      <th>1</th>\n",
       "      <td>Panino kebab, bibita e patatine</td>\n",
       "      <td>1054925614</td>\n",
       "      <td>NaN</td>\n",
       "      <td>138580330</td>\n",
       "      <td>€8.00</td>\n",
       "      <td>food-delivery-crawler/data-interim/processed/d...</td>\n",
       "      <td>1</td>\n",
       "      <td>bergamo</td>\n",
       "      <td>alzano-lombardo</td>\n",
       "      <td>happy-pizza-bergamo</td>\n",
       "    </tr>\n",
       "    <tr>\n",
       "      <th>2</th>\n",
       "      <td>Piadina kebab e bibita</td>\n",
       "      <td>1054925563</td>\n",
       "      <td>NaN</td>\n",
       "      <td>138580330</td>\n",
       "      <td>€7.50</td>\n",
       "      <td>food-delivery-crawler/data-interim/processed/d...</td>\n",
       "      <td>2</td>\n",
       "      <td>bergamo</td>\n",
       "      <td>alzano-lombardo</td>\n",
       "      <td>happy-pizza-bergamo</td>\n",
       "    </tr>\n",
       "    <tr>\n",
       "      <th>3</th>\n",
       "      <td>Piadina kebab, bibita e patatine</td>\n",
       "      <td>1054925557</td>\n",
       "      <td>NaN</td>\n",
       "      <td>138580330</td>\n",
       "      <td>€8.50</td>\n",
       "      <td>food-delivery-crawler/data-interim/processed/d...</td>\n",
       "      <td>3</td>\n",
       "      <td>bergamo</td>\n",
       "      <td>alzano-lombardo</td>\n",
       "      <td>happy-pizza-bergamo</td>\n",
       "    </tr>\n",
       "    <tr>\n",
       "      <th>4</th>\n",
       "      <td>Piatto kebab e bibita</td>\n",
       "      <td>1054925682</td>\n",
       "      <td>NaN</td>\n",
       "      <td>138580330</td>\n",
       "      <td>€9.50</td>\n",
       "      <td>food-delivery-crawler/data-interim/processed/d...</td>\n",
       "      <td>4</td>\n",
       "      <td>bergamo</td>\n",
       "      <td>alzano-lombardo</td>\n",
       "      <td>happy-pizza-bergamo</td>\n",
       "    </tr>\n",
       "  </tbody>\n",
       "</table>\n",
       "</div>"
      ],
      "text/plain": [
       "                               name          id description  categoryId  \\\n",
       "0             Panino kebab e bibita  1054925545         NaN   138580330   \n",
       "1   Panino kebab, bibita e patatine  1054925614         NaN   138580330   \n",
       "2            Piadina kebab e bibita  1054925563         NaN   138580330   \n",
       "3  Piadina kebab, bibita e patatine  1054925557         NaN   138580330   \n",
       "4             Piatto kebab e bibita  1054925682         NaN   138580330   \n",
       "\n",
       "  price_formatted                                           filePath  menuRow  \\\n",
       "0           €7.00  food-delivery-crawler/data-interim/processed/d...        0   \n",
       "1           €8.00  food-delivery-crawler/data-interim/processed/d...        1   \n",
       "2           €7.50  food-delivery-crawler/data-interim/processed/d...        2   \n",
       "3           €8.50  food-delivery-crawler/data-interim/processed/d...        3   \n",
       "4           €9.50  food-delivery-crawler/data-interim/processed/d...        4   \n",
       "\n",
       "      city             zone                store  \n",
       "0  bergamo  alzano-lombardo  happy-pizza-bergamo  \n",
       "1  bergamo  alzano-lombardo  happy-pizza-bergamo  \n",
       "2  bergamo  alzano-lombardo  happy-pizza-bergamo  \n",
       "3  bergamo  alzano-lombardo  happy-pizza-bergamo  \n",
       "4  bergamo  alzano-lombardo  happy-pizza-bergamo  "
      ]
     },
     "execution_count": 4,
     "metadata": {},
     "output_type": "execute_result"
    }
   ],
   "source": [
    "output_ddf.head()"
   ]
  },
  {
   "cell_type": "code",
   "execution_count": null,
   "metadata": {},
   "outputs": [],
   "source": []
  }
 ],
 "metadata": {
  "interpreter": {
   "hash": "8fd784648cd26aebfe6bc597f619efe2dd7e24caa407c9e35963aa4d98b66e06"
  },
  "kernelspec": {
   "display_name": "Python 3 (ipykernel)",
   "language": "python",
   "name": "python3"
  },
  "language_info": {
   "codemirror_mode": {
    "name": "ipython",
    "version": 3
   },
   "file_extension": ".py",
   "mimetype": "text/x-python",
   "name": "python",
   "nbconvert_exporter": "python",
   "pygments_lexer": "ipython3",
   "version": "3.9.12"
  }
 },
 "nbformat": 4,
 "nbformat_minor": 4
}
