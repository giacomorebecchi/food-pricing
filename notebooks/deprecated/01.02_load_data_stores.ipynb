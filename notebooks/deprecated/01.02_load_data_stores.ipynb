{
 "cells": [
  {
   "cell_type": "code",
   "execution_count": 1,
   "metadata": {},
   "outputs": [
    {
     "data": {
      "text/plain": [
       "True"
      ]
     },
     "execution_count": 1,
     "metadata": {},
     "output_type": "execute_result"
    }
   ],
   "source": [
    "import os\n",
    "from dotenv import load_dotenv\n",
    "import dask.dataframe as dd\n",
    "from src.features.csv_to_parquet import STORE_DTYPES\n",
    "\n",
    "load_dotenv()\n"
   ]
  },
  {
   "cell_type": "code",
   "execution_count": 2,
   "metadata": {},
   "outputs": [],
   "source": [
    "ddf = dd.read_csv(\n",
    "    \"s3://food-delivery-crawler/data-interim/processed/*/store/**/*-store.csv\",\n",
    "    storage_options={\"client_kwargs\": {\"endpoint_url\": os.environ[\"S3_ENDPOINT\"]}},\n",
    "    dtype=STORE_DTYPES,\n",
    "    include_path_column=\"filePath\",\n",
    ")\n"
   ]
  },
  {
   "cell_type": "code",
   "execution_count": 3,
   "metadata": {},
   "outputs": [],
   "source": [
    "relevant_columns = [\n",
    "    \"name\",\n",
    "    \"id\",\n",
    "    \"cityId\",\n",
    "    \"zoneId\",\n",
    "    \"completeAddress\",\n",
    "    \"filePath\",\n",
    "]\n",
    "ddf = ddf.rename(\n",
    "    columns={\n",
    "        \"location_cityId\": \"cityId\",\n",
    "        \"location_zoneId\": \"zoneId\",\n",
    "        \"location_address_address1\": \"completeAddress\",\n",
    "    }\n",
    ")[relevant_columns]\n",
    "store_ddf = (\n",
    "    ddf.filePath.str.removesuffix(\"-store.csv\")\n",
    "    .str.split(\"/\", expand=True, n=9)[[5, 6, 9]]\n",
    "    .rename(columns={5: \"city\", 6: \"zone\", 9: \"store\"})\n",
    ")\n",
    "\n",
    "output_ddf = ddf.assign(city=store_ddf.city, zone=store_ddf.zone, store=store_ddf.store)\n",
    "output_ddf = output_ddf.repartition(partition_size=\"1MB\")\n"
   ]
  },
  {
   "cell_type": "code",
   "execution_count": 4,
   "metadata": {},
   "outputs": [
    {
     "data": {
      "text/html": [
       "<div>\n",
       "<style scoped>\n",
       "    .dataframe tbody tr th:only-of-type {\n",
       "        vertical-align: middle;\n",
       "    }\n",
       "\n",
       "    .dataframe tbody tr th {\n",
       "        vertical-align: top;\n",
       "    }\n",
       "\n",
       "    .dataframe thead th {\n",
       "        text-align: right;\n",
       "    }\n",
       "</style>\n",
       "<table border=\"1\" class=\"dataframe\">\n",
       "  <thead>\n",
       "    <tr style=\"text-align: right;\">\n",
       "      <th></th>\n",
       "      <th>name</th>\n",
       "      <th>id</th>\n",
       "      <th>cityId</th>\n",
       "      <th>zoneId</th>\n",
       "      <th>completeAddress</th>\n",
       "      <th>filePath</th>\n",
       "      <th>city</th>\n",
       "      <th>zone</th>\n",
       "      <th>store</th>\n",
       "    </tr>\n",
       "  </thead>\n",
       "  <tbody>\n",
       "    <tr>\n",
       "      <th>0</th>\n",
       "      <td>Happy Pizza</td>\n",
       "      <td>414349</td>\n",
       "      <td>235</td>\n",
       "      <td>1282</td>\n",
       "      <td>Via Reich 62, Bergamo, 24020</td>\n",
       "      <td>food-delivery-crawler/data-interim/processed/d...</td>\n",
       "      <td>bergamo</td>\n",
       "      <td>alzano-lombardo</td>\n",
       "      <td>happy-pizza-bergamo</td>\n",
       "    </tr>\n",
       "    <tr>\n",
       "      <th>0</th>\n",
       "      <td>Pony Burger</td>\n",
       "      <td>276784</td>\n",
       "      <td>235</td>\n",
       "      <td>1282</td>\n",
       "      <td>Via Agostino Gemelli, 17, Bergamo, 24124</td>\n",
       "      <td>food-delivery-crawler/data-interim/processed/d...</td>\n",
       "      <td>bergamo</td>\n",
       "      <td>alzano-lombardo</td>\n",
       "      <td>pony-burger</td>\n",
       "    </tr>\n",
       "    <tr>\n",
       "      <th>0</th>\n",
       "      <td>Mada Poke</td>\n",
       "      <td>201423</td>\n",
       "      <td>235</td>\n",
       "      <td>1282</td>\n",
       "      <td>Via Andrea Fantoni 12, Bergamo, 24121</td>\n",
       "      <td>food-delivery-crawler/data-interim/processed/d...</td>\n",
       "      <td>bergamo</td>\n",
       "      <td>centro-storico</td>\n",
       "      <td>bar-mada</td>\n",
       "    </tr>\n",
       "    <tr>\n",
       "      <th>0</th>\n",
       "      <td>Bobino</td>\n",
       "      <td>281527</td>\n",
       "      <td>235</td>\n",
       "      <td>1282</td>\n",
       "      <td>Piazza della Libertà 9,, Bergamo, 24121</td>\n",
       "      <td>food-delivery-crawler/data-interim/processed/d...</td>\n",
       "      <td>bergamo</td>\n",
       "      <td>centro-storico</td>\n",
       "      <td>bobino-bergamo</td>\n",
       "    </tr>\n",
       "    <tr>\n",
       "      <th>0</th>\n",
       "      <td>Burger King</td>\n",
       "      <td>218187</td>\n",
       "      <td>235</td>\n",
       "      <td>1282</td>\n",
       "      <td>Viale Giulio Cesare, 18, Bergamo, 24124</td>\n",
       "      <td>food-delivery-crawler/data-interim/processed/d...</td>\n",
       "      <td>bergamo</td>\n",
       "      <td>centro-storico</td>\n",
       "      <td>burger-king-bg-giulio-cesare-27955</td>\n",
       "    </tr>\n",
       "  </tbody>\n",
       "</table>\n",
       "</div>"
      ],
      "text/plain": [
       "          name      id  cityId  zoneId  \\\n",
       "0  Happy Pizza  414349     235    1282   \n",
       "0  Pony Burger  276784     235    1282   \n",
       "0   Mada Poke   201423     235    1282   \n",
       "0      Bobino   281527     235    1282   \n",
       "0  Burger King  218187     235    1282   \n",
       "\n",
       "                            completeAddress  \\\n",
       "0              Via Reich 62, Bergamo, 24020   \n",
       "0  Via Agostino Gemelli, 17, Bergamo, 24124   \n",
       "0     Via Andrea Fantoni 12, Bergamo, 24121   \n",
       "0   Piazza della Libertà 9,, Bergamo, 24121   \n",
       "0   Viale Giulio Cesare, 18, Bergamo, 24124   \n",
       "\n",
       "                                            filePath     city  \\\n",
       "0  food-delivery-crawler/data-interim/processed/d...  bergamo   \n",
       "0  food-delivery-crawler/data-interim/processed/d...  bergamo   \n",
       "0  food-delivery-crawler/data-interim/processed/d...  bergamo   \n",
       "0  food-delivery-crawler/data-interim/processed/d...  bergamo   \n",
       "0  food-delivery-crawler/data-interim/processed/d...  bergamo   \n",
       "\n",
       "              zone                               store  \n",
       "0  alzano-lombardo                 happy-pizza-bergamo  \n",
       "0  alzano-lombardo                         pony-burger  \n",
       "0   centro-storico                            bar-mada  \n",
       "0   centro-storico                      bobino-bergamo  \n",
       "0   centro-storico  burger-king-bg-giulio-cesare-27955  "
      ]
     },
     "execution_count": 4,
     "metadata": {},
     "output_type": "execute_result"
    }
   ],
   "source": [
    "output_ddf.head()"
   ]
  },
  {
   "cell_type": "code",
   "execution_count": null,
   "metadata": {},
   "outputs": [],
   "source": []
  }
 ],
 "metadata": {
  "interpreter": {
   "hash": "8fd784648cd26aebfe6bc597f619efe2dd7e24caa407c9e35963aa4d98b66e06"
  },
  "kernelspec": {
   "display_name": "Python 3 (ipykernel)",
   "language": "python",
   "name": "python3"
  },
  "language_info": {
   "codemirror_mode": {
    "name": "ipython",
    "version": 3
   },
   "file_extension": ".py",
   "mimetype": "text/x-python",
   "name": "python",
   "nbconvert_exporter": "python",
   "pygments_lexer": "ipython3",
   "version": "3.9.12"
  }
 },
 "nbformat": 4,
 "nbformat_minor": 4
}
