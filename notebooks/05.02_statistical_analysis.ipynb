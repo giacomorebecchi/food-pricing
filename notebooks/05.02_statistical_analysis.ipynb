{
 "cells": [
  {
   "cell_type": "markdown",
   "metadata": {},
   "source": [
    "# Statistical analysis"
   ]
  },
  {
   "cell_type": "markdown",
   "metadata": {},
   "source": [
    "### Difference between BERT+ResNet-152 and CLIP versions of models"
   ]
  },
  {
   "cell_type": "code",
   "execution_count": 1,
   "metadata": {},
   "outputs": [],
   "source": [
    "import scipy as sp\n",
    "import pandas as pd\n",
    "import numpy as np\n",
    "from src.definitions import ROOT_DIR\n",
    "from pathlib import PurePosixPath\n",
    "import seaborn as sns\n",
    "import matplotlib.pyplot as plt"
   ]
  },
  {
   "cell_type": "code",
   "execution_count": 2,
   "metadata": {},
   "outputs": [],
   "source": [
    "def plot_dist(\n",
    "    model1: np.ndarray, model2: np.ndarray, filter_quantiles: float = 0.01, color=\"blue\"\n",
    ") -> None:\n",
    "    fig, ax = plt.subplots()\n",
    "    min_val = np.quantile(model1 - model2, filter_quantiles)\n",
    "    max_val = np.quantile(model1 - model2, 1 - filter_quantiles)\n",
    "    ar = model1 - model2\n",
    "    ar = ar[(min_val < ar) & (ar < max_val)]\n",
    "    sns.kdeplot(ar, color=color, ax=ax)\n",
    "    return fig"
   ]
  },
  {
   "cell_type": "code",
   "execution_count": 3,
   "metadata": {},
   "outputs": [],
   "source": [
    "test_results = pd.DataFrame(columns=[\"Architecture\", \"Model 1\", \"Model 2\", \"Statistic\", \"p-value\"])\n",
    "test_results = test_results.set_index([\"Architecture\", \"Model 1\", \"Model 2\"])"
   ]
  },
  {
   "cell_type": "markdown",
   "metadata": {},
   "source": [
    "##### Simple concatenation"
   ]
  },
  {
   "cell_type": "code",
   "execution_count": 4,
   "metadata": {},
   "outputs": [
    {
     "name": "stderr",
     "output_type": "stream",
     "text": [
      "Global seed set to 42\n",
      "Some weights of the model checkpoint at dbmdz/bert-base-italian-xxl-uncased were not used when initializing BertModel: ['cls.predictions.transform.dense.bias', 'cls.predictions.transform.dense.weight', 'cls.predictions.decoder.bias', 'cls.predictions.decoder.weight', 'cls.predictions.bias', 'cls.predictions.transform.LayerNorm.bias', 'cls.predictions.transform.LayerNorm.weight', 'bert.pooler.dense.bias', 'cls.seq_relationship.bias', 'cls.seq_relationship.weight', 'bert.pooler.dense.weight']\n",
      "- This IS expected if you are initializing BertModel from the checkpoint of a model trained on another task or with another architecture (e.g. initializing a BertForSequenceClassification model from a BertForPreTraining model).\n",
      "- This IS NOT expected if you are initializing BertModel from the checkpoint of a model that you expect to be exactly identical (initializing a BertForSequenceClassification model from a BertForSequenceClassification model).\n"
     ]
    },
    {
     "data": {
      "application/json": {
       "ascii": false,
       "bar_format": null,
       "colour": null,
       "elapsed": 0.022353649139404297,
       "initial": 0,
       "n": 0,
       "ncols": null,
       "nrows": 9,
       "postfix": null,
       "prefix": "",
       "rate": null,
       "total": 34,
       "unit": "it",
       "unit_divisor": 1000,
       "unit_scale": false
      },
      "application/vnd.jupyter.widget-view+json": {
       "model_id": "bc6a5105c9e74de495ba8aa3729df8b2",
       "version_major": 2,
       "version_minor": 0
      },
      "text/plain": [
       "  0%|          | 0/34 [00:00<?, ?it/s]"
      ]
     },
     "metadata": {},
     "output_type": "display_data"
    },
    {
     "name": "stderr",
     "output_type": "stream",
     "text": [
      "Global seed set to 42\n"
     ]
    },
    {
     "data": {
      "application/json": {
       "ascii": false,
       "bar_format": null,
       "colour": null,
       "elapsed": 0.01867961883544922,
       "initial": 0,
       "n": 0,
       "ncols": null,
       "nrows": 9,
       "postfix": null,
       "prefix": "",
       "rate": null,
       "total": 34,
       "unit": "it",
       "unit_divisor": 1000,
       "unit_scale": false
      },
      "application/vnd.jupyter.widget-view+json": {
       "model_id": "c58899531c1644a6825ab0d2ccb814a2",
       "version_major": 2,
       "version_minor": 0
      },
      "text/plain": [
       "  0%|          | 0/34 [00:00<?, ?it/s]"
      ]
     },
     "metadata": {},
     "output_type": "display_data"
    }
   ],
   "source": [
    "from src.models.bert import FPBERTResNet152ConcatModel\n",
    "from src.models.clip import FPCLIPConcatModel\n",
    "\n",
    "# run_01: 61480.37 vs. run_02: 58109.56\n",
    "simple_bert_resnet152 = FPBERTResNet152ConcatModel.load_from_best_checkpoint(run=\"run_02\")\n",
    "simple_bert_resnet152.hparams.update({\"store_submission_frame\": False})\n",
    "sub_simple_bert_resnet152 = simple_bert_resnet152.make_submission_frame()\n",
    "del simple_bert_resnet152\n",
    "res_simple_bert_resnet152 = (\n",
    "    (sub_simple_bert_resnet152[\"true\"]/100 - sub_simple_bert_resnet152[\"pred\"]/100) ** 2\n",
    ").values\n",
    "\n",
    "# run_01: 64375.36 vs. run_02: 63116.73\n",
    "simple_clip = FPCLIPConcatModel.load_from_best_checkpoint(run=\"run_02\")\n",
    "simple_clip.hparams.update({\"store_submission_frame\": False})\n",
    "sub_simple_clip = simple_clip.make_submission_frame()\n",
    "del simple_clip\n",
    "res_simple_clip = (\n",
    "    (sub_simple_clip[\"true\"]/100 - sub_simple_clip[\"pred\"]/100) ** 2\n",
    ").values"
   ]
  },
  {
   "cell_type": "code",
   "execution_count": 5,
   "metadata": {},
   "outputs": [
    {
     "data": {
      "image/png": "[encoded data removed]",
      "text/plain": [
       "<Figure size 640x480 with 1 Axes>"
      ]
     },
     "metadata": {},
     "output_type": "display_data"
    }
   ],
   "source": [
    "fig = plot_dist(res_simple_bert_resnet152, res_simple_clip)\n",
    "fig.savefig(\"plots/density_paired_t-test_simple.jpg\")"
   ]
  },
  {
   "cell_type": "code",
   "execution_count": 6,
   "metadata": {},
   "outputs": [],
   "source": [
    "simple_ttest = sp.stats.ttest_rel(\n",
    "    a=res_simple_bert_resnet152,\n",
    "    b=res_simple_clip,\n",
    "    alternative=\"greater\"\n",
    ")\n",
    "\n",
    "# Theory: CLIP better than BERT+ResNet-152\n",
    "# H0: BertResNet152 <= CLIP\n",
    "# H1: greater\n",
    "\n",
    "test_results.loc[(\"Simple\", \"Bert + ResNet-152\", \"CLIP\"), :] = (simple_ttest.statistic, simple_ttest.pvalue)"
   ]
  },
  {
   "cell_type": "code",
   "execution_count": 7,
   "metadata": {},
   "outputs": [
    {
     "data": {
      "text/html": [
       "<div>\n",
       "<style scoped>\n",
       "    .dataframe tbody tr th:only-of-type {\n",
       "        vertical-align: middle;\n",
       "    }\n",
       "\n",
       "    .dataframe tbody tr th {\n",
       "        vertical-align: top;\n",
       "    }\n",
       "\n",
       "    .dataframe thead th {\n",
       "        text-align: right;\n",
       "    }\n",
       "</style>\n",
       "<table border=\"1\" class=\"dataframe\">\n",
       "  <thead>\n",
       "    <tr style=\"text-align: right;\">\n",
       "      <th></th>\n",
       "      <th></th>\n",
       "      <th></th>\n",
       "      <th>Statistic</th>\n",
       "      <th>p-value</th>\n",
       "    </tr>\n",
       "    <tr>\n",
       "      <th>Architecture</th>\n",
       "      <th>Model 1</th>\n",
       "      <th>Model 2</th>\n",
       "      <th></th>\n",
       "      <th></th>\n",
       "    </tr>\n",
       "  </thead>\n",
       "  <tbody>\n",
       "    <tr>\n",
       "      <th>Simple</th>\n",
       "      <th>Bert + ResNet-152</th>\n",
       "      <th>CLIP</th>\n",
       "      <td>-1.79227</td>\n",
       "      <td>0.963312</td>\n",
       "    </tr>\n",
       "  </tbody>\n",
       "</table>\n",
       "</div>"
      ],
      "text/plain": [
       "                                       Statistic   p-value\n",
       "Architecture Model 1           Model 2                    \n",
       "Simple       Bert + ResNet-152 CLIP     -1.79227  0.963312"
      ]
     },
     "execution_count": 7,
     "metadata": {},
     "output_type": "execute_result"
    }
   ],
   "source": [
    "test_results"
   ]
  },
  {
   "cell_type": "markdown",
   "metadata": {},
   "source": [
    "##### Attention-like mechanism"
   ]
  },
  {
   "cell_type": "code",
   "execution_count": 8,
   "metadata": {},
   "outputs": [
    {
     "name": "stderr",
     "output_type": "stream",
     "text": [
      "Global seed set to 42\n",
      "Some weights of the model checkpoint at dbmdz/bert-base-italian-xxl-uncased were not used when initializing BertModel: ['cls.predictions.transform.dense.bias', 'cls.predictions.transform.dense.weight', 'cls.predictions.decoder.bias', 'cls.predictions.decoder.weight', 'cls.predictions.bias', 'cls.predictions.transform.LayerNorm.bias', 'cls.predictions.transform.LayerNorm.weight', 'bert.pooler.dense.bias', 'cls.seq_relationship.bias', 'cls.seq_relationship.weight', 'bert.pooler.dense.weight']\n",
      "- This IS expected if you are initializing BertModel from the checkpoint of a model trained on another task or with another architecture (e.g. initializing a BertForSequenceClassification model from a BertForPreTraining model).\n",
      "- This IS NOT expected if you are initializing BertModel from the checkpoint of a model that you expect to be exactly identical (initializing a BertForSequenceClassification model from a BertForSequenceClassification model).\n"
     ]
    },
    {
     "data": {
      "application/json": {
       "ascii": false,
       "bar_format": null,
       "colour": null,
       "elapsed": 0.01631021499633789,
       "initial": 0,
       "n": 0,
       "ncols": null,
       "nrows": 9,
       "postfix": null,
       "prefix": "",
       "rate": null,
       "total": 34,
       "unit": "it",
       "unit_divisor": 1000,
       "unit_scale": false
      },
      "application/vnd.jupyter.widget-view+json": {
       "model_id": "641ee0fd9f3c42a0896b170ace599921",
       "version_major": 2,
       "version_minor": 0
      },
      "text/plain": [
       "  0%|          | 0/34 [00:00<?, ?it/s]"
      ]
     },
     "metadata": {},
     "output_type": "display_data"
    },
    {
     "name": "stderr",
     "output_type": "stream",
     "text": [
      "Global seed set to 42\n"
     ]
    },
    {
     "data": {
      "application/json": {
       "ascii": false,
       "bar_format": null,
       "colour": null,
       "elapsed": 0.02684187889099121,
       "initial": 0,
       "n": 0,
       "ncols": null,
       "nrows": 9,
       "postfix": null,
       "prefix": "",
       "rate": null,
       "total": 34,
       "unit": "it",
       "unit_divisor": 1000,
       "unit_scale": false
      },
      "application/vnd.jupyter.widget-view+json": {
       "model_id": "1d0fc16a45844a0f96a0e6eab45e47fc",
       "version_major": 2,
       "version_minor": 0
      },
      "text/plain": [
       "  0%|          | 0/34 [00:00<?, ?it/s]"
      ]
     },
     "metadata": {},
     "output_type": "display_data"
    }
   ],
   "source": [
    "from src.models.bert import FPBERTResNet152WeightedConcatModel\n",
    "from src.models.clip import FPCLIPWeightedConcatModel\n",
    "\n",
    "# run_01: 60493.92 vs. run_02: 56450.27\n",
    "weighted_bert_resnet152 = FPBERTResNet152WeightedConcatModel.load_from_best_checkpoint(run=\"run_02\")\n",
    "weighted_bert_resnet152.hparams.update({\"store_submission_frame\": False})\n",
    "sub_weighted_bert_resnet152 = weighted_bert_resnet152.make_submission_frame()\n",
    "del weighted_bert_resnet152\n",
    "res_weighted_bert_resnet152 = (\n",
    "    (sub_weighted_bert_resnet152[\"true\"]/100 - sub_weighted_bert_resnet152[\"pred\"]/100) ** 2\n",
    ").values\n",
    "\n",
    "# run_01: 61844.27 vs. run_02: 54986.56\n",
    "weighted_clip = FPCLIPWeightedConcatModel.load_from_best_checkpoint(run=\"run_02\")\n",
    "weighted_clip.hparams.update({\"store_submission_frame\": False})\n",
    "sub_weighted_clip = weighted_clip.make_submission_frame()\n",
    "del weighted_clip\n",
    "res_weighted_clip = (\n",
    "    (sub_weighted_clip[\"true\"]/100 - sub_weighted_clip[\"pred\"]/100) ** 2\n",
    ").values"
   ]
  },
  {
   "cell_type": "code",
   "execution_count": 9,
   "metadata": {},
   "outputs": [
    {
     "data": {
      "image/png": "[encoded data removed]",
      "text/plain": [
       "<Figure size 640x480 with 1 Axes>"
      ]
     },
     "metadata": {},
     "output_type": "display_data"
    }
   ],
   "source": [
    "fig = plot_dist(res_weighted_bert_resnet152, res_weighted_clip, color=\"red\")\n",
    "fig.savefig(\"plots/density_paired_t-test_weighted.jpg\")"
   ]
  },
  {
   "cell_type": "code",
   "execution_count": 10,
   "metadata": {},
   "outputs": [],
   "source": [
    "weighted_ttest = sp.stats.ttest_rel(\n",
    "    a=res_weighted_bert_resnet152, b=res_weighted_clip, alternative=\"greater\"\n",
    ")\n",
    "\n",
    "# Theory: CLIP better than BERT+ResNet-152\n",
    "# H0: BertResNet152 <= CLIP\n",
    "# H1: greater\n",
    "\n",
    "test_results.loc[(\"Weighted\", \"Bert + ResNet-152\", \"CLIP\"), :] = (\n",
    "    weighted_ttest.statistic,\n",
    "    weighted_ttest.pvalue,\n",
    ")"
   ]
  },
  {
   "cell_type": "code",
   "execution_count": 11,
   "metadata": {},
   "outputs": [
    {
     "data": {
      "text/html": [
       "<div>\n",
       "<style scoped>\n",
       "    .dataframe tbody tr th:only-of-type {\n",
       "        vertical-align: middle;\n",
       "    }\n",
       "\n",
       "    .dataframe tbody tr th {\n",
       "        vertical-align: top;\n",
       "    }\n",
       "\n",
       "    .dataframe thead th {\n",
       "        text-align: right;\n",
       "    }\n",
       "</style>\n",
       "<table border=\"1\" class=\"dataframe\">\n",
       "  <thead>\n",
       "    <tr style=\"text-align: right;\">\n",
       "      <th></th>\n",
       "      <th></th>\n",
       "      <th></th>\n",
       "      <th>Statistic</th>\n",
       "      <th>p-value</th>\n",
       "    </tr>\n",
       "    <tr>\n",
       "      <th>Architecture</th>\n",
       "      <th>Model 1</th>\n",
       "      <th>Model 2</th>\n",
       "      <th></th>\n",
       "      <th></th>\n",
       "    </tr>\n",
       "  </thead>\n",
       "  <tbody>\n",
       "    <tr>\n",
       "      <th>Simple</th>\n",
       "      <th>Bert + ResNet-152</th>\n",
       "      <th>CLIP</th>\n",
       "      <td>-1.79227</td>\n",
       "      <td>0.963312</td>\n",
       "    </tr>\n",
       "    <tr>\n",
       "      <th>Weighted</th>\n",
       "      <th>Bert + ResNet-152</th>\n",
       "      <th>CLIP</th>\n",
       "      <td>-2.067062</td>\n",
       "      <td>0.980515</td>\n",
       "    </tr>\n",
       "  </tbody>\n",
       "</table>\n",
       "</div>"
      ],
      "text/plain": [
       "                                       Statistic   p-value\n",
       "Architecture Model 1           Model 2                    \n",
       "Simple       Bert + ResNet-152 CLIP     -1.79227  0.963312\n",
       "Weighted     Bert + ResNet-152 CLIP    -2.067062  0.980515"
      ]
     },
     "execution_count": 11,
     "metadata": {},
     "output_type": "execute_result"
    }
   ],
   "source": [
    "test_results"
   ]
  },
  {
   "cell_type": "markdown",
   "metadata": {},
   "source": [
    "##### XGB"
   ]
  },
  {
   "cell_type": "code",
   "execution_count": 12,
   "metadata": {},
   "outputs": [],
   "source": [
    "submissions_fpath = PurePosixPath(ROOT_DIR).joinpath(\n",
    "    \"submissions\", \"2022-08-27T17:04:06+00:00\"\n",
    ")\n",
    "\n",
    "xgb_bert_resnet152_fname = submissions_fpath.joinpath(\"XGBBERTResNet152.csv\")\n",
    "sub_xgb_bert_resnet152 = pd.read_csv(xgb_bert_resnet152_fname, index_col=0, header=0)\n",
    "res_xgb_bert_resnet152 = (\n",
    "    (sub_xgb_bert_resnet152[\"true\"]/100 - sub_xgb_bert_resnet152[\"pred\"]/100) ** 2\n",
    ").values\n",
    "\n",
    "xgb_clip_fname = submissions_fpath.joinpath(\"XGBCLIP.csv\")\n",
    "sub_xgb_clip = pd.read_csv(xgb_clip_fname, index_col=0, header=0)\n",
    "res_xgb_clip = ((sub_xgb_clip[\"true\"]/100 - sub_xgb_clip[\"pred\"]/100) ** 2).values"
   ]
  },
  {
   "cell_type": "code",
   "execution_count": 13,
   "metadata": {},
   "outputs": [
    {
     "data": {
      "image/png": "[encoded data removed]",
      "text/plain": [
       "<Figure size 640x480 with 1 Axes>"
      ]
     },
     "metadata": {},
     "output_type": "display_data"
    }
   ],
   "source": [
    "fig = plot_dist(res_xgb_clip, res_xgb_bert_resnet152, color=\"orange\")\n",
    "fig.savefig(\"plots/density_paired_t-test_xgb.jpg\")"
   ]
  },
  {
   "cell_type": "code",
   "execution_count": 14,
   "metadata": {},
   "outputs": [],
   "source": [
    "xgb_ttest = sp.stats.ttest_rel(\n",
    "    a=res_xgb_bert_resnet152,\n",
    "    b=res_xgb_clip,\n",
    "    alternative=\"greater\"\n",
    ")\n",
    "\n",
    "# Theory: CLIP better than BERT+ResNet-152\n",
    "# H0: BertResNet152 < CLIP\n",
    "# H1: greater\n",
    "\n",
    "test_results.loc[(\"XGB\", \"Bert + ResNet-152\", \"CLIP\"), :] = (\n",
    "    xgb_ttest.statistic,\n",
    "    xgb_ttest.pvalue,\n",
    ")"
   ]
  },
  {
   "cell_type": "code",
   "execution_count": 15,
   "metadata": {},
   "outputs": [
    {
     "data": {
      "text/html": [
       "<style type=\"text/css\">\n",
       "</style>\n",
       "<table id=\"T_0d390\">\n",
       "  <thead>\n",
       "    <tr>\n",
       "      <th class=\"blank\" >&nbsp;</th>\n",
       "      <th class=\"blank\" >&nbsp;</th>\n",
       "      <th class=\"blank level0\" >&nbsp;</th>\n",
       "      <th id=\"T_0d390_level0_col0\" class=\"col_heading level0 col0\" >Statistic</th>\n",
       "      <th id=\"T_0d390_level0_col1\" class=\"col_heading level0 col1\" >p-value</th>\n",
       "    </tr>\n",
       "    <tr>\n",
       "      <th class=\"index_name level0\" >Architecture</th>\n",
       "      <th class=\"index_name level1\" >Model 1</th>\n",
       "      <th class=\"index_name level2\" >Model 2</th>\n",
       "      <th class=\"blank col0\" >&nbsp;</th>\n",
       "      <th class=\"blank col1\" >&nbsp;</th>\n",
       "    </tr>\n",
       "  </thead>\n",
       "  <tbody>\n",
       "    <tr>\n",
       "      <th id=\"T_0d390_level0_row0\" class=\"row_heading level0 row0\" >Simple</th>\n",
       "      <th id=\"T_0d390_level1_row0\" class=\"row_heading level1 row0\" >Bert + ResNet-152</th>\n",
       "      <th id=\"T_0d390_level2_row0\" class=\"row_heading level2 row0\" >CLIP</th>\n",
       "      <td id=\"T_0d390_row0_col0\" class=\"data row0 col0\" >-1.792270</td>\n",
       "      <td id=\"T_0d390_row0_col1\" class=\"data row0 col1\" >0.963312</td>\n",
       "    </tr>\n",
       "    <tr>\n",
       "      <th id=\"T_0d390_level0_row1\" class=\"row_heading level0 row1\" >Weighted</th>\n",
       "      <th id=\"T_0d390_level1_row1\" class=\"row_heading level1 row1\" >Bert + ResNet-152</th>\n",
       "      <th id=\"T_0d390_level2_row1\" class=\"row_heading level2 row1\" >CLIP</th>\n",
       "      <td id=\"T_0d390_row1_col0\" class=\"data row1 col0\" >-2.067062</td>\n",
       "      <td id=\"T_0d390_row1_col1\" class=\"data row1 col1\" >0.980515</td>\n",
       "    </tr>\n",
       "    <tr>\n",
       "      <th id=\"T_0d390_level0_row2\" class=\"row_heading level0 row2\" >XGB</th>\n",
       "      <th id=\"T_0d390_level1_row2\" class=\"row_heading level1 row2\" >Bert + ResNet-152</th>\n",
       "      <th id=\"T_0d390_level2_row2\" class=\"row_heading level2 row2\" >CLIP</th>\n",
       "      <td id=\"T_0d390_row2_col0\" class=\"data row2 col0\" >4.791208</td>\n",
       "      <td id=\"T_0d390_row2_col1\" class=\"data row2 col1\" >0.000001</td>\n",
       "    </tr>\n",
       "  </tbody>\n",
       "</table>\n"
      ],
      "text/plain": [
       "<pandas.io.formats.style.Styler at 0x7fd51a0c5670>"
      ]
     },
     "execution_count": 15,
     "metadata": {},
     "output_type": "execute_result"
    }
   ],
   "source": [
    "with open(\"tables/paired_t-tests.tex\", mode=\"w\") as f:\n",
    "    test_results.style.to_latex(f)\n",
    "test_results.style"
   ]
  },
  {
   "cell_type": "markdown",
   "metadata": {},
   "source": [
    "### Difference between the best model and the respondents to the Bot"
   ]
  },
  {
   "cell_type": "code",
   "execution_count": 16,
   "metadata": {},
   "outputs": [],
   "source": [
    "data_fpath = PurePosixPath(ROOT_DIR).joinpath(\"data\", \"experiment\", \"merged\")\n",
    "\n",
    "data_fname = data_fpath.joinpath(\"dump.parquet\")\n",
    "\n",
    "data = pd.read_parquet(data_fname)\n",
    "data = data[[\"chat_id\", \"item_id\", \"pred\", \"price_fractional\"]].rename(columns={\"price_fractional\": \"true\"})\n",
    "res_humans = ((data[\"true\"]/100 - data[\"pred\"]/100) ** 2).values\n",
    "\n",
    "res_best_model = res_weighted_clip.astype(np.float64)  # it's the model with the best results on the dev"
   ]
  },
  {
   "cell_type": "code",
   "execution_count": 17,
   "metadata": {},
   "outputs": [],
   "source": [
    "def plot_separate_dists(model1:np.ndarray, model2:np.ndarray, label1:str, label2:str, filter_quantiles:float=0.01) -> None:\n",
    "    fig, ax = plt.subplots()\n",
    "    min_val_1 = np.quantile(model1, filter_quantiles)\n",
    "    max_val_1 = np.quantile(model1, 1-filter_quantiles)\n",
    "    min_val_2 = np.quantile(model2, filter_quantiles)\n",
    "    max_val_2 = np.quantile(model2, 1-filter_quantiles)\n",
    "    model1 = model1[(min_val_1 < model1) & (model1 < max_val_1)]\n",
    "    model2 = model2[(min_val_2 < model2) & (model2 < max_val_2)]\n",
    "    sns.kdeplot(model1, color=\"green\", label=label1, ax=ax)\n",
    "    sns.kdeplot(model2, color=\"purple\", label=label2, ax=ax)\n",
    "    plt.legend()\n",
    "    return fig"
   ]
  },
  {
   "cell_type": "code",
   "execution_count": 18,
   "metadata": {},
   "outputs": [
    {
     "data": {
      "image/png": "[encoded data removed]",
      "text/plain": [
       "<Figure size 640x480 with 1 Axes>"
      ]
     },
     "metadata": {},
     "output_type": "display_data"
    }
   ],
   "source": [
    "fig = plot_separate_dists(res_humans, res_best_model, \"Bot respondents\", \"Best model\")\n",
    "fig.savefig(\"plots/density_unpaired_t-test.jpg\")"
   ]
  },
  {
   "cell_type": "code",
   "execution_count": 19,
   "metadata": {},
   "outputs": [
    {
     "data": {
      "text/plain": [
       "Ttest_indResult(statistic=3.322848317734092, pvalue=0.0004528173848939469)"
      ]
     },
     "execution_count": 19,
     "metadata": {},
     "output_type": "execute_result"
    }
   ],
   "source": [
    "sp.stats.ttest_ind(\n",
    "    a=res_humans, \n",
    "    b=res_best_model,\n",
    "    equal_var=False,\n",
    "    alternative=\"greater\"\n",
    ")\n",
    "\n",
    "# Theory: model better than humans\n",
    "# H0: humans <= model\n",
    "# H1: greater"
   ]
  }
 ],
 "metadata": {
  "kernelspec": {
   "display_name": "Python 3 (ipykernel)",
   "language": "python",
   "name": "python3"
  },
  "language_info": {
   "codemirror_mode": {
    "name": "ipython",
    "version": 3
   },
   "file_extension": ".py",
   "mimetype": "text/x-python",
   "name": "python",
   "nbconvert_exporter": "python",
   "pygments_lexer": "ipython3",
   "version": "3.9.13"
  },
  "vscode": {
   "interpreter": {
    "hash": "7baf0a9355b2187f13b56e3fae033a6ce164fc9add6d7138e9a4da0d4f49a6ad"
   }
  }
 },
 "nbformat": 4,
 "nbformat_minor": 2
}
