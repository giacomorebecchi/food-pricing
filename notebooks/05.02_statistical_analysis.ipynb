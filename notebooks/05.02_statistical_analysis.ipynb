{
 "cells": [
  {
   "cell_type": "markdown",
   "metadata": {},
   "source": [
    "# Statistical analysis"
   ]
  },
  {
   "cell_type": "markdown",
   "metadata": {},
   "source": [
    "### Difference between BERT+ResNet-152 and CLIP versions of models"
   ]
  },
  {
   "cell_type": "code",
   "execution_count": 1,
   "metadata": {},
   "outputs": [],
   "source": [
    "import scipy as sp\n",
    "import pandas as pd\n",
    "import numpy as np\n",
    "from src.definitions import ROOT_DIR\n",
    "from pathlib import PurePosixPath\n",
    "import seaborn as sns\n",
    "import matplotlib.pyplot as plt"
   ]
  },
  {
   "cell_type": "code",
   "execution_count": 2,
   "metadata": {},
   "outputs": [],
   "source": [
    "def plot_dist(model1:np.ndarray, model2:np.ndarray, filter_quantiles:float=0.01) -> None:\n",
    "    min_val = np.quantile(model1-model2, filter_quantiles)\n",
    "    max_val = np.quantile(model1-model2, 1-filter_quantiles)\n",
    "    ar = model1-model2\n",
    "    ar = ar[(min_val < ar) & (ar < max_val)]\n",
    "    sns.displot(ar, kind=\"kde\")\n",
    "    plt.show()"
   ]
  },
  {
   "cell_type": "markdown",
   "metadata": {},
   "source": [
    "##### Simple concatenation"
   ]
  },
  {
   "cell_type": "code",
   "execution_count": 3,
   "metadata": {},
   "outputs": [
    {
     "name": "stderr",
     "output_type": "stream",
     "text": [
      "Global seed set to 42\n",
      "Some weights of the model checkpoint at dbmdz/bert-base-italian-xxl-uncased were not used when initializing BertModel: ['cls.predictions.decoder.bias', 'cls.predictions.transform.LayerNorm.bias', 'cls.predictions.transform.dense.weight', 'cls.predictions.decoder.weight', 'bert.pooler.dense.weight', 'cls.seq_relationship.bias', 'cls.predictions.transform.dense.bias', 'bert.pooler.dense.bias', 'cls.seq_relationship.weight', 'cls.predictions.transform.LayerNorm.weight', 'cls.predictions.bias']\n",
      "- This IS expected if you are initializing BertModel from the checkpoint of a model trained on another task or with another architecture (e.g. initializing a BertForSequenceClassification model from a BertForPreTraining model).\n",
      "- This IS NOT expected if you are initializing BertModel from the checkpoint of a model that you expect to be exactly identical (initializing a BertForSequenceClassification model from a BertForSequenceClassification model).\n"
     ]
    },
    {
     "data": {
      "application/json": {
       "ascii": false,
       "bar_format": null,
       "colour": null,
       "elapsed": 0.020896196365356445,
       "initial": 0,
       "n": 0,
       "ncols": null,
       "nrows": null,
       "postfix": null,
       "prefix": "",
       "rate": null,
       "total": 34,
       "unit": "it",
       "unit_divisor": 1000,
       "unit_scale": false
      },
      "application/vnd.jupyter.widget-view+json": {
       "model_id": "4004ea0e727346a1870cada9cbb1a260",
       "version_major": 2,
       "version_minor": 0
      },
      "text/plain": [
       "  0%|          | 0/34 [00:00<?, ?it/s]"
      ]
     },
     "metadata": {},
     "output_type": "display_data"
    },
    {
     "name": "stderr",
     "output_type": "stream",
     "text": [
      "Global seed set to 42\n"
     ]
    },
    {
     "data": {
      "application/json": {
       "ascii": false,
       "bar_format": null,
       "colour": null,
       "elapsed": 0.016629934310913086,
       "initial": 0,
       "n": 0,
       "ncols": null,
       "nrows": null,
       "postfix": null,
       "prefix": "",
       "rate": null,
       "total": 34,
       "unit": "it",
       "unit_divisor": 1000,
       "unit_scale": false
      },
      "application/vnd.jupyter.widget-view+json": {
       "model_id": "3062115bac544dd4af46d11fa857b818",
       "version_major": 2,
       "version_minor": 0
      },
      "text/plain": [
       "  0%|          | 0/34 [00:00<?, ?it/s]"
      ]
     },
     "metadata": {},
     "output_type": "display_data"
    }
   ],
   "source": [
    "from src.models.bert import FPBERTResNet152ConcatModel\n",
    "from src.models.clip import FPCLIPConcatModel\n",
    "\n",
    "# run_01: 61480.37 vs. run_02: 58109.56\n",
    "simple_bert_resnet152 = FPBERTResNet152ConcatModel.load_from_best_checkpoint(run=\"run_02\")\n",
    "simple_bert_resnet152.hparams.update({\"store_submission_frame\": False})\n",
    "sub_simple_bert_resnet152 = simple_bert_resnet152.make_submission_frame()\n",
    "del simple_bert_resnet152\n",
    "res_simple_bert_resnet152 = (\n",
    "    (sub_simple_bert_resnet152[\"true\"]/100 - sub_simple_bert_resnet152[\"pred\"]/100) ** 2\n",
    ").values\n",
    "\n",
    "# run_01: 64375.36 vs. run_02: 63116.73\n",
    "simple_clip = FPCLIPConcatModel.load_from_best_checkpoint(run=\"run_02\")\n",
    "simple_clip.hparams.update({\"store_submission_frame\": False})\n",
    "sub_simple_clip = simple_clip.make_submission_frame()\n",
    "del simple_clip\n",
    "res_simple_clip = (\n",
    "    (sub_simple_clip[\"true\"]/100 - sub_simple_clip[\"pred\"]/100) ** 2\n",
    ").values"
   ]
  },
  {
   "cell_type": "code",
   "execution_count": 4,
   "metadata": {},
   "outputs": [
    {
     "data": {
      "image/png": "[encoded data removed]",
      "text/plain": [
       "<Figure size 500x500 with 1 Axes>"
      ]
     },
     "metadata": {},
     "output_type": "display_data"
    }
   ],
   "source": [
    "plot_dist(res_simple_clip, res_simple_bert_resnet152)"
   ]
  },
  {
   "cell_type": "code",
   "execution_count": 5,
   "metadata": {},
   "outputs": [
    {
     "data": {
      "text/plain": [
       "Ttest_relResult(statistic=1.7922704392193298, pvalue=0.9633124879795923)"
      ]
     },
     "execution_count": 5,
     "metadata": {},
     "output_type": "execute_result"
    }
   ],
   "source": [
    "sp.stats.ttest_rel(\n",
    "    b=res_simple_bert_resnet152,\n",
    "    a=res_simple_clip,\n",
    "    alternative=\"less\"\n",
    ")\n",
    "\n",
    "# Theory: CLIP better than BERT+ResNet-152\n",
    "# H0: BertResNet152 > CLIP\n",
    "# H1: smaller"
   ]
  },
  {
   "cell_type": "markdown",
   "metadata": {},
   "source": [
    "##### Attention-like mechanism"
   ]
  },
  {
   "cell_type": "code",
   "execution_count": 6,
   "metadata": {},
   "outputs": [
    {
     "name": "stderr",
     "output_type": "stream",
     "text": [
      "Global seed set to 42\n",
      "Some weights of the model checkpoint at dbmdz/bert-base-italian-xxl-uncased were not used when initializing BertModel: ['cls.predictions.decoder.bias', 'cls.predictions.transform.LayerNorm.bias', 'cls.predictions.transform.dense.weight', 'cls.predictions.decoder.weight', 'bert.pooler.dense.weight', 'cls.seq_relationship.bias', 'cls.predictions.transform.dense.bias', 'bert.pooler.dense.bias', 'cls.seq_relationship.weight', 'cls.predictions.transform.LayerNorm.weight', 'cls.predictions.bias']\n",
      "- This IS expected if you are initializing BertModel from the checkpoint of a model trained on another task or with another architecture (e.g. initializing a BertForSequenceClassification model from a BertForPreTraining model).\n",
      "- This IS NOT expected if you are initializing BertModel from the checkpoint of a model that you expect to be exactly identical (initializing a BertForSequenceClassification model from a BertForSequenceClassification model).\n"
     ]
    },
    {
     "data": {
      "application/json": {
       "ascii": false,
       "bar_format": null,
       "colour": null,
       "elapsed": 0.0225374698638916,
       "initial": 0,
       "n": 0,
       "ncols": null,
       "nrows": null,
       "postfix": null,
       "prefix": "",
       "rate": null,
       "total": 34,
       "unit": "it",
       "unit_divisor": 1000,
       "unit_scale": false
      },
      "application/vnd.jupyter.widget-view+json": {
       "model_id": "480d007a300b4a07ac35b9eb8e7f704c",
       "version_major": 2,
       "version_minor": 0
      },
      "text/plain": [
       "  0%|          | 0/34 [00:00<?, ?it/s]"
      ]
     },
     "metadata": {},
     "output_type": "display_data"
    },
    {
     "name": "stderr",
     "output_type": "stream",
     "text": [
      "Global seed set to 42\n"
     ]
    },
    {
     "data": {
      "application/json": {
       "ascii": false,
       "bar_format": null,
       "colour": null,
       "elapsed": 0.018510818481445312,
       "initial": 0,
       "n": 0,
       "ncols": null,
       "nrows": null,
       "postfix": null,
       "prefix": "",
       "rate": null,
       "total": 34,
       "unit": "it",
       "unit_divisor": 1000,
       "unit_scale": false
      },
      "application/vnd.jupyter.widget-view+json": {
       "model_id": "74b81ce88b224e03aaf28b82ec3a2a10",
       "version_major": 2,
       "version_minor": 0
      },
      "text/plain": [
       "  0%|          | 0/34 [00:00<?, ?it/s]"
      ]
     },
     "metadata": {},
     "output_type": "display_data"
    }
   ],
   "source": [
    "from src.models.bert import FPBERTResNet152WeightedConcatModel\n",
    "from src.models.clip import FPCLIPWeightedConcatModel\n",
    "\n",
    "# run_01: 60493.92 vs. run_02: 56450.27\n",
    "weighted_bert_resnet152 = FPBERTResNet152WeightedConcatModel.load_from_best_checkpoint(run=\"run_02\")\n",
    "weighted_bert_resnet152.hparams.update({\"store_submission_frame\": False})\n",
    "sub_weighted_bert_resnet152 = weighted_bert_resnet152.make_submission_frame()\n",
    "del weighted_bert_resnet152\n",
    "res_weighted_bert_resnet152 = (\n",
    "    (sub_weighted_bert_resnet152[\"true\"]/100 - sub_weighted_bert_resnet152[\"pred\"]/100) ** 2\n",
    ").values\n",
    "\n",
    "# run_01: 61844.27 vs. run_02: 54986.56\n",
    "weighted_clip = FPCLIPWeightedConcatModel.load_from_best_checkpoint(run=\"run_02\")\n",
    "weighted_clip.hparams.update({\"store_submission_frame\": False})\n",
    "sub_weighted_clip = weighted_clip.make_submission_frame()\n",
    "del weighted_clip\n",
    "res_weighted_clip = (\n",
    "    (sub_weighted_clip[\"true\"]/100 - sub_weighted_clip[\"pred\"]/100) ** 2\n",
    ").values"
   ]
  },
  {
   "cell_type": "code",
   "execution_count": 7,
   "metadata": {},
   "outputs": [
    {
     "data": {
      "image/png": "[encoded data removed]",
      "text/plain": [
       "<Figure size 500x500 with 1 Axes>"
      ]
     },
     "metadata": {},
     "output_type": "display_data"
    }
   ],
   "source": [
    "plot_dist(res_weighted_clip, res_weighted_bert_resnet152)"
   ]
  },
  {
   "cell_type": "code",
   "execution_count": 8,
   "metadata": {},
   "outputs": [
    {
     "data": {
      "text/plain": [
       "Ttest_relResult(statistic=2.0670616925425955, pvalue=0.9805145480700681)"
      ]
     },
     "execution_count": 8,
     "metadata": {},
     "output_type": "execute_result"
    }
   ],
   "source": [
    "sp.stats.ttest_rel(\n",
    "    b=res_weighted_bert_resnet152,\n",
    "    a=res_weighted_clip,\n",
    "    alternative=\"less\"\n",
    ")\n",
    "\n",
    "# Theory: CLIP better than BERT+ResNet-152\n",
    "# H0: BertResNet152 > CLIP\n",
    "# H1: smaller"
   ]
  },
  {
   "cell_type": "markdown",
   "metadata": {},
   "source": [
    "##### XGB"
   ]
  },
  {
   "cell_type": "code",
   "execution_count": 32,
   "metadata": {},
   "outputs": [],
   "source": [
    "submissions_fpath = PurePosixPath(ROOT_DIR).joinpath(\n",
    "    \"submissions\", \"2022-08-27T17:04:06+00:00\"\n",
    ")\n",
    "\n",
    "xgb_bert_resnet152_fname = submissions_fpath.joinpath(\"XGBBERTResNet152.csv\")\n",
    "sub_xgb_bert_resnet152 = pd.read_csv(xgb_bert_resnet152_fname, index_col=0, header=0)\n",
    "res_xgb_bert_resnet152 = (\n",
    "    (sub_xgb_bert_resnet152[\"true\"]/100 - sub_xgb_bert_resnet152[\"pred\"]/100) ** 2\n",
    ").values\n",
    "\n",
    "xgb_clip_fname = submissions_fpath.joinpath(\"XGBCLIP.csv\")\n",
    "sub_xgb_clip = pd.read_csv(xgb_clip_fname, index_col=0, header=0)\n",
    "res_xgb_clip = ((sub_xgb_clip[\"true\"]/100 - sub_xgb_clip[\"pred\"]/100) ** 2).values"
   ]
  },
  {
   "cell_type": "code",
   "execution_count": 33,
   "metadata": {},
   "outputs": [
    {
     "data": {
      "image/png": "[encoded data removed]",
      "text/plain": [
       "<Figure size 500x500 with 1 Axes>"
      ]
     },
     "metadata": {},
     "output_type": "display_data"
    }
   ],
   "source": [
    "plot_dist(res_xgb_clip, res_xgb_bert_resnet152)"
   ]
  },
  {
   "cell_type": "code",
   "execution_count": 34,
   "metadata": {},
   "outputs": [
    {
     "data": {
      "text/plain": [
       "Ttest_relResult(statistic=-4.791208129105644, pvalue=9.469821099365283e-07)"
      ]
     },
     "execution_count": 34,
     "metadata": {},
     "output_type": "execute_result"
    }
   ],
   "source": [
    "sp.stats.ttest_rel(\n",
    "    b=res_xgb_bert_resnet152,\n",
    "    a=res_xgb_clip,\n",
    "    alternative=\"less\"\n",
    ")\n",
    "\n",
    "# Theory: CLIP better than BERT+ResNet-152\n",
    "# H0: BertResNet152 > CLIP\n",
    "# H1: smaller"
   ]
  }
 ],
 "metadata": {
  "kernelspec": {
   "display_name": "Python 3.9.13 ('food-pricing')",
   "language": "python",
   "name": "python3"
  },
  "language_info": {
   "codemirror_mode": {
    "name": "ipython",
    "version": 3
   },
   "file_extension": ".py",
   "mimetype": "text/x-python",
   "name": "python",
   "nbconvert_exporter": "python",
   "pygments_lexer": "ipython3",
   "version": "3.9.13"
  },
  "orig_nbformat": 4,
  "vscode": {
   "interpreter": {
    "hash": "7baf0a9355b2187f13b56e3fae033a6ce164fc9add6d7138e9a4da0d4f49a6ad"
   }
  }
 },
 "nbformat": 4,
 "nbformat_minor": 2
}
