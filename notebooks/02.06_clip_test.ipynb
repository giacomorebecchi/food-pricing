{
 "cells": [
  {
   "cell_type": "code",
   "execution_count": 7,
   "metadata": {},
   "outputs": [],
   "source": [
    "from src.models.dual_encoding.pretrained_clip import PreTrainedCLIP\n",
    "from src.models.utils.data import FoodPricingDataset\n",
    "from torch.utils.data import DataLoader\n",
    "from torchvision import transforms"
   ]
  },
  {
   "cell_type": "markdown",
   "metadata": {},
   "source": [
    "With PreTrainedCLIP class"
   ]
  },
  {
   "cell_type": "code",
   "execution_count": 8,
   "metadata": {},
   "outputs": [],
   "source": [
    "pretrained_model_name_or_path = \"clip-italian/clip-italian\"\n",
    "\n",
    "model_kwargs = {\n",
    "    \"pretrained_model_name_or_path\": pretrained_model_name_or_path,\n",
    "}"
   ]
  },
  {
   "cell_type": "code",
   "execution_count": 9,
   "metadata": {},
   "outputs": [
    {
     "name": "stdout",
     "output_type": "stream",
     "text": [
      "Text:  768\n",
      "Image:  768\n",
      "Projection:  512\n"
     ]
    }
   ],
   "source": [
    "img_feature_dim, txt_feature_dim = None, None\n",
    "model = PreTrainedCLIP(\n",
    "    model_kwargs, \n",
    "    img_feature_dim=img_feature_dim,\n",
    "    txt_feature_dim=txt_feature_dim,\n",
    ")\n",
    "\n",
    "print(\"Text: \", model.clip.text_embed_dim)\n",
    "print(\"Image: \", model.clip.vision_embed_dim)\n",
    "print(\"Projection: \", model.clip.projection_dim)"
   ]
  },
  {
   "cell_type": "code",
   "execution_count": 10,
   "metadata": {},
   "outputs": [],
   "source": [
    "size = model.processor.feature_extractor.crop_size\n",
    "mean = model.processor.feature_extractor.image_mean\n",
    "std = model.processor.feature_extractor.image_std\n",
    "\n",
    "img_transform = transforms.Compose(\n",
    "    [\n",
    "        transforms.Resize(size=(size, size)),\n",
    "        transforms.ToTensor(),\n",
    "        transforms.Normalize(\n",
    "            mean=mean,\n",
    "            std=std,\n",
    "        )\n",
    "    ]\n",
    ")\n",
    "txt_transform = lambda x: x\n",
    "\n",
    "training_data = FoodPricingDataset(\n",
    "    img_transform=img_transform,\n",
    "    txt_transform=txt_transform,\n",
    "    split=\"train\",\n",
    ")\n",
    "dataloader = DataLoader(\n",
    "    training_data,\n",
    "    shuffle=True,\n",
    "    batch_size=4,\n",
    "    num_workers=8,\n",
    ")\n",
    "sample = next(iter(dataloader))"
   ]
  },
  {
   "cell_type": "code",
   "execution_count": 11,
   "metadata": {},
   "outputs": [
    {
     "data": {
      "text/plain": [
       "{'img': tensor([[ 0.0158, -0.0360,  0.0568,  ...,  0.1045, -0.0002,  0.0349],\n",
       "         [-0.0071, -0.0447,  0.0286,  ...,  0.0730,  0.0426,  0.0427],\n",
       "         [ 0.0124, -0.0156,  0.0531,  ...,  0.0001, -0.0558,  0.0945],\n",
       "         [ 0.0320, -0.0583,  0.0682,  ...,  0.0345, -0.0620,  0.0810]]),\n",
       " 'txt': tensor([[-0.0238, -0.0674,  0.0234,  ...,  0.1238,  0.0372,  0.0515],\n",
       "         [-0.0335, -0.0699,  0.0038,  ...,  0.0652,  0.0178,  0.0332],\n",
       "         [-0.0236, -0.0100,  0.0528,  ...,  0.1020, -0.0693,  0.0285],\n",
       "         [-0.0157, -0.0665,  0.0233,  ...,  0.0490, -0.0183,  0.0253]])}"
      ]
     },
     "execution_count": 11,
     "metadata": {},
     "output_type": "execute_result"
    }
   ],
   "source": [
    "model(sample[\"txt\"], sample[\"img\"])"
   ]
  },
  {
   "cell_type": "code",
   "execution_count": null,
   "metadata": {},
   "outputs": [],
   "source": []
  }
 ],
 "metadata": {
  "kernelspec": {
   "display_name": "Python 3.9.13 ('food-pricing')",
   "language": "python",
   "name": "python3"
  },
  "language_info": {
   "codemirror_mode": {
    "name": "ipython",
    "version": 3
   },
   "file_extension": ".py",
   "mimetype": "text/x-python",
   "name": "python",
   "nbconvert_exporter": "python",
   "pygments_lexer": "ipython3",
   "version": "3.9.13"
  },
  "orig_nbformat": 4,
  "vscode": {
   "interpreter": {
    "hash": "7baf0a9355b2187f13b56e3fae033a6ce164fc9add6d7138e9a4da0d4f49a6ad"
   }
  }
 },
 "nbformat": 4,
 "nbformat_minor": 2
}
