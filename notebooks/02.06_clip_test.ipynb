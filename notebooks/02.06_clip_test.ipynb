{
 "cells": [
  {
   "cell_type": "code",
   "execution_count": 1,
   "metadata": {},
   "outputs": [],
   "source": [
    "from src.models.dual_encoding.clip import PreTrainedCLIP\n",
    "from src.models.utils.data import FoodPricingDataset\n",
    "from torch.utils.data import DataLoader\n",
    "from torchvision import transforms"
   ]
  },
  {
   "cell_type": "markdown",
   "metadata": {},
   "source": [
    "With PreTrainedCLIP class"
   ]
  },
  {
   "cell_type": "code",
   "execution_count": 2,
   "metadata": {},
   "outputs": [],
   "source": [
    "pretrained_model_name_or_path = \"clip-italian/clip-italian\"\n",
    "\n",
    "model_kwargs = {\n",
    "    \"pretrained_model_name_or_path\": pretrained_model_name_or_path,\n",
    "}"
   ]
  },
  {
   "cell_type": "code",
   "execution_count": 3,
   "metadata": {},
   "outputs": [
    {
     "data": {
      "text/plain": [
       "768"
      ]
     },
     "execution_count": 3,
     "metadata": {},
     "output_type": "execute_result"
    }
   ],
   "source": [
    "img_feature_dim, txt_feature_dim = None, None\n",
    "model = PreTrainedCLIP(\n",
    "    model_kwargs, \n",
    "    img_feature_dim=img_feature_dim,\n",
    "    txt_feature_dim=txt_feature_dim,\n",
    ")\n",
    "model.clip.text_embed_dim\n",
    "model.clip.vision_embed_dim"
   ]
  },
  {
   "cell_type": "code",
   "execution_count": 4,
   "metadata": {},
   "outputs": [],
   "source": [
    "img_transform = transforms.Compose(\n",
    "    [\n",
    "        transforms.Resize(size=(224, 224)),\n",
    "        transforms.ToTensor(),\n",
    "        transforms.Normalize(\n",
    "            mean=[0.485, 0.456, 0.406],  # TODO: load from model\n",
    "            std=[0.229, 0.224, 0.225], # TODO: load from model\n",
    "        )\n",
    "    ]\n",
    ")\n",
    "txt_transform = lambda x: x\n",
    "\n",
    "training_data = FoodPricingDataset(\n",
    "    img_transform=img_transform,\n",
    "    txt_transform=txt_transform,\n",
    "    split=\"train\",\n",
    ")\n",
    "dataloader = DataLoader(\n",
    "    training_data,\n",
    "    shuffle=True,\n",
    "    batch_size=4,\n",
    "    num_workers=8,\n",
    ")\n",
    "sample = next(iter(dataloader))"
   ]
  },
  {
   "cell_type": "code",
   "execution_count": 5,
   "metadata": {},
   "outputs": [],
   "source": [
    "inputs = model.processor(\n",
    "    text=sample[\"txt\"],\n",
    "    images=sample[\"img\"],\n",
    "    # return_tensors=\"pt\", # This fails due to a bug in transformers code\n",
    "    return_tensors=None,\n",
    "    padding=True,\n",
    ")"
   ]
  },
  {
   "cell_type": "code",
   "execution_count": 6,
   "metadata": {},
   "outputs": [],
   "source": [
    "import torch\n",
    "\n",
    "inputs[\"input_ids\"] = torch.tensor(inputs[\"input_ids\"])\n",
    "inputs[\"attention_mask\"] = torch.tensor(inputs[\"attention_mask\"])\n",
    "if isinstance(inputs[\"pixel_values\"], list) and len(inputs[\"pixel_values\"]) == 1:\n",
    "    inputs[\"pixel_values\"] = inputs[\"pixel_values\"][0]\n",
    "else:\n",
    "    raise ValueError(\"Pixel values could not be transformed into a tensor.\")"
   ]
  },
  {
   "cell_type": "code",
   "execution_count": 8,
   "metadata": {},
   "outputs": [],
   "source": [
    "outputs = model.clip(\n",
    "    input_ids=inputs.input_ids,\n",
    "    attention_mask=inputs.attention_mask,\n",
    "    pixel_values=inputs.pixel_values,\n",
    "    return_loss=True,\n",
    ")\n",
    "loss, logits_per_image = outputs.loss, outputs.logits_per_image  # this is the image-text similarity score"
   ]
  },
  {
   "cell_type": "code",
   "execution_count": 11,
   "metadata": {},
   "outputs": [
    {
     "data": {
      "text/plain": [
       "torch.Size([4, 512])"
      ]
     },
     "execution_count": 11,
     "metadata": {},
     "output_type": "execute_result"
    }
   ],
   "source": [
    "outputs.text_embeds.shape"
   ]
  },
  {
   "cell_type": "code",
   "execution_count": 12,
   "metadata": {},
   "outputs": [
    {
     "data": {
      "text/plain": [
       "torch.Size([4, 512])"
      ]
     },
     "execution_count": 12,
     "metadata": {},
     "output_type": "execute_result"
    }
   ],
   "source": [
    "outputs.image_embeds.shape"
   ]
  }
 ],
 "metadata": {
  "kernelspec": {
   "display_name": "Python 3.9.13 ('food-pricing')",
   "language": "python",
   "name": "python3"
  },
  "language_info": {
   "codemirror_mode": {
    "name": "ipython",
    "version": 3
   },
   "file_extension": ".py",
   "mimetype": "text/x-python",
   "name": "python",
   "nbconvert_exporter": "python",
   "pygments_lexer": "ipython3",
   "version": "3.9.13"
  },
  "orig_nbformat": 4,
  "vscode": {
   "interpreter": {
    "hash": "7baf0a9355b2187f13b56e3fae033a6ce164fc9add6d7138e9a4da0d4f49a6ad"
   }
  }
 },
 "nbformat": 4,
 "nbformat_minor": 2
}
