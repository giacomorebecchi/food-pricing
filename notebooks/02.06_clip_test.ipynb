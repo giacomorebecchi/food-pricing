{
 "cells": [
  {
   "cell_type": "code",
   "execution_count": 1,
   "metadata": {},
   "outputs": [],
   "source": [
    "from src.models.dual_encoding.pretrained_clip import PreTrainedCLIP\n",
    "from src.models.utils.data import FoodPricingDataset\n",
    "from torch.utils.data import DataLoader\n",
    "from torchvision import transforms"
   ]
  },
  {
   "cell_type": "markdown",
   "metadata": {},
   "source": [
    "With PreTrainedCLIP class"
   ]
  },
  {
   "cell_type": "code",
   "execution_count": 2,
   "metadata": {},
   "outputs": [],
   "source": [
    "pretrained_model_name_or_path = \"clip-italian/clip-italian\"\n",
    "\n",
    "model_kwargs = {\n",
    "    \"pretrained_model_name_or_path\": pretrained_model_name_or_path,\n",
    "}"
   ]
  },
  {
   "cell_type": "code",
   "execution_count": 3,
   "metadata": {},
   "outputs": [
    {
     "name": "stdout",
     "output_type": "stream",
     "text": [
      "Text:  768\n",
      "Image:  768\n",
      "Projection:  512\n"
     ]
    }
   ],
   "source": [
    "img_feature_dim, txt_feature_dim = None, None\n",
    "model = PreTrainedCLIP(\n",
    "    model_kwargs, \n",
    "    img_feature_dim=img_feature_dim,\n",
    "    txt_feature_dim=txt_feature_dim,\n",
    ")\n",
    "\n",
    "print(\"Text: \", model.clip.text_embed_dim)\n",
    "print(\"Image: \", model.clip.vision_embed_dim)\n",
    "print(\"Projection: \", model.clip.projection_dim)"
   ]
  },
  {
   "cell_type": "code",
   "execution_count": 4,
   "metadata": {},
   "outputs": [],
   "source": [
    "size = model.processor.feature_extractor.crop_size\n",
    "mean = model.processor.feature_extractor.image_mean\n",
    "std = model.processor.feature_extractor.image_std\n",
    "\n",
    "img_transform = transforms.Compose(\n",
    "    [\n",
    "        transforms.Resize(size=(size, size)),\n",
    "        transforms.ToTensor(),\n",
    "        transforms.Normalize(\n",
    "            mean=mean,\n",
    "            std=std,\n",
    "        )\n",
    "    ]\n",
    ")\n",
    "txt_transform = lambda x: x\n",
    "\n",
    "training_data = FoodPricingDataset(\n",
    "    img_transform=img_transform,\n",
    "    txt_transform=txt_transform,\n",
    "    split=\"train\",\n",
    ")\n",
    "dataloader = DataLoader(\n",
    "    training_data,\n",
    "    shuffle=True,\n",
    "    batch_size=4,\n",
    "    num_workers=8,\n",
    ")\n",
    "sample = next(iter(dataloader))"
   ]
  },
  {
   "cell_type": "code",
   "execution_count": 5,
   "metadata": {},
   "outputs": [
    {
     "data": {
      "text/plain": [
       "{'img': tensor([[ 0.0538, -0.0227,  0.0455,  ...,  0.0760, -0.0372, -0.0016],\n",
       "         [ 0.0208, -0.1054, -0.0081,  ...,  0.0906, -0.0299, -0.0068],\n",
       "         [-0.0125, -0.0821,  0.0717,  ...,  0.0025, -0.0701,  0.0934],\n",
       "         [ 0.0009, -0.0610, -0.0152,  ..., -0.0062, -0.0364, -0.0182]]),\n",
       " 'txt': tensor([[-0.0066, -0.0041,  0.0068,  ...,  0.0665, -0.0019,  0.0276],\n",
       "         [-0.0074, -0.0795, -0.0241,  ...,  0.1290,  0.0049,  0.0489],\n",
       "         [-0.0330, -0.0561,  0.0298,  ...,  0.0980, -0.0224,  0.0113],\n",
       "         [-0.0468, -0.0384, -0.0105,  ...,  0.0095,  0.0013,  0.0270]])}"
      ]
     },
     "execution_count": 5,
     "metadata": {},
     "output_type": "execute_result"
    }
   ],
   "source": [
    "model(sample)"
   ]
  }
 ],
 "metadata": {
  "kernelspec": {
   "display_name": "Python 3.9.13 ('food-pricing')",
   "language": "python",
   "name": "python3"
  },
  "language_info": {
   "codemirror_mode": {
    "name": "ipython",
    "version": 3
   },
   "file_extension": ".py",
   "mimetype": "text/x-python",
   "name": "python",
   "nbconvert_exporter": "python",
   "pygments_lexer": "ipython3",
   "version": "3.9.13"
  },
  "orig_nbformat": 4,
  "vscode": {
   "interpreter": {
    "hash": "7baf0a9355b2187f13b56e3fae033a6ce164fc9add6d7138e9a4da0d4f49a6ad"
   }
  }
 },
 "nbformat": 4,
 "nbformat_minor": 2
}
