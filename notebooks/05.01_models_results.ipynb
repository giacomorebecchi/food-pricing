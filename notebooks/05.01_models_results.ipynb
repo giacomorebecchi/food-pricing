{
 "cells": [
  {
   "cell_type": "markdown",
   "metadata": {},
   "source": [
    "# Models results"
   ]
  },
  {
   "cell_type": "code",
   "execution_count": 1,
   "metadata": {},
   "outputs": [],
   "source": [
    "from sklearn.metrics import mean_squared_error, mean_absolute_error\n",
    "import pandas as pd\n",
    "from pathlib import PurePosixPath\n",
    "from src.definitions import ROOT_DIR\n",
    "\n",
    "from typing import List, Optional\n",
    "from src.models.baseline import FPCBOWResNet152ConcatBaselineModel\n",
    "from src.models.bert import FPBERTResNet152ConcatModel, FPBERTResNet152WeightedConcatModel\n",
    "from src.models.clip import FPCLIPConcatModel, FPCLIPWeightedConcatModel\n",
    "from src.models.base_model import FoodPricingBaseModel"
   ]
  },
  {
   "cell_type": "markdown",
   "metadata": {},
   "source": [
    "### Create the table storing all the results"
   ]
  },
  {
   "cell_type": "code",
   "execution_count": 2,
   "metadata": {},
   "outputs": [],
   "source": [
    "def store_results(\n",
    "    df: pd.DataFrame,\n",
    "    submission_frame: pd.DataFrame,\n",
    "    model_name: str,\n",
    "    run: Optional[str] = \"\",\n",
    ") -> None:\n",
    "    df.loc[(model_name, run), [\"MSE\", \"RMSE\", \"MAE\"]] = (\n",
    "        mean_squared_error(\n",
    "            y_true=submission_frame[\"true\"] / 100,\n",
    "            y_pred=submission_frame[\"pred\"] / 100,\n",
    "            squared=True,\n",
    "        ),\n",
    "        mean_squared_error(\n",
    "            y_true=submission_frame[\"true\"] / 100,\n",
    "            y_pred=submission_frame[\"pred\"] / 100,\n",
    "            squared=False,\n",
    "        ),\n",
    "        mean_absolute_error(\n",
    "            y_true=submission_frame[\"true\"] / 100, y_pred=submission_frame[\"pred\"] / 100\n",
    "        ),\n",
    "    )"
   ]
  },
  {
   "cell_type": "code",
   "execution_count": 3,
   "metadata": {},
   "outputs": [],
   "source": [
    "results = pd.DataFrame(columns=[\"Model\", \"Run\", \"MSE\", \"RMSE\", \"MAE\"])\n",
    "results = results.set_index([\"Model\", \"Run\"])"
   ]
  },
  {
   "cell_type": "code",
   "execution_count": 4,
   "metadata": {},
   "outputs": [
    {
     "data": {
      "text/html": [
       "<div>\n",
       "<style scoped>\n",
       "    .dataframe tbody tr th:only-of-type {\n",
       "        vertical-align: middle;\n",
       "    }\n",
       "\n",
       "    .dataframe tbody tr th {\n",
       "        vertical-align: top;\n",
       "    }\n",
       "\n",
       "    .dataframe thead th {\n",
       "        text-align: right;\n",
       "    }\n",
       "</style>\n",
       "<table border=\"1\" class=\"dataframe\">\n",
       "  <thead>\n",
       "    <tr style=\"text-align: right;\">\n",
       "      <th></th>\n",
       "      <th></th>\n",
       "      <th>MSE</th>\n",
       "      <th>RMSE</th>\n",
       "      <th>MAE</th>\n",
       "    </tr>\n",
       "    <tr>\n",
       "      <th>Model</th>\n",
       "      <th>Run</th>\n",
       "      <th></th>\n",
       "      <th></th>\n",
       "      <th></th>\n",
       "    </tr>\n",
       "  </thead>\n",
       "  <tbody>\n",
       "  </tbody>\n",
       "</table>\n",
       "</div>"
      ],
      "text/plain": [
       "Empty DataFrame\n",
       "Columns: [MSE, RMSE, MAE]\n",
       "Index: []"
      ]
     },
     "execution_count": 4,
     "metadata": {},
     "output_type": "execute_result"
    }
   ],
   "source": [
    "results"
   ]
  },
  {
   "cell_type": "markdown",
   "metadata": {},
   "source": [
    "### Mean Baseline"
   ]
  },
  {
   "cell_type": "code",
   "execution_count": 5,
   "metadata": {},
   "outputs": [],
   "source": [
    "submissions_fpath = PurePosixPath(ROOT_DIR).joinpath(\"submissions\", \"2022-08-27T17:04:06+00:00\")\n",
    "\n",
    "mean_baseline_fname = submissions_fpath.joinpath(\"FPMeanBaselineModel.csv\")\n",
    "\n",
    "sub_mean_baseline = pd.read_csv(mean_baseline_fname,index_col=0,header=0)"
   ]
  },
  {
   "cell_type": "code",
   "execution_count": 6,
   "metadata": {},
   "outputs": [
    {
     "data": {
      "text/html": [
       "<div>\n",
       "<style scoped>\n",
       "    .dataframe tbody tr th:only-of-type {\n",
       "        vertical-align: middle;\n",
       "    }\n",
       "\n",
       "    .dataframe tbody tr th {\n",
       "        vertical-align: top;\n",
       "    }\n",
       "\n",
       "    .dataframe thead th {\n",
       "        text-align: right;\n",
       "    }\n",
       "</style>\n",
       "<table border=\"1\" class=\"dataframe\">\n",
       "  <thead>\n",
       "    <tr style=\"text-align: right;\">\n",
       "      <th></th>\n",
       "      <th>true</th>\n",
       "      <th>pred</th>\n",
       "    </tr>\n",
       "    <tr>\n",
       "      <th>item_id</th>\n",
       "      <th></th>\n",
       "      <th></th>\n",
       "    </tr>\n",
       "  </thead>\n",
       "  <tbody>\n",
       "    <tr>\n",
       "      <th>bergamo_alzano-lombardo_pony-burger_5</th>\n",
       "      <td>850.0</td>\n",
       "      <td>659.82497</td>\n",
       "    </tr>\n",
       "    <tr>\n",
       "      <th>bergamo_centro-storico_bar-mada_1</th>\n",
       "      <td>1490.0</td>\n",
       "      <td>659.82497</td>\n",
       "    </tr>\n",
       "    <tr>\n",
       "      <th>bergamo_centro-storico_bar-mada_14</th>\n",
       "      <td>500.0</td>\n",
       "      <td>659.82497</td>\n",
       "    </tr>\n",
       "    <tr>\n",
       "      <th>bergamo_centro-storico_bar-mada_17</th>\n",
       "      <td>1240.0</td>\n",
       "      <td>659.82497</td>\n",
       "    </tr>\n",
       "    <tr>\n",
       "      <th>bergamo_centro-storico_bar-mada_24</th>\n",
       "      <td>490.0</td>\n",
       "      <td>659.82497</td>\n",
       "    </tr>\n",
       "    <tr>\n",
       "      <th>...</th>\n",
       "      <td>...</td>\n",
       "      <td>...</td>\n",
       "    </tr>\n",
       "    <tr>\n",
       "      <th>roma_villaggio-olimpico_enso_7</th>\n",
       "      <td>350.0</td>\n",
       "      <td>659.82497</td>\n",
       "    </tr>\n",
       "    <tr>\n",
       "      <th>roma_villaggio-olimpico_enso_75</th>\n",
       "      <td>2000.0</td>\n",
       "      <td>659.82497</td>\n",
       "    </tr>\n",
       "    <tr>\n",
       "      <th>roma_villaggio-olimpico_enso_78</th>\n",
       "      <td>1000.0</td>\n",
       "      <td>659.82497</td>\n",
       "    </tr>\n",
       "    <tr>\n",
       "      <th>roma_villaggio-olimpico_enso_80</th>\n",
       "      <td>800.0</td>\n",
       "      <td>659.82497</td>\n",
       "    </tr>\n",
       "    <tr>\n",
       "      <th>roma_villaggio-olimpico_enso_82</th>\n",
       "      <td>1000.0</td>\n",
       "      <td>659.82497</td>\n",
       "    </tr>\n",
       "  </tbody>\n",
       "</table>\n",
       "<p>1060 rows × 2 columns</p>\n",
       "</div>"
      ],
      "text/plain": [
       "                                         true       pred\n",
       "item_id                                                 \n",
       "bergamo_alzano-lombardo_pony-burger_5   850.0  659.82497\n",
       "bergamo_centro-storico_bar-mada_1      1490.0  659.82497\n",
       "bergamo_centro-storico_bar-mada_14      500.0  659.82497\n",
       "bergamo_centro-storico_bar-mada_17     1240.0  659.82497\n",
       "bergamo_centro-storico_bar-mada_24      490.0  659.82497\n",
       "...                                       ...        ...\n",
       "roma_villaggio-olimpico_enso_7          350.0  659.82497\n",
       "roma_villaggio-olimpico_enso_75        2000.0  659.82497\n",
       "roma_villaggio-olimpico_enso_78        1000.0  659.82497\n",
       "roma_villaggio-olimpico_enso_80         800.0  659.82497\n",
       "roma_villaggio-olimpico_enso_82        1000.0  659.82497\n",
       "\n",
       "[1060 rows x 2 columns]"
      ]
     },
     "execution_count": 6,
     "metadata": {},
     "output_type": "execute_result"
    }
   ],
   "source": [
    "sub_mean_baseline"
   ]
  },
  {
   "cell_type": "code",
   "execution_count": 7,
   "metadata": {},
   "outputs": [
    {
     "data": {
      "text/html": [
       "<div>\n",
       "<style scoped>\n",
       "    .dataframe tbody tr th:only-of-type {\n",
       "        vertical-align: middle;\n",
       "    }\n",
       "\n",
       "    .dataframe tbody tr th {\n",
       "        vertical-align: top;\n",
       "    }\n",
       "\n",
       "    .dataframe thead th {\n",
       "        text-align: right;\n",
       "    }\n",
       "</style>\n",
       "<table border=\"1\" class=\"dataframe\">\n",
       "  <thead>\n",
       "    <tr style=\"text-align: right;\">\n",
       "      <th></th>\n",
       "      <th></th>\n",
       "      <th>MSE</th>\n",
       "      <th>RMSE</th>\n",
       "      <th>MAE</th>\n",
       "    </tr>\n",
       "    <tr>\n",
       "      <th>Model</th>\n",
       "      <th>Run</th>\n",
       "      <th></th>\n",
       "      <th></th>\n",
       "      <th></th>\n",
       "    </tr>\n",
       "  </thead>\n",
       "  <tbody>\n",
       "    <tr>\n",
       "      <th>FPMeanBaselineModel</th>\n",
       "      <th></th>\n",
       "      <td>37.629804</td>\n",
       "      <td>6.134314</td>\n",
       "      <td>4.201829</td>\n",
       "    </tr>\n",
       "  </tbody>\n",
       "</table>\n",
       "</div>"
      ],
      "text/plain": [
       "                               MSE      RMSE       MAE\n",
       "Model               Run                               \n",
       "FPMeanBaselineModel      37.629804  6.134314  4.201829"
      ]
     },
     "execution_count": 7,
     "metadata": {},
     "output_type": "execute_result"
    }
   ],
   "source": [
    "store_results(results, sub_mean_baseline, \"FPMeanBaselineModel\")\n",
    "results"
   ]
  },
  {
   "cell_type": "markdown",
   "metadata": {},
   "source": [
    "### XGB Models"
   ]
  },
  {
   "cell_type": "code",
   "execution_count": 8,
   "metadata": {},
   "outputs": [],
   "source": [
    "xgb_bert_resnet152_fname = submissions_fpath.joinpath(\"XGBBERTResNet152.csv\")\n",
    "xgb_clip_fname = submissions_fpath.joinpath(\"XGBCLIP.csv\")\n",
    "\n",
    "sub_xgb_bert_resnet152 = pd.read_csv(xgb_bert_resnet152_fname, index_col=0, header=0)\n",
    "sub_xgb_clip = pd.read_csv(xgb_clip_fname, index_col=0, header=0)"
   ]
  },
  {
   "cell_type": "code",
   "execution_count": 9,
   "metadata": {},
   "outputs": [
    {
     "data": {
      "text/html": [
       "<div>\n",
       "<style scoped>\n",
       "    .dataframe tbody tr th:only-of-type {\n",
       "        vertical-align: middle;\n",
       "    }\n",
       "\n",
       "    .dataframe tbody tr th {\n",
       "        vertical-align: top;\n",
       "    }\n",
       "\n",
       "    .dataframe thead th {\n",
       "        text-align: right;\n",
       "    }\n",
       "</style>\n",
       "<table border=\"1\" class=\"dataframe\">\n",
       "  <thead>\n",
       "    <tr style=\"text-align: right;\">\n",
       "      <th></th>\n",
       "      <th></th>\n",
       "      <th>MSE</th>\n",
       "      <th>RMSE</th>\n",
       "      <th>MAE</th>\n",
       "    </tr>\n",
       "    <tr>\n",
       "      <th>Model</th>\n",
       "      <th>Run</th>\n",
       "      <th></th>\n",
       "      <th></th>\n",
       "      <th></th>\n",
       "    </tr>\n",
       "  </thead>\n",
       "  <tbody>\n",
       "    <tr>\n",
       "      <th>FPMeanBaselineModel</th>\n",
       "      <th></th>\n",
       "      <td>37.629804</td>\n",
       "      <td>6.134314</td>\n",
       "      <td>4.201829</td>\n",
       "    </tr>\n",
       "    <tr>\n",
       "      <th>XGBBERTResNet152</th>\n",
       "      <th></th>\n",
       "      <td>19.830486</td>\n",
       "      <td>4.453143</td>\n",
       "      <td>2.552919</td>\n",
       "    </tr>\n",
       "    <tr>\n",
       "      <th>XGBCLIP</th>\n",
       "      <th></th>\n",
       "      <td>13.453174</td>\n",
       "      <td>3.667857</td>\n",
       "      <td>2.056221</td>\n",
       "    </tr>\n",
       "  </tbody>\n",
       "</table>\n",
       "</div>"
      ],
      "text/plain": [
       "                               MSE      RMSE       MAE\n",
       "Model               Run                               \n",
       "FPMeanBaselineModel      37.629804  6.134314  4.201829\n",
       "XGBBERTResNet152         19.830486  4.453143  2.552919\n",
       "XGBCLIP                  13.453174  3.667857  2.056221"
      ]
     },
     "execution_count": 9,
     "metadata": {},
     "output_type": "execute_result"
    }
   ],
   "source": [
    "store_results(results, sub_xgb_bert_resnet152, \"XGBBERTResNet152\")\n",
    "store_results(results, sub_xgb_clip, \"XGBCLIP\")\n",
    "results"
   ]
  },
  {
   "cell_type": "markdown",
   "metadata": {},
   "source": [
    "### Core models for each run"
   ]
  },
  {
   "cell_type": "code",
   "execution_count": 10,
   "metadata": {},
   "outputs": [
    {
     "name": "stdout",
     "output_type": "stream",
     "text": [
      "Calculating results for model FPCBOWResNet152ConcatBaselineModel in run run_01\n"
     ]
    },
    {
     "name": "stderr",
     "output_type": "stream",
     "text": [
      "Global seed set to 42\n",
      "Warning : `load_model` does not return WordVectorModel or SupervisedModel any more, but a `FastText` object which is very similar.\n"
     ]
    },
    {
     "data": {
      "application/json": {
       "ascii": false,
       "bar_format": null,
       "colour": null,
       "elapsed": 0.01912236213684082,
       "initial": 0,
       "n": 0,
       "ncols": null,
       "nrows": 9,
       "postfix": null,
       "prefix": "",
       "rate": null,
       "total": 34,
       "unit": "it",
       "unit_divisor": 1000,
       "unit_scale": false
      },
      "application/vnd.jupyter.widget-view+json": {
       "model_id": "fb05fd71de6d4633a481bdf1bda76dbc",
       "version_major": 2,
       "version_minor": 0
      },
      "text/plain": [
       "  0%|          | 0/34 [00:00<?, ?it/s]"
      ]
     },
     "metadata": {},
     "output_type": "display_data"
    },
    {
     "name": "stdout",
     "output_type": "stream",
     "text": [
      "Calculating results for model FPCBOWResNet152ConcatBaselineModel in run run_02\n"
     ]
    },
    {
     "name": "stderr",
     "output_type": "stream",
     "text": [
      "Global seed set to 42\n",
      "Warning : `load_model` does not return WordVectorModel or SupervisedModel any more, but a `FastText` object which is very similar.\n"
     ]
    },
    {
     "data": {
      "application/json": {
       "ascii": false,
       "bar_format": null,
       "colour": null,
       "elapsed": 0.01843118667602539,
       "initial": 0,
       "n": 0,
       "ncols": null,
       "nrows": 9,
       "postfix": null,
       "prefix": "",
       "rate": null,
       "total": 34,
       "unit": "it",
       "unit_divisor": 1000,
       "unit_scale": false
      },
      "application/vnd.jupyter.widget-view+json": {
       "model_id": "65edc1f6ae7a4c2fba40103c8ed1341b",
       "version_major": 2,
       "version_minor": 0
      },
      "text/plain": [
       "  0%|          | 0/34 [00:00<?, ?it/s]"
      ]
     },
     "metadata": {},
     "output_type": "display_data"
    },
    {
     "name": "stdout",
     "output_type": "stream",
     "text": [
      "Calculating results for model FPBERTResNet152ConcatModel in run run_01\n"
     ]
    },
    {
     "name": "stderr",
     "output_type": "stream",
     "text": [
      "Global seed set to 42\n",
      "Some weights of the model checkpoint at dbmdz/bert-base-italian-xxl-uncased were not used when initializing BertModel: ['cls.predictions.transform.dense.bias', 'cls.predictions.bias', 'cls.predictions.transform.LayerNorm.bias', 'cls.predictions.transform.LayerNorm.weight', 'bert.pooler.dense.bias', 'cls.seq_relationship.weight', 'cls.predictions.decoder.weight', 'cls.seq_relationship.bias', 'cls.predictions.decoder.bias', 'bert.pooler.dense.weight', 'cls.predictions.transform.dense.weight']\n",
      "- This IS expected if you are initializing BertModel from the checkpoint of a model trained on another task or with another architecture (e.g. initializing a BertForSequenceClassification model from a BertForPreTraining model).\n",
      "- This IS NOT expected if you are initializing BertModel from the checkpoint of a model that you expect to be exactly identical (initializing a BertForSequenceClassification model from a BertForSequenceClassification model).\n"
     ]
    },
    {
     "data": {
      "application/json": {
       "ascii": false,
       "bar_format": null,
       "colour": null,
       "elapsed": 0.018169164657592773,
       "initial": 0,
       "n": 0,
       "ncols": null,
       "nrows": 9,
       "postfix": null,
       "prefix": "",
       "rate": null,
       "total": 34,
       "unit": "it",
       "unit_divisor": 1000,
       "unit_scale": false
      },
      "application/vnd.jupyter.widget-view+json": {
       "model_id": "b223add0fb2d482bbb19b8ae71dac84b",
       "version_major": 2,
       "version_minor": 0
      },
      "text/plain": [
       "  0%|          | 0/34 [00:00<?, ?it/s]"
      ]
     },
     "metadata": {},
     "output_type": "display_data"
    },
    {
     "name": "stdout",
     "output_type": "stream",
     "text": [
      "Calculating results for model FPBERTResNet152ConcatModel in run run_02\n"
     ]
    },
    {
     "name": "stderr",
     "output_type": "stream",
     "text": [
      "Global seed set to 42\n",
      "Some weights of the model checkpoint at dbmdz/bert-base-italian-xxl-uncased were not used when initializing BertModel: ['cls.predictions.transform.dense.bias', 'cls.predictions.bias', 'cls.predictions.transform.LayerNorm.bias', 'cls.predictions.transform.LayerNorm.weight', 'bert.pooler.dense.bias', 'cls.seq_relationship.weight', 'cls.predictions.decoder.weight', 'cls.seq_relationship.bias', 'cls.predictions.decoder.bias', 'bert.pooler.dense.weight', 'cls.predictions.transform.dense.weight']\n",
      "- This IS expected if you are initializing BertModel from the checkpoint of a model trained on another task or with another architecture (e.g. initializing a BertForSequenceClassification model from a BertForPreTraining model).\n",
      "- This IS NOT expected if you are initializing BertModel from the checkpoint of a model that you expect to be exactly identical (initializing a BertForSequenceClassification model from a BertForSequenceClassification model).\n"
     ]
    },
    {
     "data": {
      "application/json": {
       "ascii": false,
       "bar_format": null,
       "colour": null,
       "elapsed": 0.016955852508544922,
       "initial": 0,
       "n": 0,
       "ncols": null,
       "nrows": 9,
       "postfix": null,
       "prefix": "",
       "rate": null,
       "total": 34,
       "unit": "it",
       "unit_divisor": 1000,
       "unit_scale": false
      },
      "application/vnd.jupyter.widget-view+json": {
       "model_id": "b2fe1bc56a77470d8b66cb74920f3a65",
       "version_major": 2,
       "version_minor": 0
      },
      "text/plain": [
       "  0%|          | 0/34 [00:00<?, ?it/s]"
      ]
     },
     "metadata": {},
     "output_type": "display_data"
    },
    {
     "name": "stdout",
     "output_type": "stream",
     "text": [
      "Calculating results for model FPBERTResNet152WeightedConcatModel in run run_01\n"
     ]
    },
    {
     "name": "stderr",
     "output_type": "stream",
     "text": [
      "Global seed set to 42\n",
      "Some weights of the model checkpoint at dbmdz/bert-base-italian-xxl-uncased were not used when initializing BertModel: ['cls.predictions.transform.dense.bias', 'cls.predictions.bias', 'cls.predictions.transform.LayerNorm.bias', 'cls.predictions.transform.LayerNorm.weight', 'bert.pooler.dense.bias', 'cls.seq_relationship.weight', 'cls.predictions.decoder.weight', 'cls.seq_relationship.bias', 'cls.predictions.decoder.bias', 'bert.pooler.dense.weight', 'cls.predictions.transform.dense.weight']\n",
      "- This IS expected if you are initializing BertModel from the checkpoint of a model trained on another task or with another architecture (e.g. initializing a BertForSequenceClassification model from a BertForPreTraining model).\n",
      "- This IS NOT expected if you are initializing BertModel from the checkpoint of a model that you expect to be exactly identical (initializing a BertForSequenceClassification model from a BertForSequenceClassification model).\n"
     ]
    },
    {
     "data": {
      "application/json": {
       "ascii": false,
       "bar_format": null,
       "colour": null,
       "elapsed": 0.016944169998168945,
       "initial": 0,
       "n": 0,
       "ncols": null,
       "nrows": 9,
       "postfix": null,
       "prefix": "",
       "rate": null,
       "total": 34,
       "unit": "it",
       "unit_divisor": 1000,
       "unit_scale": false
      },
      "application/vnd.jupyter.widget-view+json": {
       "model_id": "a3fa0edcb565464e97f224edfa5e4798",
       "version_major": 2,
       "version_minor": 0
      },
      "text/plain": [
       "  0%|          | 0/34 [00:00<?, ?it/s]"
      ]
     },
     "metadata": {},
     "output_type": "display_data"
    },
    {
     "name": "stdout",
     "output_type": "stream",
     "text": [
      "Calculating results for model FPBERTResNet152WeightedConcatModel in run run_02\n"
     ]
    },
    {
     "name": "stderr",
     "output_type": "stream",
     "text": [
      "Global seed set to 42\n",
      "Some weights of the model checkpoint at dbmdz/bert-base-italian-xxl-uncased were not used when initializing BertModel: ['cls.predictions.transform.dense.bias', 'cls.predictions.bias', 'cls.predictions.transform.LayerNorm.bias', 'cls.predictions.transform.LayerNorm.weight', 'bert.pooler.dense.bias', 'cls.seq_relationship.weight', 'cls.predictions.decoder.weight', 'cls.seq_relationship.bias', 'cls.predictions.decoder.bias', 'bert.pooler.dense.weight', 'cls.predictions.transform.dense.weight']\n",
      "- This IS expected if you are initializing BertModel from the checkpoint of a model trained on another task or with another architecture (e.g. initializing a BertForSequenceClassification model from a BertForPreTraining model).\n",
      "- This IS NOT expected if you are initializing BertModel from the checkpoint of a model that you expect to be exactly identical (initializing a BertForSequenceClassification model from a BertForSequenceClassification model).\n"
     ]
    },
    {
     "data": {
      "application/json": {
       "ascii": false,
       "bar_format": null,
       "colour": null,
       "elapsed": 0.01701641082763672,
       "initial": 0,
       "n": 0,
       "ncols": null,
       "nrows": 9,
       "postfix": null,
       "prefix": "",
       "rate": null,
       "total": 34,
       "unit": "it",
       "unit_divisor": 1000,
       "unit_scale": false
      },
      "application/vnd.jupyter.widget-view+json": {
       "model_id": "ba5d65e695c44ad0bd2f2af11f3e01d6",
       "version_major": 2,
       "version_minor": 0
      },
      "text/plain": [
       "  0%|          | 0/34 [00:00<?, ?it/s]"
      ]
     },
     "metadata": {},
     "output_type": "display_data"
    },
    {
     "name": "stdout",
     "output_type": "stream",
     "text": [
      "Calculating results for model FPCLIPConcatModel in run run_01\n"
     ]
    },
    {
     "name": "stderr",
     "output_type": "stream",
     "text": [
      "Global seed set to 42\n"
     ]
    },
    {
     "data": {
      "application/json": {
       "ascii": false,
       "bar_format": null,
       "colour": null,
       "elapsed": 0.02366161346435547,
       "initial": 0,
       "n": 0,
       "ncols": null,
       "nrows": 9,
       "postfix": null,
       "prefix": "",
       "rate": null,
       "total": 34,
       "unit": "it",
       "unit_divisor": 1000,
       "unit_scale": false
      },
      "application/vnd.jupyter.widget-view+json": {
       "model_id": "200e0f7434b14176bcd599e5f409a852",
       "version_major": 2,
       "version_minor": 0
      },
      "text/plain": [
       "  0%|          | 0/34 [00:00<?, ?it/s]"
      ]
     },
     "metadata": {},
     "output_type": "display_data"
    },
    {
     "name": "stdout",
     "output_type": "stream",
     "text": [
      "Calculating results for model FPCLIPConcatModel in run run_02\n"
     ]
    },
    {
     "name": "stderr",
     "output_type": "stream",
     "text": [
      "Global seed set to 42\n"
     ]
    },
    {
     "data": {
      "application/json": {
       "ascii": false,
       "bar_format": null,
       "colour": null,
       "elapsed": 0.017626523971557617,
       "initial": 0,
       "n": 0,
       "ncols": null,
       "nrows": 9,
       "postfix": null,
       "prefix": "",
       "rate": null,
       "total": 34,
       "unit": "it",
       "unit_divisor": 1000,
       "unit_scale": false
      },
      "application/vnd.jupyter.widget-view+json": {
       "model_id": "91dd8ba8b74f47b790bcbfc50dfb5405",
       "version_major": 2,
       "version_minor": 0
      },
      "text/plain": [
       "  0%|          | 0/34 [00:00<?, ?it/s]"
      ]
     },
     "metadata": {},
     "output_type": "display_data"
    },
    {
     "name": "stdout",
     "output_type": "stream",
     "text": [
      "Calculating results for model FPCLIPWeightedConcatModel in run run_01\n"
     ]
    },
    {
     "name": "stderr",
     "output_type": "stream",
     "text": [
      "Global seed set to 42\n"
     ]
    },
    {
     "data": {
      "application/json": {
       "ascii": false,
       "bar_format": null,
       "colour": null,
       "elapsed": 0.016745805740356445,
       "initial": 0,
       "n": 0,
       "ncols": null,
       "nrows": 9,
       "postfix": null,
       "prefix": "",
       "rate": null,
       "total": 34,
       "unit": "it",
       "unit_divisor": 1000,
       "unit_scale": false
      },
      "application/vnd.jupyter.widget-view+json": {
       "model_id": "f52faf9d070b47ac858ad59de2dc10d5",
       "version_major": 2,
       "version_minor": 0
      },
      "text/plain": [
       "  0%|          | 0/34 [00:00<?, ?it/s]"
      ]
     },
     "metadata": {},
     "output_type": "display_data"
    },
    {
     "name": "stdout",
     "output_type": "stream",
     "text": [
      "Calculating results for model FPCLIPWeightedConcatModel in run run_02\n"
     ]
    },
    {
     "name": "stderr",
     "output_type": "stream",
     "text": [
      "Global seed set to 42\n"
     ]
    },
    {
     "data": {
      "application/json": {
       "ascii": false,
       "bar_format": null,
       "colour": null,
       "elapsed": 0.016849279403686523,
       "initial": 0,
       "n": 0,
       "ncols": null,
       "nrows": 9,
       "postfix": null,
       "prefix": "",
       "rate": null,
       "total": 34,
       "unit": "it",
       "unit_divisor": 1000,
       "unit_scale": false
      },
      "application/vnd.jupyter.widget-view+json": {
       "model_id": "d4ec3a5614b443f4944a4e3949740b73",
       "version_major": 2,
       "version_minor": 0
      },
      "text/plain": [
       "  0%|          | 0/34 [00:00<?, ?it/s]"
      ]
     },
     "metadata": {},
     "output_type": "display_data"
    }
   ],
   "source": [
    "models: List[FoodPricingBaseModel] = [\n",
    "    FPCBOWResNet152ConcatBaselineModel,\n",
    "    FPBERTResNet152ConcatModel,\n",
    "    FPBERTResNet152WeightedConcatModel,\n",
    "    FPCLIPConcatModel,\n",
    "    FPCLIPWeightedConcatModel,\n",
    "]\n",
    "\n",
    "for model_class in models:\n",
    "    for run in [\"run_01\", \"run_02\"]:\n",
    "        name = model_class.__name__\n",
    "        print(f\"Calculating results for model {name} in run {run}\")\n",
    "        model = model_class.load_from_best_checkpoint(run=run)\n",
    "        model.hparams.update({\"store_submission_frame\": False})\n",
    "        submission_frame = model.make_submission_frame()\n",
    "        \n",
    "        store_results(results, submission_frame, name, run)"
   ]
  },
  {
   "cell_type": "markdown",
   "metadata": {},
   "source": [
    "# Human results"
   ]
  },
  {
   "cell_type": "code",
   "execution_count": 11,
   "metadata": {},
   "outputs": [],
   "source": [
    "data_fpath = PurePosixPath(ROOT_DIR).joinpath(\"data\", \"experiment\", \"merged\")\n",
    "\n",
    "data_fname = data_fpath.joinpath(\"dump.parquet\")\n",
    "\n",
    "data = pd.read_parquet(data_fname)\n",
    "data = data[[\"chat_id\", \"item_id\", \"pred\", \"price_fractional\"]].rename(columns={\"price_fractional\": \"true\"})"
   ]
  },
  {
   "cell_type": "code",
   "execution_count": 12,
   "metadata": {},
   "outputs": [
    {
     "data": {
      "text/html": [
       "<div>\n",
       "<style scoped>\n",
       "    .dataframe tbody tr th:only-of-type {\n",
       "        vertical-align: middle;\n",
       "    }\n",
       "\n",
       "    .dataframe tbody tr th {\n",
       "        vertical-align: top;\n",
       "    }\n",
       "\n",
       "    .dataframe thead th {\n",
       "        text-align: right;\n",
       "    }\n",
       "</style>\n",
       "<table border=\"1\" class=\"dataframe\">\n",
       "  <thead>\n",
       "    <tr style=\"text-align: right;\">\n",
       "      <th></th>\n",
       "      <th>chat_id</th>\n",
       "      <th>item_id</th>\n",
       "      <th>pred</th>\n",
       "      <th>true</th>\n",
       "    </tr>\n",
       "  </thead>\n",
       "  <tbody>\n",
       "    <tr>\n",
       "      <th>0</th>\n",
       "      <td>1131376373</td>\n",
       "      <td>milano_milano-bocconi-navigli_lele-ristorante_40</td>\n",
       "      <td>2500</td>\n",
       "      <td>3200.0</td>\n",
       "    </tr>\n",
       "    <tr>\n",
       "      <th>1</th>\n",
       "      <td>1131376373</td>\n",
       "      <td>milano_milano-morivione_deb-minimarket_411</td>\n",
       "      <td>400</td>\n",
       "      <td>230.0</td>\n",
       "    </tr>\n",
       "    <tr>\n",
       "      <th>2</th>\n",
       "      <td>1131376373</td>\n",
       "      <td>milano_milano-bocconi-navigli_midelizio_18</td>\n",
       "      <td>400</td>\n",
       "      <td>350.0</td>\n",
       "    </tr>\n",
       "    <tr>\n",
       "      <th>3</th>\n",
       "      <td>1131376373</td>\n",
       "      <td>civitanova-marche_civitanova-marche_lowengrube...</td>\n",
       "      <td>1800</td>\n",
       "      <td>650.0</td>\n",
       "    </tr>\n",
       "    <tr>\n",
       "      <th>4</th>\n",
       "      <td>1131376373</td>\n",
       "      <td>bologna_san-lazzaro_american-cake-dk-san-lazza...</td>\n",
       "      <td>600</td>\n",
       "      <td>590.0</td>\n",
       "    </tr>\n",
       "    <tr>\n",
       "      <th>...</th>\n",
       "      <td>...</td>\n",
       "      <td>...</td>\n",
       "      <td>...</td>\n",
       "      <td>...</td>\n",
       "    </tr>\n",
       "    <tr>\n",
       "      <th>1279</th>\n",
       "      <td>606192889</td>\n",
       "      <td>nuoro_nuoro_sushi-yu-nuoro_110</td>\n",
       "      <td>890</td>\n",
       "      <td>500.0</td>\n",
       "    </tr>\n",
       "    <tr>\n",
       "      <th>1280</th>\n",
       "      <td>606192889</td>\n",
       "      <td>nuoro_nuoro_sushi-line-nuoro_91</td>\n",
       "      <td>1200</td>\n",
       "      <td>1200.0</td>\n",
       "    </tr>\n",
       "    <tr>\n",
       "      <th>1281</th>\n",
       "      <td>606192889</td>\n",
       "      <td>milano_milano-morivione_deb-minimarket_18</td>\n",
       "      <td>420</td>\n",
       "      <td>320.0</td>\n",
       "    </tr>\n",
       "    <tr>\n",
       "      <th>1282</th>\n",
       "      <td>606192889</td>\n",
       "      <td>milano_milano-morivione_deb-minimarket_393</td>\n",
       "      <td>350</td>\n",
       "      <td>220.0</td>\n",
       "    </tr>\n",
       "    <tr>\n",
       "      <th>1283</th>\n",
       "      <td>606192889</td>\n",
       "      <td>cecina_cecina_japanese-fusion-restaurant-sushi...</td>\n",
       "      <td>960</td>\n",
       "      <td>800.0</td>\n",
       "    </tr>\n",
       "  </tbody>\n",
       "</table>\n",
       "<p>1284 rows × 4 columns</p>\n",
       "</div>"
      ],
      "text/plain": [
       "         chat_id                                            item_id  pred  \\\n",
       "0     1131376373   milano_milano-bocconi-navigli_lele-ristorante_40  2500   \n",
       "1     1131376373         milano_milano-morivione_deb-minimarket_411   400   \n",
       "2     1131376373         milano_milano-bocconi-navigli_midelizio_18   400   \n",
       "3     1131376373  civitanova-marche_civitanova-marche_lowengrube...  1800   \n",
       "4     1131376373  bologna_san-lazzaro_american-cake-dk-san-lazza...   600   \n",
       "...          ...                                                ...   ...   \n",
       "1279   606192889                     nuoro_nuoro_sushi-yu-nuoro_110   890   \n",
       "1280   606192889                    nuoro_nuoro_sushi-line-nuoro_91  1200   \n",
       "1281   606192889          milano_milano-morivione_deb-minimarket_18   420   \n",
       "1282   606192889         milano_milano-morivione_deb-minimarket_393   350   \n",
       "1283   606192889  cecina_cecina_japanese-fusion-restaurant-sushi...   960   \n",
       "\n",
       "        true  \n",
       "0     3200.0  \n",
       "1      230.0  \n",
       "2      350.0  \n",
       "3      650.0  \n",
       "4      590.0  \n",
       "...      ...  \n",
       "1279   500.0  \n",
       "1280  1200.0  \n",
       "1281   320.0  \n",
       "1282   220.0  \n",
       "1283   800.0  \n",
       "\n",
       "[1284 rows x 4 columns]"
      ]
     },
     "execution_count": 12,
     "metadata": {},
     "output_type": "execute_result"
    }
   ],
   "source": [
    "data"
   ]
  },
  {
   "cell_type": "code",
   "execution_count": 13,
   "metadata": {},
   "outputs": [],
   "source": [
    "store_results(results, data, \"Respondents\")"
   ]
  },
  {
   "cell_type": "code",
   "execution_count": 14,
   "metadata": {},
   "outputs": [
    {
     "data": {
      "text/html": [
       "<style type=\"text/css\">\n",
       "</style>\n",
       "<table id=\"T_27d51\">\n",
       "  <thead>\n",
       "    <tr>\n",
       "      <th class=\"blank\" >&nbsp;</th>\n",
       "      <th class=\"blank level0\" >&nbsp;</th>\n",
       "      <th id=\"T_27d51_level0_col0\" class=\"col_heading level0 col0\" >MSE</th>\n",
       "      <th id=\"T_27d51_level0_col1\" class=\"col_heading level0 col1\" >RMSE</th>\n",
       "      <th id=\"T_27d51_level0_col2\" class=\"col_heading level0 col2\" >MAE</th>\n",
       "    </tr>\n",
       "    <tr>\n",
       "      <th class=\"index_name level0\" >Model</th>\n",
       "      <th class=\"index_name level1\" >Run</th>\n",
       "      <th class=\"blank col0\" >&nbsp;</th>\n",
       "      <th class=\"blank col1\" >&nbsp;</th>\n",
       "      <th class=\"blank col2\" >&nbsp;</th>\n",
       "    </tr>\n",
       "  </thead>\n",
       "  <tbody>\n",
       "    <tr>\n",
       "      <th id=\"T_27d51_level0_row0\" class=\"row_heading level0 row0\" >FPMeanBaselineModel</th>\n",
       "      <th id=\"T_27d51_level1_row0\" class=\"row_heading level1 row0\" ></th>\n",
       "      <td id=\"T_27d51_row0_col0\" class=\"data row0 col0\" >37.63</td>\n",
       "      <td id=\"T_27d51_row0_col1\" class=\"data row0 col1\" >6.13</td>\n",
       "      <td id=\"T_27d51_row0_col2\" class=\"data row0 col2\" >4.20</td>\n",
       "    </tr>\n",
       "    <tr>\n",
       "      <th id=\"T_27d51_level0_row1\" class=\"row_heading level0 row1\" >XGBBERTResNet152</th>\n",
       "      <th id=\"T_27d51_level1_row1\" class=\"row_heading level1 row1\" ></th>\n",
       "      <td id=\"T_27d51_row1_col0\" class=\"data row1 col0\" >19.83</td>\n",
       "      <td id=\"T_27d51_row1_col1\" class=\"data row1 col1\" >4.45</td>\n",
       "      <td id=\"T_27d51_row1_col2\" class=\"data row1 col2\" >2.55</td>\n",
       "    </tr>\n",
       "    <tr>\n",
       "      <th id=\"T_27d51_level0_row2\" class=\"row_heading level0 row2\" >XGBCLIP</th>\n",
       "      <th id=\"T_27d51_level1_row2\" class=\"row_heading level1 row2\" ></th>\n",
       "      <td id=\"T_27d51_row2_col0\" class=\"data row2 col0\" >13.45</td>\n",
       "      <td id=\"T_27d51_row2_col1\" class=\"data row2 col1\" >3.67</td>\n",
       "      <td id=\"T_27d51_row2_col2\" class=\"data row2 col2\" >2.06</td>\n",
       "    </tr>\n",
       "    <tr>\n",
       "      <th id=\"T_27d51_level0_row3\" class=\"row_heading level0 row3\" rowspan=\"2\">FPCBOWResNet152ConcatBaselineModel</th>\n",
       "      <th id=\"T_27d51_level1_row3\" class=\"row_heading level1 row3\" >run_01</th>\n",
       "      <td id=\"T_27d51_row3_col0\" class=\"data row3 col0\" >12.80</td>\n",
       "      <td id=\"T_27d51_row3_col1\" class=\"data row3 col1\" >3.58</td>\n",
       "      <td id=\"T_27d51_row3_col2\" class=\"data row3 col2\" >1.99</td>\n",
       "    </tr>\n",
       "    <tr>\n",
       "      <th id=\"T_27d51_level1_row4\" class=\"row_heading level1 row4\" >run_02</th>\n",
       "      <td id=\"T_27d51_row4_col0\" class=\"data row4 col0\" >15.23</td>\n",
       "      <td id=\"T_27d51_row4_col1\" class=\"data row4 col1\" >3.90</td>\n",
       "      <td id=\"T_27d51_row4_col2\" class=\"data row4 col2\" >2.09</td>\n",
       "    </tr>\n",
       "    <tr>\n",
       "      <th id=\"T_27d51_level0_row5\" class=\"row_heading level0 row5\" rowspan=\"2\">FPBERTResNet152ConcatModel</th>\n",
       "      <th id=\"T_27d51_level1_row5\" class=\"row_heading level1 row5\" >run_01</th>\n",
       "      <td id=\"T_27d51_row5_col0\" class=\"data row5 col0\" >9.90</td>\n",
       "      <td id=\"T_27d51_row5_col1\" class=\"data row5 col1\" >3.15</td>\n",
       "      <td id=\"T_27d51_row5_col2\" class=\"data row5 col2\" >1.60</td>\n",
       "    </tr>\n",
       "    <tr>\n",
       "      <th id=\"T_27d51_level1_row6\" class=\"row_heading level1 row6\" >run_02</th>\n",
       "      <td id=\"T_27d51_row6_col0\" class=\"data row6 col0\" >9.82</td>\n",
       "      <td id=\"T_27d51_row6_col1\" class=\"data row6 col1\" >3.13</td>\n",
       "      <td id=\"T_27d51_row6_col2\" class=\"data row6 col2\" >1.52</td>\n",
       "    </tr>\n",
       "    <tr>\n",
       "      <th id=\"T_27d51_level0_row7\" class=\"row_heading level0 row7\" rowspan=\"2\">FPBERTResNet152WeightedConcatModel</th>\n",
       "      <th id=\"T_27d51_level1_row7\" class=\"row_heading level1 row7\" >run_01</th>\n",
       "      <td id=\"T_27d51_row7_col0\" class=\"data row7 col0\" >8.79</td>\n",
       "      <td id=\"T_27d51_row7_col1\" class=\"data row7 col1\" >2.96</td>\n",
       "      <td id=\"T_27d51_row7_col2\" class=\"data row7 col2\" >1.43</td>\n",
       "    </tr>\n",
       "    <tr>\n",
       "      <th id=\"T_27d51_level1_row8\" class=\"row_heading level1 row8\" >run_02</th>\n",
       "      <td id=\"T_27d51_row8_col0\" class=\"data row8 col0\" >9.44</td>\n",
       "      <td id=\"T_27d51_row8_col1\" class=\"data row8 col1\" >3.07</td>\n",
       "      <td id=\"T_27d51_row8_col2\" class=\"data row8 col2\" >1.50</td>\n",
       "    </tr>\n",
       "    <tr>\n",
       "      <th id=\"T_27d51_level0_row9\" class=\"row_heading level0 row9\" rowspan=\"2\">FPCLIPConcatModel</th>\n",
       "      <th id=\"T_27d51_level1_row9\" class=\"row_heading level1 row9\" >run_01</th>\n",
       "      <td id=\"T_27d51_row9_col0\" class=\"data row9 col0\" >9.66</td>\n",
       "      <td id=\"T_27d51_row9_col1\" class=\"data row9 col1\" >3.11</td>\n",
       "      <td id=\"T_27d51_row9_col2\" class=\"data row9 col2\" >1.50</td>\n",
       "    </tr>\n",
       "    <tr>\n",
       "      <th id=\"T_27d51_level1_row10\" class=\"row_heading level1 row10\" >run_02</th>\n",
       "      <td id=\"T_27d51_row10_col0\" class=\"data row10 col0\" >11.16</td>\n",
       "      <td id=\"T_27d51_row10_col1\" class=\"data row10 col1\" >3.34</td>\n",
       "      <td id=\"T_27d51_row10_col2\" class=\"data row10 col2\" >1.53</td>\n",
       "    </tr>\n",
       "    <tr>\n",
       "      <th id=\"T_27d51_level0_row11\" class=\"row_heading level0 row11\" rowspan=\"2\">FPCLIPWeightedConcatModel</th>\n",
       "      <th id=\"T_27d51_level1_row11\" class=\"row_heading level1 row11\" >run_01</th>\n",
       "      <td id=\"T_27d51_row11_col0\" class=\"data row11 col0\" >10.08</td>\n",
       "      <td id=\"T_27d51_row11_col1\" class=\"data row11 col1\" >3.17</td>\n",
       "      <td id=\"T_27d51_row11_col2\" class=\"data row11 col2\" >1.56</td>\n",
       "    </tr>\n",
       "    <tr>\n",
       "      <th id=\"T_27d51_level1_row12\" class=\"row_heading level1 row12\" >run_02</th>\n",
       "      <td id=\"T_27d51_row12_col0\" class=\"data row12 col0\" >10.72</td>\n",
       "      <td id=\"T_27d51_row12_col1\" class=\"data row12 col1\" >3.27</td>\n",
       "      <td id=\"T_27d51_row12_col2\" class=\"data row12 col2\" >1.62</td>\n",
       "    </tr>\n",
       "    <tr>\n",
       "      <th id=\"T_27d51_level0_row13\" class=\"row_heading level0 row13\" >Respondents</th>\n",
       "      <th id=\"T_27d51_level1_row13\" class=\"row_heading level1 row13\" ></th>\n",
       "      <td id=\"T_27d51_row13_col0\" class=\"data row13 col0\" >23.94</td>\n",
       "      <td id=\"T_27d51_row13_col1\" class=\"data row13 col1\" >4.89</td>\n",
       "      <td id=\"T_27d51_row13_col2\" class=\"data row13 col2\" >2.91</td>\n",
       "    </tr>\n",
       "  </tbody>\n",
       "</table>\n"
      ],
      "text/plain": [
       "<pandas.io.formats.style.Styler at 0x7fa05db2ae80>"
      ]
     },
     "execution_count": 14,
     "metadata": {},
     "output_type": "execute_result"
    }
   ],
   "source": [
    "s = results.style.format(\n",
    "    {\n",
    "        (\"MSE\"): \"{:.2f}\",\n",
    "        (\"RMSE\"): \"{:.2f}\",\n",
    "        (\"MAE\"): \"{:.2f}\",\n",
    "    }\n",
    ")\n",
    "with open(\"./tables/model_results.tex\", mode=\"w\") as f:\n",
    "    s.to_latex(f)\n",
    "s"
   ]
  }
 ],
 "metadata": {
  "kernelspec": {
   "display_name": "Python 3 (ipykernel)",
   "language": "python",
   "name": "python3"
  },
  "language_info": {
   "codemirror_mode": {
    "name": "ipython",
    "version": 3
   },
   "file_extension": ".py",
   "mimetype": "text/x-python",
   "name": "python",
   "nbconvert_exporter": "python",
   "pygments_lexer": "ipython3",
   "version": "3.9.13"
  },
  "vscode": {
   "interpreter": {
    "hash": "7baf0a9355b2187f13b56e3fae033a6ce164fc9add6d7138e9a4da0d4f49a6ad"
   }
  }
 },
 "nbformat": 4,
 "nbformat_minor": 2
}
