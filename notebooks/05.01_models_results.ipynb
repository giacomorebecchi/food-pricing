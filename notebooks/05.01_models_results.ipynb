{
 "cells": [
  {
   "cell_type": "markdown",
   "metadata": {},
   "source": [
    "# Models results"
   ]
  },
  {
   "cell_type": "code",
   "execution_count": 1,
   "metadata": {},
   "outputs": [],
   "source": [
    "from sklearn.metrics import mean_squared_error, mean_absolute_error\n",
    "import pandas as pd\n",
    "from pathlib import PurePosixPath\n",
    "from src.definitions import ROOT_DIR\n",
    "\n",
    "from typing import List, Optional\n",
    "from src.models.baseline import FPCBOWResNet152ConcatBaselineModel\n",
    "from src.models.bert import FPBERTResNet152ConcatModel, FPBERTResNet152WeightedConcatModel\n",
    "from src.models.clip import FPCLIPConcatModel, FPCLIPWeightedConcatModel\n",
    "from src.models.base_model import FoodPricingBaseModel"
   ]
  },
  {
   "cell_type": "markdown",
   "metadata": {},
   "source": [
    "### Create the table storing all the results"
   ]
  },
  {
   "cell_type": "code",
   "execution_count": 2,
   "metadata": {},
   "outputs": [],
   "source": [
    "def store_results(\n",
    "    df: pd.DataFrame,\n",
    "    submission_frame: pd.DataFrame,\n",
    "    model_name: str,\n",
    "    run: Optional[str] = \"\",\n",
    ") -> None:\n",
    "    df.loc[(model_name, run), [\"MSE\", \"RMSE\", \"MAE\"]] = (\n",
    "        mean_squared_error(\n",
    "            y_true=submission_frame[\"true\"] / 100,\n",
    "            y_pred=submission_frame[\"pred\"] / 100,\n",
    "            squared=True,\n",
    "        ),\n",
    "        mean_squared_error(\n",
    "            y_true=submission_frame[\"true\"] / 100,\n",
    "            y_pred=submission_frame[\"pred\"] / 100,\n",
    "            squared=False,\n",
    "        ),\n",
    "        mean_absolute_error(\n",
    "            y_true=submission_frame[\"true\"] / 100, y_pred=submission_frame[\"pred\"] / 100\n",
    "        ),\n",
    "    )"
   ]
  },
  {
   "cell_type": "code",
   "execution_count": 3,
   "metadata": {},
   "outputs": [],
   "source": [
    "results = pd.DataFrame(columns=[\"Model\", \"Run\", \"MSE\", \"RMSE\", \"MAE\"])\n",
    "results = results.set_index([\"Model\", \"Run\"])"
   ]
  },
  {
   "cell_type": "code",
   "execution_count": 4,
   "metadata": {},
   "outputs": [
    {
     "data": {
      "text/html": [
       "<div>\n",
       "<style scoped>\n",
       "    .dataframe tbody tr th:only-of-type {\n",
       "        vertical-align: middle;\n",
       "    }\n",
       "\n",
       "    .dataframe tbody tr th {\n",
       "        vertical-align: top;\n",
       "    }\n",
       "\n",
       "    .dataframe thead th {\n",
       "        text-align: right;\n",
       "    }\n",
       "</style>\n",
       "<table border=\"1\" class=\"dataframe\">\n",
       "  <thead>\n",
       "    <tr style=\"text-align: right;\">\n",
       "      <th></th>\n",
       "      <th></th>\n",
       "      <th>MSE</th>\n",
       "      <th>RMSE</th>\n",
       "      <th>MAE</th>\n",
       "    </tr>\n",
       "    <tr>\n",
       "      <th>Model</th>\n",
       "      <th>Run</th>\n",
       "      <th></th>\n",
       "      <th></th>\n",
       "      <th></th>\n",
       "    </tr>\n",
       "  </thead>\n",
       "  <tbody>\n",
       "  </tbody>\n",
       "</table>\n",
       "</div>"
      ],
      "text/plain": [
       "Empty DataFrame\n",
       "Columns: [MSE, RMSE, MAE]\n",
       "Index: []"
      ]
     },
     "execution_count": 4,
     "metadata": {},
     "output_type": "execute_result"
    }
   ],
   "source": [
    "results"
   ]
  },
  {
   "cell_type": "markdown",
   "metadata": {},
   "source": [
    "### Mean Baseline"
   ]
  },
  {
   "cell_type": "code",
   "execution_count": 5,
   "metadata": {},
   "outputs": [],
   "source": [
    "submissions_fpath = PurePosixPath(ROOT_DIR).joinpath(\"submissions\", \"2022-08-27T17:04:06+00:00\")\n",
    "\n",
    "mean_baseline_fname = submissions_fpath.joinpath(\"FPMeanBaselineModel.csv\")\n",
    "\n",
    "sub_mean_baseline = pd.read_csv(mean_baseline_fname,index_col=0,header=0)"
   ]
  },
  {
   "cell_type": "code",
   "execution_count": 6,
   "metadata": {},
   "outputs": [
    {
     "data": {
      "text/html": [
       "<div>\n",
       "<style scoped>\n",
       "    .dataframe tbody tr th:only-of-type {\n",
       "        vertical-align: middle;\n",
       "    }\n",
       "\n",
       "    .dataframe tbody tr th {\n",
       "        vertical-align: top;\n",
       "    }\n",
       "\n",
       "    .dataframe thead th {\n",
       "        text-align: right;\n",
       "    }\n",
       "</style>\n",
       "<table border=\"1\" class=\"dataframe\">\n",
       "  <thead>\n",
       "    <tr style=\"text-align: right;\">\n",
       "      <th></th>\n",
       "      <th>true</th>\n",
       "      <th>pred</th>\n",
       "    </tr>\n",
       "    <tr>\n",
       "      <th>item_id</th>\n",
       "      <th></th>\n",
       "      <th></th>\n",
       "    </tr>\n",
       "  </thead>\n",
       "  <tbody>\n",
       "    <tr>\n",
       "      <th>bergamo_alzano-lombardo_pony-burger_5</th>\n",
       "      <td>850.0</td>\n",
       "      <td>659.82497</td>\n",
       "    </tr>\n",
       "    <tr>\n",
       "      <th>bergamo_centro-storico_bar-mada_1</th>\n",
       "      <td>1490.0</td>\n",
       "      <td>659.82497</td>\n",
       "    </tr>\n",
       "    <tr>\n",
       "      <th>bergamo_centro-storico_bar-mada_14</th>\n",
       "      <td>500.0</td>\n",
       "      <td>659.82497</td>\n",
       "    </tr>\n",
       "    <tr>\n",
       "      <th>bergamo_centro-storico_bar-mada_17</th>\n",
       "      <td>1240.0</td>\n",
       "      <td>659.82497</td>\n",
       "    </tr>\n",
       "    <tr>\n",
       "      <th>bergamo_centro-storico_bar-mada_24</th>\n",
       "      <td>490.0</td>\n",
       "      <td>659.82497</td>\n",
       "    </tr>\n",
       "    <tr>\n",
       "      <th>...</th>\n",
       "      <td>...</td>\n",
       "      <td>...</td>\n",
       "    </tr>\n",
       "    <tr>\n",
       "      <th>roma_villaggio-olimpico_enso_7</th>\n",
       "      <td>350.0</td>\n",
       "      <td>659.82497</td>\n",
       "    </tr>\n",
       "    <tr>\n",
       "      <th>roma_villaggio-olimpico_enso_75</th>\n",
       "      <td>2000.0</td>\n",
       "      <td>659.82497</td>\n",
       "    </tr>\n",
       "    <tr>\n",
       "      <th>roma_villaggio-olimpico_enso_78</th>\n",
       "      <td>1000.0</td>\n",
       "      <td>659.82497</td>\n",
       "    </tr>\n",
       "    <tr>\n",
       "      <th>roma_villaggio-olimpico_enso_80</th>\n",
       "      <td>800.0</td>\n",
       "      <td>659.82497</td>\n",
       "    </tr>\n",
       "    <tr>\n",
       "      <th>roma_villaggio-olimpico_enso_82</th>\n",
       "      <td>1000.0</td>\n",
       "      <td>659.82497</td>\n",
       "    </tr>\n",
       "  </tbody>\n",
       "</table>\n",
       "<p>1060 rows × 2 columns</p>\n",
       "</div>"
      ],
      "text/plain": [
       "                                         true       pred\n",
       "item_id                                                 \n",
       "bergamo_alzano-lombardo_pony-burger_5   850.0  659.82497\n",
       "bergamo_centro-storico_bar-mada_1      1490.0  659.82497\n",
       "bergamo_centro-storico_bar-mada_14      500.0  659.82497\n",
       "bergamo_centro-storico_bar-mada_17     1240.0  659.82497\n",
       "bergamo_centro-storico_bar-mada_24      490.0  659.82497\n",
       "...                                       ...        ...\n",
       "roma_villaggio-olimpico_enso_7          350.0  659.82497\n",
       "roma_villaggio-olimpico_enso_75        2000.0  659.82497\n",
       "roma_villaggio-olimpico_enso_78        1000.0  659.82497\n",
       "roma_villaggio-olimpico_enso_80         800.0  659.82497\n",
       "roma_villaggio-olimpico_enso_82        1000.0  659.82497\n",
       "\n",
       "[1060 rows x 2 columns]"
      ]
     },
     "execution_count": 6,
     "metadata": {},
     "output_type": "execute_result"
    }
   ],
   "source": [
    "sub_mean_baseline"
   ]
  },
  {
   "cell_type": "code",
   "execution_count": 7,
   "metadata": {},
   "outputs": [
    {
     "data": {
      "text/html": [
       "<div>\n",
       "<style scoped>\n",
       "    .dataframe tbody tr th:only-of-type {\n",
       "        vertical-align: middle;\n",
       "    }\n",
       "\n",
       "    .dataframe tbody tr th {\n",
       "        vertical-align: top;\n",
       "    }\n",
       "\n",
       "    .dataframe thead th {\n",
       "        text-align: right;\n",
       "    }\n",
       "</style>\n",
       "<table border=\"1\" class=\"dataframe\">\n",
       "  <thead>\n",
       "    <tr style=\"text-align: right;\">\n",
       "      <th></th>\n",
       "      <th></th>\n",
       "      <th>MSE</th>\n",
       "      <th>RMSE</th>\n",
       "      <th>MAE</th>\n",
       "    </tr>\n",
       "    <tr>\n",
       "      <th>Model</th>\n",
       "      <th>Run</th>\n",
       "      <th></th>\n",
       "      <th></th>\n",
       "      <th></th>\n",
       "    </tr>\n",
       "  </thead>\n",
       "  <tbody>\n",
       "    <tr>\n",
       "      <th>FPMeanBaselineModel</th>\n",
       "      <th></th>\n",
       "      <td>37.629804</td>\n",
       "      <td>6.134314</td>\n",
       "      <td>4.201829</td>\n",
       "    </tr>\n",
       "  </tbody>\n",
       "</table>\n",
       "</div>"
      ],
      "text/plain": [
       "                               MSE      RMSE       MAE\n",
       "Model               Run                               \n",
       "FPMeanBaselineModel      37.629804  6.134314  4.201829"
      ]
     },
     "execution_count": 7,
     "metadata": {},
     "output_type": "execute_result"
    }
   ],
   "source": [
    "store_results(results, sub_mean_baseline, \"FPMeanBaselineModel\")\n",
    "results"
   ]
  },
  {
   "cell_type": "markdown",
   "metadata": {},
   "source": [
    "### XGB Models"
   ]
  },
  {
   "cell_type": "code",
   "execution_count": 8,
   "metadata": {},
   "outputs": [],
   "source": [
    "xgb_bert_resnet152_fname = submissions_fpath.joinpath(\"XGBBERTResNet152.csv\")\n",
    "xgb_clip_fname = submissions_fpath.joinpath(\"XGBCLIP.csv\")\n",
    "\n",
    "sub_xgb_bert_resnet152 = pd.read_csv(xgb_bert_resnet152_fname, index_col=0, header=0)\n",
    "sub_xgb_clip = pd.read_csv(xgb_clip_fname, index_col=0, header=0)"
   ]
  },
  {
   "cell_type": "code",
   "execution_count": 9,
   "metadata": {},
   "outputs": [
    {
     "data": {
      "text/html": [
       "<div>\n",
       "<style scoped>\n",
       "    .dataframe tbody tr th:only-of-type {\n",
       "        vertical-align: middle;\n",
       "    }\n",
       "\n",
       "    .dataframe tbody tr th {\n",
       "        vertical-align: top;\n",
       "    }\n",
       "\n",
       "    .dataframe thead th {\n",
       "        text-align: right;\n",
       "    }\n",
       "</style>\n",
       "<table border=\"1\" class=\"dataframe\">\n",
       "  <thead>\n",
       "    <tr style=\"text-align: right;\">\n",
       "      <th></th>\n",
       "      <th></th>\n",
       "      <th>MSE</th>\n",
       "      <th>RMSE</th>\n",
       "      <th>MAE</th>\n",
       "    </tr>\n",
       "    <tr>\n",
       "      <th>Model</th>\n",
       "      <th>Run</th>\n",
       "      <th></th>\n",
       "      <th></th>\n",
       "      <th></th>\n",
       "    </tr>\n",
       "  </thead>\n",
       "  <tbody>\n",
       "    <tr>\n",
       "      <th>FPMeanBaselineModel</th>\n",
       "      <th></th>\n",
       "      <td>37.629804</td>\n",
       "      <td>6.134314</td>\n",
       "      <td>4.201829</td>\n",
       "    </tr>\n",
       "    <tr>\n",
       "      <th>XGBBERTResNet152</th>\n",
       "      <th></th>\n",
       "      <td>19.830486</td>\n",
       "      <td>4.453143</td>\n",
       "      <td>2.552919</td>\n",
       "    </tr>\n",
       "    <tr>\n",
       "      <th>XGBCLIP</th>\n",
       "      <th></th>\n",
       "      <td>13.453174</td>\n",
       "      <td>3.667857</td>\n",
       "      <td>2.056221</td>\n",
       "    </tr>\n",
       "  </tbody>\n",
       "</table>\n",
       "</div>"
      ],
      "text/plain": [
       "                               MSE      RMSE       MAE\n",
       "Model               Run                               \n",
       "FPMeanBaselineModel      37.629804  6.134314  4.201829\n",
       "XGBBERTResNet152         19.830486  4.453143  2.552919\n",
       "XGBCLIP                  13.453174  3.667857  2.056221"
      ]
     },
     "execution_count": 9,
     "metadata": {},
     "output_type": "execute_result"
    }
   ],
   "source": [
    "store_results(results, sub_xgb_bert_resnet152, \"XGBBERTResNet152\")\n",
    "store_results(results, sub_xgb_clip, \"XGBCLIP\")\n",
    "results"
   ]
  },
  {
   "cell_type": "markdown",
   "metadata": {},
   "source": [
    "### Core models for each run"
   ]
  },
  {
   "cell_type": "code",
   "execution_count": 10,
   "metadata": {},
   "outputs": [
    {
     "name": "stdout",
     "output_type": "stream",
     "text": [
      "Calculating results for model FPCBOWResNet152ConcatBaselineModel in run run_01\n"
     ]
    },
    {
     "name": "stderr",
     "output_type": "stream",
     "text": [
      "Global seed set to 42\n",
      "Warning : `load_model` does not return WordVectorModel or SupervisedModel any more, but a `FastText` object which is very similar.\n"
     ]
    },
    {
     "data": {
      "application/json": {
       "ascii": false,
       "bar_format": null,
       "colour": null,
       "elapsed": 0.016879796981811523,
       "initial": 0,
       "n": 0,
       "ncols": null,
       "nrows": 9,
       "postfix": null,
       "prefix": "",
       "rate": null,
       "total": 34,
       "unit": "it",
       "unit_divisor": 1000,
       "unit_scale": false
      },
      "application/vnd.jupyter.widget-view+json": {
       "model_id": "4176bfb7e6a04987bf868d30019669f0",
       "version_major": 2,
       "version_minor": 0
      },
      "text/plain": [
       "  0%|          | 0/34 [00:00<?, ?it/s]"
      ]
     },
     "metadata": {},
     "output_type": "display_data"
    },
    {
     "name": "stdout",
     "output_type": "stream",
     "text": [
      "Calculating results for model FPCBOWResNet152ConcatBaselineModel in run run_02\n"
     ]
    },
    {
     "name": "stderr",
     "output_type": "stream",
     "text": [
      "Global seed set to 42\n",
      "Warning : `load_model` does not return WordVectorModel or SupervisedModel any more, but a `FastText` object which is very similar.\n"
     ]
    },
    {
     "data": {
      "application/json": {
       "ascii": false,
       "bar_format": null,
       "colour": null,
       "elapsed": 0.016485929489135742,
       "initial": 0,
       "n": 0,
       "ncols": null,
       "nrows": 9,
       "postfix": null,
       "prefix": "",
       "rate": null,
       "total": 34,
       "unit": "it",
       "unit_divisor": 1000,
       "unit_scale": false
      },
      "application/vnd.jupyter.widget-view+json": {
       "model_id": "7bbff6d489744466b04a0f4923e3a179",
       "version_major": 2,
       "version_minor": 0
      },
      "text/plain": [
       "  0%|          | 0/34 [00:00<?, ?it/s]"
      ]
     },
     "metadata": {},
     "output_type": "display_data"
    },
    {
     "name": "stdout",
     "output_type": "stream",
     "text": [
      "Calculating results for model FPBERTResNet152ConcatModel in run run_01\n"
     ]
    },
    {
     "name": "stderr",
     "output_type": "stream",
     "text": [
      "Global seed set to 42\n",
      "Some weights of the model checkpoint at dbmdz/bert-base-italian-xxl-uncased were not used when initializing BertModel: ['cls.seq_relationship.weight', 'cls.predictions.decoder.weight', 'bert.pooler.dense.weight', 'cls.predictions.transform.dense.weight', 'cls.predictions.transform.LayerNorm.weight', 'cls.predictions.bias', 'cls.predictions.transform.dense.bias', 'cls.predictions.decoder.bias', 'cls.predictions.transform.LayerNorm.bias', 'cls.seq_relationship.bias', 'bert.pooler.dense.bias']\n",
      "- This IS expected if you are initializing BertModel from the checkpoint of a model trained on another task or with another architecture (e.g. initializing a BertForSequenceClassification model from a BertForPreTraining model).\n",
      "- This IS NOT expected if you are initializing BertModel from the checkpoint of a model that you expect to be exactly identical (initializing a BertForSequenceClassification model from a BertForSequenceClassification model).\n"
     ]
    },
    {
     "data": {
      "application/json": {
       "ascii": false,
       "bar_format": null,
       "colour": null,
       "elapsed": 0.017418622970581055,
       "initial": 0,
       "n": 0,
       "ncols": null,
       "nrows": 9,
       "postfix": null,
       "prefix": "",
       "rate": null,
       "total": 34,
       "unit": "it",
       "unit_divisor": 1000,
       "unit_scale": false
      },
      "application/vnd.jupyter.widget-view+json": {
       "model_id": "7579357fa68f43819d46c35d1d9e8668",
       "version_major": 2,
       "version_minor": 0
      },
      "text/plain": [
       "  0%|          | 0/34 [00:00<?, ?it/s]"
      ]
     },
     "metadata": {},
     "output_type": "display_data"
    },
    {
     "name": "stdout",
     "output_type": "stream",
     "text": [
      "Calculating results for model FPBERTResNet152ConcatModel in run run_02\n"
     ]
    },
    {
     "name": "stderr",
     "output_type": "stream",
     "text": [
      "Global seed set to 42\n",
      "Some weights of the model checkpoint at dbmdz/bert-base-italian-xxl-uncased were not used when initializing BertModel: ['cls.seq_relationship.weight', 'cls.predictions.decoder.weight', 'bert.pooler.dense.weight', 'cls.predictions.transform.dense.weight', 'cls.predictions.transform.LayerNorm.weight', 'cls.predictions.bias', 'cls.predictions.transform.dense.bias', 'cls.predictions.decoder.bias', 'cls.predictions.transform.LayerNorm.bias', 'cls.seq_relationship.bias', 'bert.pooler.dense.bias']\n",
      "- This IS expected if you are initializing BertModel from the checkpoint of a model trained on another task or with another architecture (e.g. initializing a BertForSequenceClassification model from a BertForPreTraining model).\n",
      "- This IS NOT expected if you are initializing BertModel from the checkpoint of a model that you expect to be exactly identical (initializing a BertForSequenceClassification model from a BertForSequenceClassification model).\n"
     ]
    },
    {
     "data": {
      "application/json": {
       "ascii": false,
       "bar_format": null,
       "colour": null,
       "elapsed": 0.016396522521972656,
       "initial": 0,
       "n": 0,
       "ncols": null,
       "nrows": 9,
       "postfix": null,
       "prefix": "",
       "rate": null,
       "total": 34,
       "unit": "it",
       "unit_divisor": 1000,
       "unit_scale": false
      },
      "application/vnd.jupyter.widget-view+json": {
       "model_id": "ff6efff4906a4a21b3739fa07fa75cdb",
       "version_major": 2,
       "version_minor": 0
      },
      "text/plain": [
       "  0%|          | 0/34 [00:00<?, ?it/s]"
      ]
     },
     "metadata": {},
     "output_type": "display_data"
    },
    {
     "name": "stdout",
     "output_type": "stream",
     "text": [
      "Calculating results for model FPBERTResNet152WeightedConcatModel in run run_01\n"
     ]
    },
    {
     "name": "stderr",
     "output_type": "stream",
     "text": [
      "Global seed set to 42\n",
      "Some weights of the model checkpoint at dbmdz/bert-base-italian-xxl-uncased were not used when initializing BertModel: ['cls.seq_relationship.weight', 'cls.predictions.decoder.weight', 'bert.pooler.dense.weight', 'cls.predictions.transform.dense.weight', 'cls.predictions.transform.LayerNorm.weight', 'cls.predictions.bias', 'cls.predictions.transform.dense.bias', 'cls.predictions.decoder.bias', 'cls.predictions.transform.LayerNorm.bias', 'cls.seq_relationship.bias', 'bert.pooler.dense.bias']\n",
      "- This IS expected if you are initializing BertModel from the checkpoint of a model trained on another task or with another architecture (e.g. initializing a BertForSequenceClassification model from a BertForPreTraining model).\n",
      "- This IS NOT expected if you are initializing BertModel from the checkpoint of a model that you expect to be exactly identical (initializing a BertForSequenceClassification model from a BertForSequenceClassification model).\n"
     ]
    },
    {
     "data": {
      "application/json": {
       "ascii": false,
       "bar_format": null,
       "colour": null,
       "elapsed": 0.016501426696777344,
       "initial": 0,
       "n": 0,
       "ncols": null,
       "nrows": 9,
       "postfix": null,
       "prefix": "",
       "rate": null,
       "total": 34,
       "unit": "it",
       "unit_divisor": 1000,
       "unit_scale": false
      },
      "application/vnd.jupyter.widget-view+json": {
       "model_id": "797fbd7343a04920bad626219f40a783",
       "version_major": 2,
       "version_minor": 0
      },
      "text/plain": [
       "  0%|          | 0/34 [00:00<?, ?it/s]"
      ]
     },
     "metadata": {},
     "output_type": "display_data"
    },
    {
     "name": "stdout",
     "output_type": "stream",
     "text": [
      "Calculating results for model FPBERTResNet152WeightedConcatModel in run run_02\n"
     ]
    },
    {
     "name": "stderr",
     "output_type": "stream",
     "text": [
      "Global seed set to 42\n",
      "Some weights of the model checkpoint at dbmdz/bert-base-italian-xxl-uncased were not used when initializing BertModel: ['cls.seq_relationship.weight', 'cls.predictions.decoder.weight', 'bert.pooler.dense.weight', 'cls.predictions.transform.dense.weight', 'cls.predictions.transform.LayerNorm.weight', 'cls.predictions.bias', 'cls.predictions.transform.dense.bias', 'cls.predictions.decoder.bias', 'cls.predictions.transform.LayerNorm.bias', 'cls.seq_relationship.bias', 'bert.pooler.dense.bias']\n",
      "- This IS expected if you are initializing BertModel from the checkpoint of a model trained on another task or with another architecture (e.g. initializing a BertForSequenceClassification model from a BertForPreTraining model).\n",
      "- This IS NOT expected if you are initializing BertModel from the checkpoint of a model that you expect to be exactly identical (initializing a BertForSequenceClassification model from a BertForSequenceClassification model).\n"
     ]
    },
    {
     "data": {
      "application/json": {
       "ascii": false,
       "bar_format": null,
       "colour": null,
       "elapsed": 0.017683744430541992,
       "initial": 0,
       "n": 0,
       "ncols": null,
       "nrows": 9,
       "postfix": null,
       "prefix": "",
       "rate": null,
       "total": 34,
       "unit": "it",
       "unit_divisor": 1000,
       "unit_scale": false
      },
      "application/vnd.jupyter.widget-view+json": {
       "model_id": "026525261da74702b3ef372367317db3",
       "version_major": 2,
       "version_minor": 0
      },
      "text/plain": [
       "  0%|          | 0/34 [00:00<?, ?it/s]"
      ]
     },
     "metadata": {},
     "output_type": "display_data"
    },
    {
     "name": "stdout",
     "output_type": "stream",
     "text": [
      "Calculating results for model FPCLIPConcatModel in run run_01\n"
     ]
    },
    {
     "name": "stderr",
     "output_type": "stream",
     "text": [
      "Global seed set to 42\n"
     ]
    },
    {
     "data": {
      "application/json": {
       "ascii": false,
       "bar_format": null,
       "colour": null,
       "elapsed": 0.018165111541748047,
       "initial": 0,
       "n": 0,
       "ncols": null,
       "nrows": 9,
       "postfix": null,
       "prefix": "",
       "rate": null,
       "total": 34,
       "unit": "it",
       "unit_divisor": 1000,
       "unit_scale": false
      },
      "application/vnd.jupyter.widget-view+json": {
       "model_id": "0dc3230308b04a9e982feaec9563e1d7",
       "version_major": 2,
       "version_minor": 0
      },
      "text/plain": [
       "  0%|          | 0/34 [00:00<?, ?it/s]"
      ]
     },
     "metadata": {},
     "output_type": "display_data"
    },
    {
     "name": "stdout",
     "output_type": "stream",
     "text": [
      "Calculating results for model FPCLIPConcatModel in run run_02\n"
     ]
    },
    {
     "name": "stderr",
     "output_type": "stream",
     "text": [
      "Global seed set to 42\n"
     ]
    },
    {
     "data": {
      "application/json": {
       "ascii": false,
       "bar_format": null,
       "colour": null,
       "elapsed": 0.01884913444519043,
       "initial": 0,
       "n": 0,
       "ncols": null,
       "nrows": 9,
       "postfix": null,
       "prefix": "",
       "rate": null,
       "total": 34,
       "unit": "it",
       "unit_divisor": 1000,
       "unit_scale": false
      },
      "application/vnd.jupyter.widget-view+json": {
       "model_id": "35046c0d0f4a4a83b6d1f185b260a96f",
       "version_major": 2,
       "version_minor": 0
      },
      "text/plain": [
       "  0%|          | 0/34 [00:00<?, ?it/s]"
      ]
     },
     "metadata": {},
     "output_type": "display_data"
    },
    {
     "name": "stdout",
     "output_type": "stream",
     "text": [
      "Calculating results for model FPCLIPWeightedConcatModel in run run_01\n"
     ]
    },
    {
     "name": "stderr",
     "output_type": "stream",
     "text": [
      "Global seed set to 42\n"
     ]
    },
    {
     "data": {
      "application/json": {
       "ascii": false,
       "bar_format": null,
       "colour": null,
       "elapsed": 0.01692509651184082,
       "initial": 0,
       "n": 0,
       "ncols": null,
       "nrows": 9,
       "postfix": null,
       "prefix": "",
       "rate": null,
       "total": 34,
       "unit": "it",
       "unit_divisor": 1000,
       "unit_scale": false
      },
      "application/vnd.jupyter.widget-view+json": {
       "model_id": "d3596e98740a4bc984353d7565ca0502",
       "version_major": 2,
       "version_minor": 0
      },
      "text/plain": [
       "  0%|          | 0/34 [00:00<?, ?it/s]"
      ]
     },
     "metadata": {},
     "output_type": "display_data"
    },
    {
     "name": "stdout",
     "output_type": "stream",
     "text": [
      "Calculating results for model FPCLIPWeightedConcatModel in run run_02\n"
     ]
    },
    {
     "name": "stderr",
     "output_type": "stream",
     "text": [
      "Global seed set to 42\n"
     ]
    },
    {
     "data": {
      "application/json": {
       "ascii": false,
       "bar_format": null,
       "colour": null,
       "elapsed": 0.016705036163330078,
       "initial": 0,
       "n": 0,
       "ncols": null,
       "nrows": 9,
       "postfix": null,
       "prefix": "",
       "rate": null,
       "total": 34,
       "unit": "it",
       "unit_divisor": 1000,
       "unit_scale": false
      },
      "application/vnd.jupyter.widget-view+json": {
       "model_id": "a422378b58ac41d191f153a604ad6f37",
       "version_major": 2,
       "version_minor": 0
      },
      "text/plain": [
       "  0%|          | 0/34 [00:00<?, ?it/s]"
      ]
     },
     "metadata": {},
     "output_type": "display_data"
    }
   ],
   "source": [
    "models: List[FoodPricingBaseModel] = [\n",
    "    FPCBOWResNet152ConcatBaselineModel,\n",
    "    FPBERTResNet152ConcatModel,\n",
    "    FPBERTResNet152WeightedConcatModel,\n",
    "    FPCLIPConcatModel,\n",
    "    FPCLIPWeightedConcatModel,\n",
    "]\n",
    "\n",
    "for model_class in models:\n",
    "    for run in [\"run_01\", \"run_02\"]:\n",
    "        name = model_class.__name__\n",
    "        print(f\"Calculating results for model {name} in run {run}\")\n",
    "        model = model_class.load_from_best_checkpoint(run=run)\n",
    "        model.hparams.update({\"store_submission_frame\": False})\n",
    "        submission_frame = model.make_submission_frame()\n",
    "        \n",
    "        store_results(results, submission_frame, name, run)"
   ]
  },
  {
   "cell_type": "code",
   "execution_count": 11,
   "metadata": {},
   "outputs": [
    {
     "data": {
      "text/html": [
       "<div>\n",
       "<style scoped>\n",
       "    .dataframe tbody tr th:only-of-type {\n",
       "        vertical-align: middle;\n",
       "    }\n",
       "\n",
       "    .dataframe tbody tr th {\n",
       "        vertical-align: top;\n",
       "    }\n",
       "\n",
       "    .dataframe thead th {\n",
       "        text-align: right;\n",
       "    }\n",
       "</style>\n",
       "<table border=\"1\" class=\"dataframe\">\n",
       "  <thead>\n",
       "    <tr style=\"text-align: right;\">\n",
       "      <th></th>\n",
       "      <th></th>\n",
       "      <th>MSE</th>\n",
       "      <th>RMSE</th>\n",
       "      <th>MAE</th>\n",
       "    </tr>\n",
       "    <tr>\n",
       "      <th>Model</th>\n",
       "      <th>Run</th>\n",
       "      <th></th>\n",
       "      <th></th>\n",
       "      <th></th>\n",
       "    </tr>\n",
       "  </thead>\n",
       "  <tbody>\n",
       "    <tr>\n",
       "      <th>FPMeanBaselineModel</th>\n",
       "      <th></th>\n",
       "      <td>37.629804</td>\n",
       "      <td>6.134314</td>\n",
       "      <td>4.201829</td>\n",
       "    </tr>\n",
       "    <tr>\n",
       "      <th>XGBBERTResNet152</th>\n",
       "      <th></th>\n",
       "      <td>19.830486</td>\n",
       "      <td>4.453143</td>\n",
       "      <td>2.552919</td>\n",
       "    </tr>\n",
       "    <tr>\n",
       "      <th>XGBCLIP</th>\n",
       "      <th></th>\n",
       "      <td>13.453174</td>\n",
       "      <td>3.667857</td>\n",
       "      <td>2.056221</td>\n",
       "    </tr>\n",
       "    <tr>\n",
       "      <th rowspan=\"2\" valign=\"top\">FPCBOWResNet152ConcatBaselineModel</th>\n",
       "      <th>run_01</th>\n",
       "      <td>12.800708</td>\n",
       "      <td>3.577808</td>\n",
       "      <td>1.99431</td>\n",
       "    </tr>\n",
       "    <tr>\n",
       "      <th>run_02</th>\n",
       "      <td>15.227577</td>\n",
       "      <td>3.902253</td>\n",
       "      <td>2.091247</td>\n",
       "    </tr>\n",
       "    <tr>\n",
       "      <th rowspan=\"2\" valign=\"top\">FPBERTResNet152ConcatModel</th>\n",
       "      <th>run_01</th>\n",
       "      <td>9.899526</td>\n",
       "      <td>3.146351</td>\n",
       "      <td>1.597303</td>\n",
       "    </tr>\n",
       "    <tr>\n",
       "      <th>run_02</th>\n",
       "      <td>9.823975</td>\n",
       "      <td>3.134322</td>\n",
       "      <td>1.523461</td>\n",
       "    </tr>\n",
       "    <tr>\n",
       "      <th rowspan=\"2\" valign=\"top\">FPBERTResNet152WeightedConcatModel</th>\n",
       "      <th>run_01</th>\n",
       "      <td>8.785368</td>\n",
       "      <td>2.964012</td>\n",
       "      <td>1.430603</td>\n",
       "    </tr>\n",
       "    <tr>\n",
       "      <th>run_02</th>\n",
       "      <td>9.442002</td>\n",
       "      <td>3.072784</td>\n",
       "      <td>1.498697</td>\n",
       "    </tr>\n",
       "    <tr>\n",
       "      <th rowspan=\"2\" valign=\"top\">FPCLIPConcatModel</th>\n",
       "      <th>run_01</th>\n",
       "      <td>9.663844</td>\n",
       "      <td>3.108672</td>\n",
       "      <td>1.497017</td>\n",
       "    </tr>\n",
       "    <tr>\n",
       "      <th>run_02</th>\n",
       "      <td>11.158245</td>\n",
       "      <td>3.340396</td>\n",
       "      <td>1.531476</td>\n",
       "    </tr>\n",
       "    <tr>\n",
       "      <th rowspan=\"2\" valign=\"top\">FPCLIPWeightedConcatModel</th>\n",
       "      <th>run_01</th>\n",
       "      <td>10.076514</td>\n",
       "      <td>3.174352</td>\n",
       "      <td>1.563073</td>\n",
       "    </tr>\n",
       "    <tr>\n",
       "      <th>run_02</th>\n",
       "      <td>10.715085</td>\n",
       "      <td>3.27339</td>\n",
       "      <td>1.623811</td>\n",
       "    </tr>\n",
       "  </tbody>\n",
       "</table>\n",
       "</div>"
      ],
      "text/plain": [
       "                                                 MSE      RMSE       MAE\n",
       "Model                              Run                                  \n",
       "FPMeanBaselineModel                        37.629804  6.134314  4.201829\n",
       "XGBBERTResNet152                           19.830486  4.453143  2.552919\n",
       "XGBCLIP                                    13.453174  3.667857  2.056221\n",
       "FPCBOWResNet152ConcatBaselineModel run_01  12.800708  3.577808   1.99431\n",
       "                                   run_02  15.227577  3.902253  2.091247\n",
       "FPBERTResNet152ConcatModel         run_01   9.899526  3.146351  1.597303\n",
       "                                   run_02   9.823975  3.134322  1.523461\n",
       "FPBERTResNet152WeightedConcatModel run_01   8.785368  2.964012  1.430603\n",
       "                                   run_02   9.442002  3.072784  1.498697\n",
       "FPCLIPConcatModel                  run_01   9.663844  3.108672  1.497017\n",
       "                                   run_02  11.158245  3.340396  1.531476\n",
       "FPCLIPWeightedConcatModel          run_01  10.076514  3.174352  1.563073\n",
       "                                   run_02  10.715085   3.27339  1.623811"
      ]
     },
     "execution_count": 11,
     "metadata": {},
     "output_type": "execute_result"
    }
   ],
   "source": [
    "results"
   ]
  },
  {
   "cell_type": "code",
   "execution_count": 13,
   "metadata": {},
   "outputs": [
    {
     "data": {
      "text/html": [
       "<style type=\"text/css\">\n",
       "</style>\n",
       "<table id=\"T_600f6\">\n",
       "  <thead>\n",
       "    <tr>\n",
       "      <th class=\"blank\" >&nbsp;</th>\n",
       "      <th class=\"blank level0\" >&nbsp;</th>\n",
       "      <th id=\"T_600f6_level0_col0\" class=\"col_heading level0 col0\" >MSE</th>\n",
       "      <th id=\"T_600f6_level0_col1\" class=\"col_heading level0 col1\" >RMSE</th>\n",
       "      <th id=\"T_600f6_level0_col2\" class=\"col_heading level0 col2\" >MAE</th>\n",
       "    </tr>\n",
       "    <tr>\n",
       "      <th class=\"index_name level0\" >Model</th>\n",
       "      <th class=\"index_name level1\" >Run</th>\n",
       "      <th class=\"blank col0\" >&nbsp;</th>\n",
       "      <th class=\"blank col1\" >&nbsp;</th>\n",
       "      <th class=\"blank col2\" >&nbsp;</th>\n",
       "    </tr>\n",
       "  </thead>\n",
       "  <tbody>\n",
       "    <tr>\n",
       "      <th id=\"T_600f6_level0_row0\" class=\"row_heading level0 row0\" >FPMeanBaselineModel</th>\n",
       "      <th id=\"T_600f6_level1_row0\" class=\"row_heading level1 row0\" ></th>\n",
       "      <td id=\"T_600f6_row0_col0\" class=\"data row0 col0\" >37.63</td>\n",
       "      <td id=\"T_600f6_row0_col1\" class=\"data row0 col1\" >6.13</td>\n",
       "      <td id=\"T_600f6_row0_col2\" class=\"data row0 col2\" >4.20</td>\n",
       "    </tr>\n",
       "    <tr>\n",
       "      <th id=\"T_600f6_level0_row1\" class=\"row_heading level0 row1\" >XGBBERTResNet152</th>\n",
       "      <th id=\"T_600f6_level1_row1\" class=\"row_heading level1 row1\" ></th>\n",
       "      <td id=\"T_600f6_row1_col0\" class=\"data row1 col0\" >19.83</td>\n",
       "      <td id=\"T_600f6_row1_col1\" class=\"data row1 col1\" >4.45</td>\n",
       "      <td id=\"T_600f6_row1_col2\" class=\"data row1 col2\" >2.55</td>\n",
       "    </tr>\n",
       "    <tr>\n",
       "      <th id=\"T_600f6_level0_row2\" class=\"row_heading level0 row2\" >XGBCLIP</th>\n",
       "      <th id=\"T_600f6_level1_row2\" class=\"row_heading level1 row2\" ></th>\n",
       "      <td id=\"T_600f6_row2_col0\" class=\"data row2 col0\" >13.45</td>\n",
       "      <td id=\"T_600f6_row2_col1\" class=\"data row2 col1\" >3.67</td>\n",
       "      <td id=\"T_600f6_row2_col2\" class=\"data row2 col2\" >2.06</td>\n",
       "    </tr>\n",
       "    <tr>\n",
       "      <th id=\"T_600f6_level0_row3\" class=\"row_heading level0 row3\" rowspan=\"2\">FPCBOWResNet152ConcatBaselineModel</th>\n",
       "      <th id=\"T_600f6_level1_row3\" class=\"row_heading level1 row3\" >run_01</th>\n",
       "      <td id=\"T_600f6_row3_col0\" class=\"data row3 col0\" >12.80</td>\n",
       "      <td id=\"T_600f6_row3_col1\" class=\"data row3 col1\" >3.58</td>\n",
       "      <td id=\"T_600f6_row3_col2\" class=\"data row3 col2\" >1.99</td>\n",
       "    </tr>\n",
       "    <tr>\n",
       "      <th id=\"T_600f6_level1_row4\" class=\"row_heading level1 row4\" >run_02</th>\n",
       "      <td id=\"T_600f6_row4_col0\" class=\"data row4 col0\" >15.23</td>\n",
       "      <td id=\"T_600f6_row4_col1\" class=\"data row4 col1\" >3.90</td>\n",
       "      <td id=\"T_600f6_row4_col2\" class=\"data row4 col2\" >2.09</td>\n",
       "    </tr>\n",
       "    <tr>\n",
       "      <th id=\"T_600f6_level0_row5\" class=\"row_heading level0 row5\" rowspan=\"2\">FPBERTResNet152ConcatModel</th>\n",
       "      <th id=\"T_600f6_level1_row5\" class=\"row_heading level1 row5\" >run_01</th>\n",
       "      <td id=\"T_600f6_row5_col0\" class=\"data row5 col0\" >9.90</td>\n",
       "      <td id=\"T_600f6_row5_col1\" class=\"data row5 col1\" >3.15</td>\n",
       "      <td id=\"T_600f6_row5_col2\" class=\"data row5 col2\" >1.60</td>\n",
       "    </tr>\n",
       "    <tr>\n",
       "      <th id=\"T_600f6_level1_row6\" class=\"row_heading level1 row6\" >run_02</th>\n",
       "      <td id=\"T_600f6_row6_col0\" class=\"data row6 col0\" >9.82</td>\n",
       "      <td id=\"T_600f6_row6_col1\" class=\"data row6 col1\" >3.13</td>\n",
       "      <td id=\"T_600f6_row6_col2\" class=\"data row6 col2\" >1.52</td>\n",
       "    </tr>\n",
       "    <tr>\n",
       "      <th id=\"T_600f6_level0_row7\" class=\"row_heading level0 row7\" rowspan=\"2\">FPBERTResNet152WeightedConcatModel</th>\n",
       "      <th id=\"T_600f6_level1_row7\" class=\"row_heading level1 row7\" >run_01</th>\n",
       "      <td id=\"T_600f6_row7_col0\" class=\"data row7 col0\" >8.79</td>\n",
       "      <td id=\"T_600f6_row7_col1\" class=\"data row7 col1\" >2.96</td>\n",
       "      <td id=\"T_600f6_row7_col2\" class=\"data row7 col2\" >1.43</td>\n",
       "    </tr>\n",
       "    <tr>\n",
       "      <th id=\"T_600f6_level1_row8\" class=\"row_heading level1 row8\" >run_02</th>\n",
       "      <td id=\"T_600f6_row8_col0\" class=\"data row8 col0\" >9.44</td>\n",
       "      <td id=\"T_600f6_row8_col1\" class=\"data row8 col1\" >3.07</td>\n",
       "      <td id=\"T_600f6_row8_col2\" class=\"data row8 col2\" >1.50</td>\n",
       "    </tr>\n",
       "    <tr>\n",
       "      <th id=\"T_600f6_level0_row9\" class=\"row_heading level0 row9\" rowspan=\"2\">FPCLIPConcatModel</th>\n",
       "      <th id=\"T_600f6_level1_row9\" class=\"row_heading level1 row9\" >run_01</th>\n",
       "      <td id=\"T_600f6_row9_col0\" class=\"data row9 col0\" >9.66</td>\n",
       "      <td id=\"T_600f6_row9_col1\" class=\"data row9 col1\" >3.11</td>\n",
       "      <td id=\"T_600f6_row9_col2\" class=\"data row9 col2\" >1.50</td>\n",
       "    </tr>\n",
       "    <tr>\n",
       "      <th id=\"T_600f6_level1_row10\" class=\"row_heading level1 row10\" >run_02</th>\n",
       "      <td id=\"T_600f6_row10_col0\" class=\"data row10 col0\" >11.16</td>\n",
       "      <td id=\"T_600f6_row10_col1\" class=\"data row10 col1\" >3.34</td>\n",
       "      <td id=\"T_600f6_row10_col2\" class=\"data row10 col2\" >1.53</td>\n",
       "    </tr>\n",
       "    <tr>\n",
       "      <th id=\"T_600f6_level0_row11\" class=\"row_heading level0 row11\" rowspan=\"2\">FPCLIPWeightedConcatModel</th>\n",
       "      <th id=\"T_600f6_level1_row11\" class=\"row_heading level1 row11\" >run_01</th>\n",
       "      <td id=\"T_600f6_row11_col0\" class=\"data row11 col0\" >10.08</td>\n",
       "      <td id=\"T_600f6_row11_col1\" class=\"data row11 col1\" >3.17</td>\n",
       "      <td id=\"T_600f6_row11_col2\" class=\"data row11 col2\" >1.56</td>\n",
       "    </tr>\n",
       "    <tr>\n",
       "      <th id=\"T_600f6_level1_row12\" class=\"row_heading level1 row12\" >run_02</th>\n",
       "      <td id=\"T_600f6_row12_col0\" class=\"data row12 col0\" >10.72</td>\n",
       "      <td id=\"T_600f6_row12_col1\" class=\"data row12 col1\" >3.27</td>\n",
       "      <td id=\"T_600f6_row12_col2\" class=\"data row12 col2\" >1.62</td>\n",
       "    </tr>\n",
       "  </tbody>\n",
       "</table>\n"
      ],
      "text/plain": [
       "<pandas.io.formats.style.Styler at 0x7f8079f8e100>"
      ]
     },
     "execution_count": 13,
     "metadata": {},
     "output_type": "execute_result"
    }
   ],
   "source": [
    "s = results.style.format(\n",
    "    {\n",
    "        (\"MSE\"): \"{:.2f}\",\n",
    "        (\"RMSE\"): \"{:.2f}\",\n",
    "        (\"MAE\"): \"{:.2f}\",\n",
    "    }\n",
    ")\n",
    "with open(\"./tables/model_results.tex\", mode=\"w\") as f:\n",
    "    s.to_latex(f)\n",
    "s"
   ]
  }
 ],
 "metadata": {
  "kernelspec": {
   "display_name": "Python 3 (ipykernel)",
   "language": "python",
   "name": "python3"
  },
  "language_info": {
   "codemirror_mode": {
    "name": "ipython",
    "version": 3
   },
   "file_extension": ".py",
   "mimetype": "text/x-python",
   "name": "python",
   "nbconvert_exporter": "python",
   "pygments_lexer": "ipython3",
   "version": "3.9.13"
  },
  "vscode": {
   "interpreter": {
    "hash": "7baf0a9355b2187f13b56e3fae033a6ce164fc9add6d7138e9a4da0d4f49a6ad"
   }
  }
 },
 "nbformat": 4,
 "nbformat_minor": 2
}
