{
 "cells": [
  {
   "cell_type": "code",
   "execution_count": 1,
   "id": "2f282f26-f4bd-4dae-b49b-117b961a6107",
   "metadata": {},
   "outputs": [],
   "source": [
    "from src.models.bert import FPBERTResNet152ConcatModel"
   ]
  },
  {
   "cell_type": "code",
   "execution_count": 2,
   "id": "07cf72c6",
   "metadata": {},
   "outputs": [],
   "source": [
    "hparams = {\n",
    "    # Optional hparams\n",
    "    \"language_feature_dim\": 300,\n",
    "    \"vision_feature_dim\": 300,\n",
    "    \"fusion_output_size\": 256,\n",
    "    \"dev_limit\": None,\n",
    "    \"lr\": 3e-03,\n",
    "    \"max_epochs\": 10,\n",
    "    \"accelerator\": \"cpu\",\n",
    "    \"devices\": 1,\n",
    "    \"batch_size\": 32,\n",
    "    # allows us to \"simulate\" having larger batches\n",
    "    \"accumulate_grad_batches\": None,\n",
    "    \"early_stop_patience\": 2,\n",
    "    \"num_sanity_val_steps\": 2,\n",
    "}"
   ]
  },
  {
   "cell_type": "code",
   "execution_count": 3,
   "id": "bd3ff20a",
   "metadata": {},
   "outputs": [
    {
     "name": "stderr",
     "output_type": "stream",
     "text": [
      "INFO:torch.distributed.nn.jit.instantiator:Created a temporary directory at /tmp/tmp0glqk1ih\n",
      "INFO:torch.distributed.nn.jit.instantiator:Writing /tmp/tmp0glqk1ih/_remote_module_non_scriptable.py\n",
      "Some weights of the model checkpoint at dbmdz/bert-base-italian-xxl-uncased were not used when initializing BertModel: ['cls.predictions.transform.dense.weight', 'cls.predictions.transform.dense.bias', 'cls.predictions.transform.LayerNorm.bias', 'cls.predictions.transform.LayerNorm.weight', 'cls.predictions.decoder.bias', 'cls.predictions.decoder.weight', 'cls.seq_relationship.weight', 'cls.predictions.bias', 'cls.seq_relationship.bias']\n",
      "- This IS expected if you are initializing BertModel from the checkpoint of a model trained on another task or with another architecture (e.g. initializing a BertForSequenceClassification model from a BertForPreTraining model).\n",
      "- This IS NOT expected if you are initializing BertModel from the checkpoint of a model that you expect to be exactly identical (initializing a BertForSequenceClassification model from a BertForSequenceClassification model).\n"
     ]
    }
   ],
   "source": [
    "model = FPBERTResNet152ConcatModel(**hparams)"
   ]
  },
  {
   "cell_type": "code",
   "execution_count": 4,
   "id": "dea3fa1e-564d-4235-8451-f0693fab8193",
   "metadata": {},
   "outputs": [],
   "source": [
    "model.fit()"
   ]
  }
 ],
 "metadata": {
  "kernelspec": {
   "display_name": "Python 3 (ipykernel)",
   "language": "python",
   "name": "python3"
  },
  "language_info": {
   "codemirror_mode": {
    "name": "ipython",
    "version": 3
   },
   "file_extension": ".py",
   "mimetype": "text/x-python",
   "name": "python",
   "nbconvert_exporter": "python",
   "pygments_lexer": "ipython3",
   "version": "3.9.13"
  },
  "vscode": {
   "interpreter": {
    "hash": "7baf0a9355b2187f13b56e3fae033a6ce164fc9add6d7138e9a4da0d4f49a6ad"
   }
  }
 },
 "nbformat": 4,
 "nbformat_minor": 5
}
