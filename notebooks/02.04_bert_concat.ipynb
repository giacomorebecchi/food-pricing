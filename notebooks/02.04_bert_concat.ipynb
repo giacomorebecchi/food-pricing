{
 "cells": [
  {
   "cell_type": "code",
   "execution_count": 1,
   "id": "2f282f26-f4bd-4dae-b49b-117b961a6107",
   "metadata": {},
   "outputs": [],
   "source": [
    "from src.models.bert import FPBERTResNet152ConcatModel"
   ]
  },
  {
   "cell_type": "code",
   "execution_count": 2,
   "id": "07cf72c6",
   "metadata": {},
   "outputs": [],
   "source": [
    "hparams = {\n",
    "    # Optional hparams\n",
    "    \"language_feature_dim\": 300,\n",
    "    \"vision_feature_dim\": 300,\n",
    "    \"fusion_output_size\": 256,\n",
    "    \"dev_limit\": None,\n",
    "    \"lr\": 3e-03,\n",
    "    \"max_epochs\": 10,\n",
    "    \"accelerator\": \"cpu\",\n",
    "    \"devices\": 1,\n",
    "    \"batch_size\": 32,\n",
    "    # allows us to \"simulate\" having larger batches\n",
    "    \"accumulate_grad_batches\": None,\n",
    "    \"early_stop_patience\": 2,\n",
    "    \"num_sanity_val_steps\": 2,\n",
    "}"
   ]
  },
  {
   "cell_type": "code",
   "execution_count": 3,
   "id": "bd3ff20a",
   "metadata": {},
   "outputs": [
    {
     "name": "stderr",
     "output_type": "stream",
     "text": [
      "INFO:torch.distributed.nn.jit.instantiator:Created a temporary directory at /tmp/tmp0glqk1ih\n",
      "INFO:torch.distributed.nn.jit.instantiator:Writing /tmp/tmp0glqk1ih/_remote_module_non_scriptable.py\n",
      "Some weights of the model checkpoint at dbmdz/bert-base-italian-xxl-uncased were not used when initializing BertModel: ['cls.predictions.transform.dense.weight', 'cls.predictions.transform.dense.bias', 'cls.predictions.transform.LayerNorm.bias', 'cls.predictions.transform.LayerNorm.weight', 'cls.predictions.decoder.bias', 'cls.predictions.decoder.weight', 'cls.seq_relationship.weight', 'cls.predictions.bias', 'cls.seq_relationship.bias']\n",
      "- This IS expected if you are initializing BertModel from the checkpoint of a model trained on another task or with another architecture (e.g. initializing a BertForSequenceClassification model from a BertForPreTraining model).\n",
      "- This IS NOT expected if you are initializing BertModel from the checkpoint of a model that you expect to be exactly identical (initializing a BertForSequenceClassification model from a BertForSequenceClassification model).\n"
     ]
    }
   ],
   "source": [
    "model = FPBERTResNet152ConcatModel(**hparams)"
   ]
  },
  {
   "cell_type": "code",
   "execution_count": 4,
   "id": "dea3fa1e-564d-4235-8451-f0693fab8193",
   "metadata": {},
   "outputs": [],
   "source": [
    "from knockknock import telegram_sender\n",
    "from src.data.settings import get_notifier_settings\n",
    "\n",
    "settings = get_notifier_settings()\n",
    "\n",
    "@telegram_sender(token=settings.BOT_TOKEN, chat_id=settings.CHAT_ID)\n",
    "def main():\n",
    "    model.fit()"
   ]
  },
  {
   "cell_type": "code",
   "execution_count": 5,
   "id": "4db99150-73b0-4e29-833e-91560c236616",
   "metadata": {},
   "outputs": [
    {
     "name": "stderr",
     "output_type": "stream",
     "text": [
      "GPU available: False, used: False\n",
      "TPU available: False, using: 0 TPU cores\n",
      "IPU available: False, using: 0 IPUs\n",
      "HPU available: False, using: 0 HPUs\n",
      "/home/ubuntu/mambaforge/envs/food-pricing/lib/python3.9/site-packages/pytorch_lightning/callbacks/model_checkpoint.py:611: UserWarning: Checkpoint directory /home/ubuntu/Documents/thesis/food-pricing/models/FPBERTResNet152ConcatModel exists and is not empty.\n",
      "  rank_zero_warn(f\"Checkpoint directory {dirpath} exists and is not empty.\")\n",
      "\n",
      "  | Name          | Type                    | Params\n",
      "----------------------------------------------------------\n",
      "0 | txt_transform | PreTrainedBERT          | 110 M \n",
      "1 | model         | LanguageAndVisionConcat | 59.1 M\n",
      "----------------------------------------------------------\n",
      "999 K     Trainable params\n",
      "168 M     Non-trainable params\n",
      "169 M     Total params\n",
      "679.356   Total estimated model params size (MB)\n"
     ]
    },
    {
     "data": {
      "application/vnd.jupyter.widget-view+json": {
       "model_id": "",
       "version_major": 2,
       "version_minor": 0
      },
      "text/plain": [
       "Sanity Checking: 0it [00:00, ?it/s]"
      ]
     },
     "metadata": {},
     "output_type": "display_data"
    },
    {
     "data": {
      "application/vnd.jupyter.widget-view+json": {
       "model_id": "51a4a1d0d2fb444db2388483ac1b6545",
       "version_major": 2,
       "version_minor": 0
      },
      "text/plain": [
       "Training: 0it [00:00, ?it/s]"
      ]
     },
     "metadata": {},
     "output_type": "display_data"
    },
    {
     "data": {
      "application/vnd.jupyter.widget-view+json": {
       "model_id": "",
       "version_major": 2,
       "version_minor": 0
      },
      "text/plain": [
       "Validation: 0it [00:00, ?it/s]"
      ]
     },
     "metadata": {},
     "output_type": "display_data"
    },
    {
     "name": "stderr",
     "output_type": "stream",
     "text": [
      "Metric avg_val_loss improved. New best score: 157387.562\n",
      "Epoch 0, global step 155: 'avg_val_loss' reached 157387.56250 (best 157387.56250), saving model to '/home/ubuntu/Documents/thesis/food-pricing/models/FPBERTResNet152ConcatModel/epoch=0-avg_val_loss=157387.56.ckpt' as top 1\n"
     ]
    },
    {
     "data": {
      "application/vnd.jupyter.widget-view+json": {
       "model_id": "",
       "version_major": 2,
       "version_minor": 0
      },
      "text/plain": [
       "Validation: 0it [00:00, ?it/s]"
      ]
     },
     "metadata": {},
     "output_type": "display_data"
    },
    {
     "name": "stderr",
     "output_type": "stream",
     "text": [
      "Metric avg_val_loss improved by 22492.922 >= min_delta = 0.001. New best score: 134894.641\n",
      "Epoch 1, global step 310: 'avg_val_loss' reached 134894.64062 (best 134894.64062), saving model to '/home/ubuntu/Documents/thesis/food-pricing/models/FPBERTResNet152ConcatModel/epoch=1-avg_val_loss=134894.64.ckpt' as top 1\n"
     ]
    },
    {
     "data": {
      "application/vnd.jupyter.widget-view+json": {
       "model_id": "",
       "version_major": 2,
       "version_minor": 0
      },
      "text/plain": [
       "Validation: 0it [00:00, ?it/s]"
      ]
     },
     "metadata": {},
     "output_type": "display_data"
    },
    {
     "name": "stderr",
     "output_type": "stream",
     "text": [
      "Metric avg_val_loss improved by 4352.109 >= min_delta = 0.001. New best score: 130542.531\n",
      "Epoch 2, global step 465: 'avg_val_loss' reached 130542.53125 (best 130542.53125), saving model to '/home/ubuntu/Documents/thesis/food-pricing/models/FPBERTResNet152ConcatModel/epoch=2-avg_val_loss=130542.53.ckpt' as top 1\n"
     ]
    },
    {
     "data": {
      "application/vnd.jupyter.widget-view+json": {
       "model_id": "",
       "version_major": 2,
       "version_minor": 0
      },
      "text/plain": [
       "Validation: 0it [00:00, ?it/s]"
      ]
     },
     "metadata": {},
     "output_type": "display_data"
    },
    {
     "name": "stderr",
     "output_type": "stream",
     "text": [
      "Metric avg_val_loss improved by 7637.508 >= min_delta = 0.001. New best score: 122905.023\n",
      "Epoch 3, global step 620: 'avg_val_loss' reached 122905.02344 (best 122905.02344), saving model to '/home/ubuntu/Documents/thesis/food-pricing/models/FPBERTResNet152ConcatModel/epoch=3-avg_val_loss=122905.02.ckpt' as top 1\n"
     ]
    },
    {
     "data": {
      "application/vnd.jupyter.widget-view+json": {
       "model_id": "",
       "version_major": 2,
       "version_minor": 0
      },
      "text/plain": [
       "Validation: 0it [00:00, ?it/s]"
      ]
     },
     "metadata": {},
     "output_type": "display_data"
    },
    {
     "name": "stderr",
     "output_type": "stream",
     "text": [
      "Metric avg_val_loss improved by 703.727 >= min_delta = 0.001. New best score: 122201.297\n",
      "Epoch 4, global step 775: 'avg_val_loss' reached 122201.29688 (best 122201.29688), saving model to '/home/ubuntu/Documents/thesis/food-pricing/models/FPBERTResNet152ConcatModel/epoch=4-avg_val_loss=122201.30.ckpt' as top 1\n"
     ]
    },
    {
     "data": {
      "application/vnd.jupyter.widget-view+json": {
       "model_id": "",
       "version_major": 2,
       "version_minor": 0
      },
      "text/plain": [
       "Validation: 0it [00:00, ?it/s]"
      ]
     },
     "metadata": {},
     "output_type": "display_data"
    },
    {
     "name": "stderr",
     "output_type": "stream",
     "text": [
      "Epoch 5, global step 930: 'avg_val_loss' was not in top 1\n"
     ]
    },
    {
     "data": {
      "application/vnd.jupyter.widget-view+json": {
       "model_id": "",
       "version_major": 2,
       "version_minor": 0
      },
      "text/plain": [
       "Validation: 0it [00:00, ?it/s]"
      ]
     },
     "metadata": {},
     "output_type": "display_data"
    },
    {
     "name": "stderr",
     "output_type": "stream",
     "text": [
      "Metric avg_val_loss improved by 8400.000 >= min_delta = 0.001. New best score: 113801.297\n",
      "Epoch 6, global step 1085: 'avg_val_loss' reached 113801.29688 (best 113801.29688), saving model to '/home/ubuntu/Documents/thesis/food-pricing/models/FPBERTResNet152ConcatModel/epoch=6-avg_val_loss=113801.30.ckpt' as top 1\n"
     ]
    },
    {
     "data": {
      "application/vnd.jupyter.widget-view+json": {
       "model_id": "",
       "version_major": 2,
       "version_minor": 0
      },
      "text/plain": [
       "Validation: 0it [00:00, ?it/s]"
      ]
     },
     "metadata": {},
     "output_type": "display_data"
    },
    {
     "name": "stderr",
     "output_type": "stream",
     "text": [
      "Epoch 7, global step 1240: 'avg_val_loss' was not in top 1\n"
     ]
    },
    {
     "data": {
      "application/vnd.jupyter.widget-view+json": {
       "model_id": "",
       "version_major": 2,
       "version_minor": 0
      },
      "text/plain": [
       "Validation: 0it [00:00, ?it/s]"
      ]
     },
     "metadata": {},
     "output_type": "display_data"
    },
    {
     "name": "stderr",
     "output_type": "stream",
     "text": [
      "Metric avg_val_loss improved by 3053.172 >= min_delta = 0.001. New best score: 110748.125\n",
      "Epoch 8, global step 1395: 'avg_val_loss' reached 110748.12500 (best 110748.12500), saving model to '/home/ubuntu/Documents/thesis/food-pricing/models/FPBERTResNet152ConcatModel/epoch=8-avg_val_loss=110748.12.ckpt' as top 1\n"
     ]
    },
    {
     "data": {
      "application/vnd.jupyter.widget-view+json": {
       "model_id": "",
       "version_major": 2,
       "version_minor": 0
      },
      "text/plain": [
       "Validation: 0it [00:00, ?it/s]"
      ]
     },
     "metadata": {},
     "output_type": "display_data"
    },
    {
     "name": "stderr",
     "output_type": "stream",
     "text": [
      "Metric avg_val_loss improved by 4088.625 >= min_delta = 0.001. New best score: 106659.500\n",
      "Epoch 9, global step 1550: 'avg_val_loss' reached 106659.50000 (best 106659.50000), saving model to '/home/ubuntu/Documents/thesis/food-pricing/models/FPBERTResNet152ConcatModel/epoch=9-avg_val_loss=106659.50.ckpt' as top 1\n"
     ]
    }
   ],
   "source": [
    "main()"
   ]
  },
  {
   "cell_type": "code",
   "execution_count": null,
   "id": "24c15e7e-8483-4b22-b664-5bb5d8f58c0a",
   "metadata": {},
   "outputs": [],
   "source": []
  }
 ],
 "metadata": {
  "kernelspec": {
   "display_name": "Python 3 (ipykernel)",
   "language": "python",
   "name": "python3"
  },
  "language_info": {
   "codemirror_mode": {
    "name": "ipython",
    "version": 3
   },
   "file_extension": ".py",
   "mimetype": "text/x-python",
   "name": "python",
   "nbconvert_exporter": "python",
   "pygments_lexer": "ipython3",
   "version": "3.9.13"
  },
  "vscode": {
   "interpreter": {
    "hash": "7baf0a9355b2187f13b56e3fae033a6ce164fc9add6d7138e9a4da0d4f49a6ad"
   }
  }
 },
 "nbformat": 4,
 "nbformat_minor": 5
}
