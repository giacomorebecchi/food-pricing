{
 "cells": [
  {
   "cell_type": "markdown",
   "metadata": {},
   "source": [
    "# Dataset Visualization"
   ]
  },
  {
   "cell_type": "markdown",
   "metadata": {},
   "source": [
    "### Length of datasets"
   ]
  },
  {
   "cell_type": "markdown",
   "metadata": {},
   "source": [
    "We first analyze the size of the dataset and respectively of the train, dev, and test set."
   ]
  },
  {
   "cell_type": "code",
   "execution_count": 2,
   "metadata": {},
   "outputs": [
    {
     "name": "stdout",
     "output_type": "stream",
     "text": [
      "The length of the whole dataset is: 7061 rows\n"
     ]
    }
   ],
   "source": [
    "import pandas as pd\n",
    "import numpy as np\n",
    "from src.models.utils.data import FoodPricingDataset\n",
    "\n",
    "dataset = FoodPricingDataset(\n",
    "    img_transform=lambda _: _,\n",
    "    txt_transform=lambda _: _,\n",
    "    split=None,\n",
    ")\n",
    "\n",
    "print(f\"The length of the whole dataset is: {len(dataset)} rows\")"
   ]
  },
  {
   "cell_type": "code",
   "execution_count": 8,
   "metadata": {},
   "outputs": [
    {
     "name": "stdout",
     "output_type": "stream",
     "text": [
      "Length of train set: 4942 (70%)\n",
      "Length of dev set: 1059 (15%)\n",
      "Length of test set: 1060 (15%)\n"
     ]
    }
   ],
   "source": [
    "df = dataset.data\n",
    "\n",
    "len_dev = len(df[df[\"split\"] == \"dev\"])\n",
    "len_test = len(df[df[\"split\"] == \"test\"])\n",
    "\n",
    "def print_len(split: str) -> None:\n",
    "    len_split = len(df[df[\"split\"] == split])\n",
    "    print(f\"Length of {split} set: {len_split} ({round(100*(len_split) / len(dataset))}%)\")\n",
    "\n",
    "\n",
    "for split in [\"train\", \"dev\", \"test\"]:\n",
    "    print_len(split)"
   ]
  },
  {
   "cell_type": "markdown",
   "metadata": {},
   "source": [
    "### Analysis of the training dataset"
   ]
  },
  {
   "cell_type": "markdown",
   "metadata": {},
   "source": [
    "We first visualize some examples of images, texts and prices."
   ]
  },
  {
   "cell_type": "markdown",
   "metadata": {},
   "source": []
  }
 ],
 "metadata": {
  "kernelspec": {
   "display_name": "Python 3.9.13 ('food-pricing')",
   "language": "python",
   "name": "python3"
  },
  "language_info": {
   "codemirror_mode": {
    "name": "ipython",
    "version": 3
   },
   "file_extension": ".py",
   "mimetype": "text/x-python",
   "name": "python",
   "nbconvert_exporter": "python",
   "pygments_lexer": "ipython3",
   "version": "3.9.13"
  },
  "orig_nbformat": 4,
  "vscode": {
   "interpreter": {
    "hash": "7baf0a9355b2187f13b56e3fae033a6ce164fc9add6d7138e9a4da0d4f49a6ad"
   }
  }
 },
 "nbformat": 4,
 "nbformat_minor": 2
}
