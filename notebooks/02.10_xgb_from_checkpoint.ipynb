{
 "cells": [
  {
   "cell_type": "code",
   "execution_count": 1,
   "metadata": {},
   "outputs": [],
   "source": [
    "from src.models.xgb import XGBCLIP"
   ]
  },
  {
   "cell_type": "code",
   "execution_count": 2,
   "metadata": {},
   "outputs": [],
   "source": [
    "xgb = XGBCLIP.load_from_best_checkpoint()"
   ]
  },
  {
   "cell_type": "code",
   "execution_count": 3,
   "metadata": {},
   "outputs": [],
   "source": [
    "submission_frame = xgb.make_submission_frame()"
   ]
  },
  {
   "cell_type": "code",
   "execution_count": 4,
   "metadata": {},
   "outputs": [
    {
     "data": {
      "text/html": [
       "<div>\n",
       "<style scoped>\n",
       "    .dataframe tbody tr th:only-of-type {\n",
       "        vertical-align: middle;\n",
       "    }\n",
       "\n",
       "    .dataframe tbody tr th {\n",
       "        vertical-align: top;\n",
       "    }\n",
       "\n",
       "    .dataframe thead th {\n",
       "        text-align: right;\n",
       "    }\n",
       "</style>\n",
       "<table border=\"1\" class=\"dataframe\">\n",
       "  <thead>\n",
       "    <tr style=\"text-align: right;\">\n",
       "      <th></th>\n",
       "      <th>true</th>\n",
       "      <th>pred</th>\n",
       "    </tr>\n",
       "  </thead>\n",
       "  <tbody>\n",
       "    <tr>\n",
       "      <th>bergamo_alzano-lombardo_pony-burger_5</th>\n",
       "      <td>850.0</td>\n",
       "      <td>967.276184</td>\n",
       "    </tr>\n",
       "    <tr>\n",
       "      <th>bergamo_centro-storico_bar-mada_1</th>\n",
       "      <td>1490.0</td>\n",
       "      <td>1674.593506</td>\n",
       "    </tr>\n",
       "    <tr>\n",
       "      <th>bergamo_centro-storico_bar-mada_14</th>\n",
       "      <td>500.0</td>\n",
       "      <td>411.055359</td>\n",
       "    </tr>\n",
       "    <tr>\n",
       "      <th>bergamo_centro-storico_bar-mada_17</th>\n",
       "      <td>1240.0</td>\n",
       "      <td>1041.244263</td>\n",
       "    </tr>\n",
       "    <tr>\n",
       "      <th>bergamo_centro-storico_bar-mada_24</th>\n",
       "      <td>490.0</td>\n",
       "      <td>1062.394409</td>\n",
       "    </tr>\n",
       "    <tr>\n",
       "      <th>...</th>\n",
       "      <td>...</td>\n",
       "      <td>...</td>\n",
       "    </tr>\n",
       "    <tr>\n",
       "      <th>roma_villaggio-olimpico_enso_7</th>\n",
       "      <td>350.0</td>\n",
       "      <td>389.634766</td>\n",
       "    </tr>\n",
       "    <tr>\n",
       "      <th>roma_villaggio-olimpico_enso_75</th>\n",
       "      <td>2000.0</td>\n",
       "      <td>1793.551147</td>\n",
       "    </tr>\n",
       "    <tr>\n",
       "      <th>roma_villaggio-olimpico_enso_78</th>\n",
       "      <td>1000.0</td>\n",
       "      <td>789.291321</td>\n",
       "    </tr>\n",
       "    <tr>\n",
       "      <th>roma_villaggio-olimpico_enso_80</th>\n",
       "      <td>800.0</td>\n",
       "      <td>370.078400</td>\n",
       "    </tr>\n",
       "    <tr>\n",
       "      <th>roma_villaggio-olimpico_enso_82</th>\n",
       "      <td>1000.0</td>\n",
       "      <td>1203.017090</td>\n",
       "    </tr>\n",
       "  </tbody>\n",
       "</table>\n",
       "<p>1060 rows × 2 columns</p>\n",
       "</div>"
      ],
      "text/plain": [
       "                                         true         pred\n",
       "bergamo_alzano-lombardo_pony-burger_5   850.0   967.276184\n",
       "bergamo_centro-storico_bar-mada_1      1490.0  1674.593506\n",
       "bergamo_centro-storico_bar-mada_14      500.0   411.055359\n",
       "bergamo_centro-storico_bar-mada_17     1240.0  1041.244263\n",
       "bergamo_centro-storico_bar-mada_24      490.0  1062.394409\n",
       "...                                       ...          ...\n",
       "roma_villaggio-olimpico_enso_7          350.0   389.634766\n",
       "roma_villaggio-olimpico_enso_75        2000.0  1793.551147\n",
       "roma_villaggio-olimpico_enso_78        1000.0   789.291321\n",
       "roma_villaggio-olimpico_enso_80         800.0   370.078400\n",
       "roma_villaggio-olimpico_enso_82        1000.0  1203.017090\n",
       "\n",
       "[1060 rows x 2 columns]"
      ]
     },
     "execution_count": 4,
     "metadata": {},
     "output_type": "execute_result"
    }
   ],
   "source": [
    "submission_frame"
   ]
  },
  {
   "cell_type": "code",
   "execution_count": null,
   "metadata": {},
   "outputs": [],
   "source": []
  }
 ],
 "metadata": {
  "kernelspec": {
   "display_name": "Python 3.9.13 ('food-pricing')",
   "language": "python",
   "name": "python3"
  },
  "language_info": {
   "codemirror_mode": {
    "name": "ipython",
    "version": 3
   },
   "file_extension": ".py",
   "mimetype": "text/x-python",
   "name": "python",
   "nbconvert_exporter": "python",
   "pygments_lexer": "ipython3",
   "version": "3.9.13"
  },
  "orig_nbformat": 4,
  "vscode": {
   "interpreter": {
    "hash": "7baf0a9355b2187f13b56e3fae033a6ce164fc9add6d7138e9a4da0d4f49a6ad"
   }
  }
 },
 "nbformat": 4,
 "nbformat_minor": 2
}
